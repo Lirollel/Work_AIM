{
 "cells": [
  {
   "cell_type": "code",
   "execution_count": 1,
   "metadata": {},
   "outputs": [],
   "source": [
    "import pandas as pd\n",
    "import numpy as np\n",
    "from datetime import date, timedelta\n",
    "import seaborn as sns\n",
    "import matplotlib.pyplot as plt"
   ]
  },
  {
   "cell_type": "code",
   "execution_count": 230,
   "metadata": {},
   "outputs": [
    {
     "data": {
      "text/plain": [
       "('01/04/24', '27/03/24')"
      ]
     },
     "execution_count": 230,
     "metadata": {},
     "output_type": "execute_result"
    }
   ],
   "source": [
    "TD = date.today() \n",
    "TD_str = str(TD)\n",
    "today = '/'.join([TD_str[8:10], TD_str[5:7], TD_str[2:4]])\n",
    "LD = date.today() - timedelta(days = 5)\n",
    "LD_str = str(LD)\n",
    "last_day = '/'.join([LD_str[8:10], LD_str[5:7], LD_str[2:4]])\n",
    "today,last_day"
   ]
  },
  {
   "cell_type": "code",
   "execution_count": 2,
   "metadata": {},
   "outputs": [],
   "source": [
    "import sys\n",
    "sys.path.append(\"C:\\\\Users\\\\KlimovaAnnaA\\\\Documents\\\\MyFiles\\\\Projects\\\\OCP\")\n",
    "from Defs import merge_SalesUnits\n",
    "from Defs import merge_Mapping\n",
    "from Defs import Period\n",
    "from Defs import new_list\n",
    "from Defs import export_from_RISKCUSTOM\n",
    "from Defs import add_in_currency_column"
   ]
  },
  {
   "cell_type": "markdown",
   "metadata": {},
   "source": [
    "Cash:"
   ]
  },
  {
   "cell_type": "code",
   "execution_count": 17,
   "metadata": {},
   "outputs": [
    {
     "name": "stderr",
     "output_type": "stream",
     "text": [
      "C:\\Users\\KlimovaAnnaA\\Documents\\MyFiles\\Projects\\OCP\\Defs.py:78: UserWarning: pandas only supports SQLAlchemy connectable (engine/connection) or database string URI or sqlite3 DBAPI2 connection. Other DBAPI2 objects are not tested. Please consider using SQLAlchemy.\n",
      "  data_export = pd.read_sql(query, con=connection)\n"
     ]
    },
    {
     "data": {
      "text/html": [
       "<div>\n",
       "<style scoped>\n",
       "    .dataframe tbody tr th:only-of-type {\n",
       "        vertical-align: middle;\n",
       "    }\n",
       "\n",
       "    .dataframe tbody tr th {\n",
       "        vertical-align: top;\n",
       "    }\n",
       "\n",
       "    .dataframe thead th {\n",
       "        text-align: right;\n",
       "    }\n",
       "</style>\n",
       "<table border=\"1\" class=\"dataframe\">\n",
       "  <thead>\n",
       "    <tr style=\"text-align: right;\">\n",
       "      <th></th>\n",
       "      <th>holding</th>\n",
       "      <th>cash</th>\n",
       "      <th>reportDate</th>\n",
       "    </tr>\n",
       "  </thead>\n",
       "  <tbody>\n",
       "    <tr>\n",
       "      <th>109</th>\n",
       "      <td>SUEK</td>\n",
       "      <td>3.833431e+07</td>\n",
       "      <td>2024-03-27</td>\n",
       "    </tr>\n",
       "    <tr>\n",
       "      <th>110</th>\n",
       "      <td>EUROCHEM</td>\n",
       "      <td>5.143964e+07</td>\n",
       "      <td>2024-03-28</td>\n",
       "    </tr>\n",
       "    <tr>\n",
       "      <th>111</th>\n",
       "      <td>SUEK</td>\n",
       "      <td>3.427343e+07</td>\n",
       "      <td>2024-03-28</td>\n",
       "    </tr>\n",
       "    <tr>\n",
       "      <th>112</th>\n",
       "      <td>SUEK</td>\n",
       "      <td>1.975150e+07</td>\n",
       "      <td>2024-03-29</td>\n",
       "    </tr>\n",
       "    <tr>\n",
       "      <th>113</th>\n",
       "      <td>EUROCHEM</td>\n",
       "      <td>6.379268e+07</td>\n",
       "      <td>2024-03-31</td>\n",
       "    </tr>\n",
       "    <tr>\n",
       "      <th>114</th>\n",
       "      <td>SUEK</td>\n",
       "      <td>1.664102e+07</td>\n",
       "      <td>2024-03-31</td>\n",
       "    </tr>\n",
       "  </tbody>\n",
       "</table>\n",
       "</div>"
      ],
      "text/plain": [
       "      holding          cash reportDate\n",
       "109      SUEK  3.833431e+07 2024-03-27\n",
       "110  EUROCHEM  5.143964e+07 2024-03-28\n",
       "111      SUEK  3.427343e+07 2024-03-28\n",
       "112      SUEK  1.975150e+07 2024-03-29\n",
       "113  EUROCHEM  6.379268e+07 2024-03-31\n",
       "114      SUEK  1.664102e+07 2024-03-31"
      ]
     },
     "execution_count": 17,
     "metadata": {},
     "output_type": "execute_result"
    }
   ],
   "source": [
    "query = \"\"\"\n",
    "SELECT \"holding\", SUM(\"balanceUsd\") AS \"cash\", \"reportDate\"\n",
    "FROM \"RISKACCESS\".\"bankAccountsBalanceDaily\"\n",
    "WHERE \"accountStatus\" = 'active' AND \"bankCountryCode\" = 'RU' \n",
    "AND \"reportDate\" >= trunc(sysdate - interval '3' month)\n",
    "GROUP BY \"holding\", \"reportDate\"\n",
    "ORDER BY \"reportDate\"\n",
    "\"\"\"\n",
    "\n",
    "data_cash = export_from_RISKCUSTOM(query)\n",
    "data_cash = data_cash.sort_values(['reportDate', 'holding']).reset_index(drop=True)\n",
    "data_cash.tail(6)"
   ]
  },
  {
   "cell_type": "code",
   "execution_count": 18,
   "metadata": {},
   "outputs": [
    {
     "name": "stderr",
     "output_type": "stream",
     "text": [
      "C:\\Users\\KlimovaAnnaA\\Documents\\MyFiles\\Projects\\OCP\\Defs.py:78: UserWarning: pandas only supports SQLAlchemy connectable (engine/connection) or database string URI or sqlite3 DBAPI2 connection. Other DBAPI2 objects are not tested. Please consider using SQLAlchemy.\n",
      "  data_export = pd.read_sql(query, con=connection)\n",
      "C:\\Users\\KlimovaAnnaA\\Documents\\MyFiles\\Projects\\OCP\\Defs.py:78: UserWarning: pandas only supports SQLAlchemy connectable (engine/connection) or database string URI or sqlite3 DBAPI2 connection. Other DBAPI2 objects are not tested. Please consider using SQLAlchemy.\n",
      "  data_export = pd.read_sql(query, con=connection)\n",
      "C:\\Users\\KlimovaAnnaA\\Documents\\MyFiles\\Projects\\OCP\\Defs.py:109: FutureWarning: Downcasting behavior in `replace` is deprecated and will be removed in a future version. To retain the old behavior, explicitly call `result.infer_objects(copy=False)`. To opt-in to the future behavior, set `pd.set_option('future.no_silent_downcasting', True)`\n",
      "  df[f'Coef_to_{CCY_to}'] = df[col_with_CCY].replace(coef_dict)\n"
     ]
    },
    {
     "data": {
      "text/html": [
       "<div>\n",
       "<style scoped>\n",
       "    .dataframe tbody tr th:only-of-type {\n",
       "        vertical-align: middle;\n",
       "    }\n",
       "\n",
       "    .dataframe tbody tr th {\n",
       "        vertical-align: top;\n",
       "    }\n",
       "\n",
       "    .dataframe thead th {\n",
       "        text-align: right;\n",
       "    }\n",
       "</style>\n",
       "<table border=\"1\" class=\"dataframe\">\n",
       "  <thead>\n",
       "    <tr style=\"text-align: right;\">\n",
       "      <th></th>\n",
       "      <th>holding</th>\n",
       "      <th>pre_overdraft</th>\n",
       "      <th>reportDate</th>\n",
       "      <th>limit</th>\n",
       "      <th>overdraft</th>\n",
       "      <th>CCY</th>\n",
       "      <th>Coef_to_USD</th>\n",
       "      <th>available_ovedraft</th>\n",
       "    </tr>\n",
       "  </thead>\n",
       "  <tbody>\n",
       "    <tr>\n",
       "      <th>100</th>\n",
       "      <td>EUROCHEM</td>\n",
       "      <td>1.784129e+09</td>\n",
       "      <td>2024-03-29</td>\n",
       "      <td>8000000000</td>\n",
       "      <td>6.215871e+09</td>\n",
       "      <td>RUB</td>\n",
       "      <td>0.010815</td>\n",
       "      <td>6.722659e+07</td>\n",
       "    </tr>\n",
       "    <tr>\n",
       "      <th>101</th>\n",
       "      <td>SUEK</td>\n",
       "      <td>0.000000e+00</td>\n",
       "      <td>2024-03-29</td>\n",
       "      <td>15000000000</td>\n",
       "      <td>1.500000e+10</td>\n",
       "      <td>RUB</td>\n",
       "      <td>0.010815</td>\n",
       "      <td>1.622297e+08</td>\n",
       "    </tr>\n",
       "    <tr>\n",
       "      <th>102</th>\n",
       "      <td>EUROCHEM</td>\n",
       "      <td>3.290253e+09</td>\n",
       "      <td>2024-03-30</td>\n",
       "      <td>8000000000</td>\n",
       "      <td>4.709747e+09</td>\n",
       "      <td>RUB</td>\n",
       "      <td>0.010815</td>\n",
       "      <td>5.093738e+07</td>\n",
       "    </tr>\n",
       "    <tr>\n",
       "      <th>103</th>\n",
       "      <td>SUEK</td>\n",
       "      <td>8.753454e+09</td>\n",
       "      <td>2024-03-30</td>\n",
       "      <td>15000000000</td>\n",
       "      <td>6.246546e+09</td>\n",
       "      <td>RUB</td>\n",
       "      <td>0.010815</td>\n",
       "      <td>6.755834e+07</td>\n",
       "    </tr>\n",
       "    <tr>\n",
       "      <th>104</th>\n",
       "      <td>EUROCHEM</td>\n",
       "      <td>3.290253e+09</td>\n",
       "      <td>2024-03-31</td>\n",
       "      <td>8000000000</td>\n",
       "      <td>4.709747e+09</td>\n",
       "      <td>RUB</td>\n",
       "      <td>0.010815</td>\n",
       "      <td>5.093738e+07</td>\n",
       "    </tr>\n",
       "    <tr>\n",
       "      <th>105</th>\n",
       "      <td>SUEK</td>\n",
       "      <td>8.753454e+09</td>\n",
       "      <td>2024-03-31</td>\n",
       "      <td>15000000000</td>\n",
       "      <td>6.246546e+09</td>\n",
       "      <td>RUB</td>\n",
       "      <td>0.010815</td>\n",
       "      <td>6.755834e+07</td>\n",
       "    </tr>\n",
       "  </tbody>\n",
       "</table>\n",
       "</div>"
      ],
      "text/plain": [
       "      holding  pre_overdraft reportDate        limit     overdraft  CCY  \\\n",
       "100  EUROCHEM   1.784129e+09 2024-03-29   8000000000  6.215871e+09  RUB   \n",
       "101      SUEK   0.000000e+00 2024-03-29  15000000000  1.500000e+10  RUB   \n",
       "102  EUROCHEM   3.290253e+09 2024-03-30   8000000000  4.709747e+09  RUB   \n",
       "103      SUEK   8.753454e+09 2024-03-30  15000000000  6.246546e+09  RUB   \n",
       "104  EUROCHEM   3.290253e+09 2024-03-31   8000000000  4.709747e+09  RUB   \n",
       "105      SUEK   8.753454e+09 2024-03-31  15000000000  6.246546e+09  RUB   \n",
       "\n",
       "     Coef_to_USD  available_ovedraft  \n",
       "100     0.010815        6.722659e+07  \n",
       "101     0.010815        1.622297e+08  \n",
       "102     0.010815        5.093738e+07  \n",
       "103     0.010815        6.755834e+07  \n",
       "104     0.010815        5.093738e+07  \n",
       "105     0.010815        6.755834e+07  "
      ]
     },
     "execution_count": 18,
     "metadata": {},
     "output_type": "execute_result"
    }
   ],
   "source": [
    "query = \"\"\"\n",
    "SELECT \"companyCode\" AS \"holding\", SUM(\"bookValuePositionCurrency\") AS \"pre_overdraft\", \"reportDate\"\n",
    "FROM \"RISKACCESS\".\"sapPositionArrears\"\n",
    "WHERE \"productType\" = 130 AND \"companyCode\" IN ('1100', 'E200') \n",
    "AND \"reportDate\" >= trunc(sysdate - interval '3' month) AND \"reportDate\" <= (SELECT MAX(\"reportDate\") FROM \"RISKACCESS\".\"bankAccountsBalanceDaily\")\n",
    "GROUP BY \"companyCode\", \"reportDate\"\n",
    "ORDER BY \"reportDate\"\n",
    "\"\"\"\n",
    "\n",
    "data_overdraft = export_from_RISKCUSTOM(query) # выгрузка запроса\n",
    "data_overdraft.holding = data_overdraft.holding.replace({'1100': 'SUEK', 'E200':'EUROCHEM'}) # Переименовывание holding\n",
    "holding_df = pd.DataFrame({'reportDate': data_overdraft.reportDate.unique().tolist(), 'hol1':'SUEK', 'hol2':'EUROCHEM'}) # Добавление каждого holding на каждую из дат выгрузки\n",
    "holding_df = holding_df.melt(id_vars='reportDate', value_vars=['hol1', 'hol2'], value_name='holding').drop(columns='variable')\n",
    "data_overdraft = data_overdraft.merge(holding_df, how='right')\n",
    "limit_df = pd.DataFrame({'holding': ['SUEK', 'EUROCHEM'], 'limit': [15000000000, 8000000000]}) # Добавление значения limit для каждого holding\n",
    "data_overdraft = data_overdraft.merge(limit_df, how='left')\n",
    "data_overdraft.pre_overdraft = data_overdraft.pre_overdraft.fillna(0) # Заполнение пустых значений pre_overdraft нулями\n",
    "data_overdraft['overdraft'] = data_overdraft.limit - data_overdraft.pre_overdraft # Вычисление overdraft\n",
    "data_overdraft['CCY'] = 'RUB' # Перевод значений overdraft в USD\n",
    "TD = data_overdraft.reportDate.max()\n",
    "TD_str = str(TD)\n",
    "today = '/'.join([TD_str[8:10], TD_str[5:7], TD_str[2:4]])\n",
    "data_overdraft = add_in_currency_column(data_overdraft, 'CCY', 'overdraft', 'USD', today).rename(columns={'overdraft_in_USD':'available_ovedraft'})\n",
    "data_overdraft = data_overdraft.sort_values(['reportDate', 'holding']).reset_index(drop=True)\n",
    "data_overdraft.tail(6)"
   ]
  },
  {
   "cell_type": "code",
   "execution_count": 19,
   "metadata": {},
   "outputs": [
    {
     "data": {
      "text/html": [
       "<div>\n",
       "<style scoped>\n",
       "    .dataframe tbody tr th:only-of-type {\n",
       "        vertical-align: middle;\n",
       "    }\n",
       "\n",
       "    .dataframe tbody tr th {\n",
       "        vertical-align: top;\n",
       "    }\n",
       "\n",
       "    .dataframe thead th {\n",
       "        text-align: right;\n",
       "    }\n",
       "</style>\n",
       "<table border=\"1\" class=\"dataframe\">\n",
       "  <thead>\n",
       "    <tr style=\"text-align: right;\">\n",
       "      <th></th>\n",
       "      <th>reportDate</th>\n",
       "      <th>holding</th>\n",
       "      <th>cash</th>\n",
       "      <th>available_ovedraft</th>\n",
       "      <th>total</th>\n",
       "      <th>early_trigger</th>\n",
       "      <th>threshold</th>\n",
       "    </tr>\n",
       "  </thead>\n",
       "  <tbody>\n",
       "    <tr>\n",
       "      <th>0</th>\n",
       "      <td>2024-01-09</td>\n",
       "      <td>EUROCHEM</td>\n",
       "      <td>19.379972</td>\n",
       "      <td>58.782782</td>\n",
       "      <td>78.162755</td>\n",
       "      <td>164</td>\n",
       "      <td>93</td>\n",
       "    </tr>\n",
       "    <tr>\n",
       "      <th>1</th>\n",
       "      <td>2024-01-09</td>\n",
       "      <td>SUEK</td>\n",
       "      <td>152.784950</td>\n",
       "      <td>162.229684</td>\n",
       "      <td>315.014635</td>\n",
       "      <td>251</td>\n",
       "      <td>183</td>\n",
       "    </tr>\n",
       "    <tr>\n",
       "      <th>2</th>\n",
       "      <td>2024-01-10</td>\n",
       "      <td>EUROCHEM</td>\n",
       "      <td>13.560661</td>\n",
       "      <td>73.909277</td>\n",
       "      <td>87.469938</td>\n",
       "      <td>164</td>\n",
       "      <td>93</td>\n",
       "    </tr>\n",
       "    <tr>\n",
       "      <th>3</th>\n",
       "      <td>2024-01-10</td>\n",
       "      <td>SUEK</td>\n",
       "      <td>127.121932</td>\n",
       "      <td>162.229684</td>\n",
       "      <td>289.351617</td>\n",
       "      <td>251</td>\n",
       "      <td>183</td>\n",
       "    </tr>\n",
       "    <tr>\n",
       "      <th>4</th>\n",
       "      <td>2024-01-11</td>\n",
       "      <td>EUROCHEM</td>\n",
       "      <td>14.855591</td>\n",
       "      <td>41.920575</td>\n",
       "      <td>56.776167</td>\n",
       "      <td>164</td>\n",
       "      <td>93</td>\n",
       "    </tr>\n",
       "    <tr>\n",
       "      <th>...</th>\n",
       "      <td>...</td>\n",
       "      <td>...</td>\n",
       "      <td>...</td>\n",
       "      <td>...</td>\n",
       "      <td>...</td>\n",
       "      <td>...</td>\n",
       "      <td>...</td>\n",
       "    </tr>\n",
       "    <tr>\n",
       "      <th>58</th>\n",
       "      <td>2024-03-28</td>\n",
       "      <td>EUROCHEM</td>\n",
       "      <td>51.439641</td>\n",
       "      <td>86.522498</td>\n",
       "      <td>137.962139</td>\n",
       "      <td>164</td>\n",
       "      <td>93</td>\n",
       "    </tr>\n",
       "    <tr>\n",
       "      <th>59</th>\n",
       "      <td>2024-03-28</td>\n",
       "      <td>SUEK</td>\n",
       "      <td>34.273425</td>\n",
       "      <td>14.036664</td>\n",
       "      <td>48.310090</td>\n",
       "      <td>251</td>\n",
       "      <td>183</td>\n",
       "    </tr>\n",
       "    <tr>\n",
       "      <th>60</th>\n",
       "      <td>2024-03-29</td>\n",
       "      <td>SUEK</td>\n",
       "      <td>19.751504</td>\n",
       "      <td>162.229684</td>\n",
       "      <td>181.981189</td>\n",
       "      <td>251</td>\n",
       "      <td>183</td>\n",
       "    </tr>\n",
       "    <tr>\n",
       "      <th>61</th>\n",
       "      <td>2024-03-31</td>\n",
       "      <td>EUROCHEM</td>\n",
       "      <td>63.792679</td>\n",
       "      <td>50.937380</td>\n",
       "      <td>114.730059</td>\n",
       "      <td>164</td>\n",
       "      <td>93</td>\n",
       "    </tr>\n",
       "    <tr>\n",
       "      <th>62</th>\n",
       "      <td>2024-03-31</td>\n",
       "      <td>SUEK</td>\n",
       "      <td>16.641016</td>\n",
       "      <td>67.558341</td>\n",
       "      <td>84.199358</td>\n",
       "      <td>251</td>\n",
       "      <td>183</td>\n",
       "    </tr>\n",
       "  </tbody>\n",
       "</table>\n",
       "<p>63 rows × 7 columns</p>\n",
       "</div>"
      ],
      "text/plain": [
       "   reportDate   holding        cash  available_ovedraft       total  \\\n",
       "0  2024-01-09  EUROCHEM   19.379972           58.782782   78.162755   \n",
       "1  2024-01-09      SUEK  152.784950          162.229684  315.014635   \n",
       "2  2024-01-10  EUROCHEM   13.560661           73.909277   87.469938   \n",
       "3  2024-01-10      SUEK  127.121932          162.229684  289.351617   \n",
       "4  2024-01-11  EUROCHEM   14.855591           41.920575   56.776167   \n",
       "..        ...       ...         ...                 ...         ...   \n",
       "58 2024-03-28  EUROCHEM   51.439641           86.522498  137.962139   \n",
       "59 2024-03-28      SUEK   34.273425           14.036664   48.310090   \n",
       "60 2024-03-29      SUEK   19.751504          162.229684  181.981189   \n",
       "61 2024-03-31  EUROCHEM   63.792679           50.937380  114.730059   \n",
       "62 2024-03-31      SUEK   16.641016           67.558341   84.199358   \n",
       "\n",
       "    early_trigger  threshold  \n",
       "0             164         93  \n",
       "1             251        183  \n",
       "2             164         93  \n",
       "3             251        183  \n",
       "4             164         93  \n",
       "..            ...        ...  \n",
       "58            164         93  \n",
       "59            251        183  \n",
       "60            251        183  \n",
       "61            164         93  \n",
       "62            251        183  \n",
       "\n",
       "[63 rows x 7 columns]"
      ]
     },
     "execution_count": 19,
     "metadata": {},
     "output_type": "execute_result"
    }
   ],
   "source": [
    "data_total = data_cash.merge(data_overdraft, how='outer')[['reportDate', 'holding', 'cash', 'available_ovedraft']].sort_values(['reportDate', 'holding']).reset_index(drop=True)\n",
    "data_total = data_total.dropna()\n",
    "data_total['total'] = data_total.cash + data_total.available_ovedraft\n",
    "const_df = pd.DataFrame({'holding':['EUROCHEM', 'SUEK'], 'early_trigger': [164, 251], 'threshold': [93, 183]})\n",
    "data_total = data_total.merge(const_df, how='left')\n",
    "data_total[['cash', 'available_ovedraft', 'total']] = data_total[['cash', 'available_ovedraft', 'total']].astype(int).apply(lambda z: z/10**6)\n",
    "data_total"
   ]
  },
  {
   "cell_type": "markdown",
   "metadata": {},
   "source": [
    "Графики:"
   ]
  },
  {
   "cell_type": "code",
   "execution_count": 83,
   "metadata": {},
   "outputs": [],
   "source": [
    "data_graph = pd.melt(data_total_ECH, id_vars='reportDate', value_vars=['cash', 'overdraft_in_USD', 'total', 'early_trigger', 'threshold']).query(\"variable!='total'\")\n",
    "data_graph_1 = data_graph[~data_graph.variable.isin(['early_trigger', 'threshold'])]\n",
    "data_graph_2 = data_graph[data_graph.variable.isin(['early_trigger', 'threshold'])]"
   ]
  },
  {
   "cell_type": "code",
   "execution_count": 215,
   "metadata": {},
   "outputs": [
    {
     "data": {
      "text/plain": [
       "164"
      ]
     },
     "execution_count": 215,
     "metadata": {},
     "output_type": "execute_result"
    }
   ],
   "source": [
    "data_total.early_trigger[0]"
   ]
  },
  {
   "cell_type": "code",
   "execution_count": 76,
   "metadata": {},
   "outputs": [
    {
     "data": {
      "image/png": "[encoded data removed]",
      "text/plain": [
       "<Figure size 900x500 with 1 Axes>"
      ]
     },
     "metadata": {},
     "output_type": "display_data"
    }
   ],
   "source": [
    "# for i in ['EUROCHEM', 'SUEK']:\n",
    "#     data_plot = data_total.query(\"holding==@i\")\n",
    "\n",
    "#     ax = data_plot.plot(x='reportDate', y=['available_ovedraft', 'cash'], kind='area', stacked=True)\n",
    "\n",
    "#     ax.axhline(y=data_plot.early_trigger[0], color='yellow', label='early_trigger')\n",
    "#     ax.axhline(y=data_plot.threshold[0], color='orange', label='threshold')\n",
    "#     handles, _ = ax.get_legend_handles_labels()\n",
    "#     ax.legend(handles = handles[0:], labels=['overdraft_in_USD', 'cash','early_trigger', 'threshold'])\n",
    "\n",
    "data_plot = data_total.query(\"holding=='EUROCHEM'\")\n",
    "\n",
    "xticks = data_plot.reportDate.tolist()[::3]\n",
    "\n",
    "ax = data_plot.plot(x='reportDate', y=['available_ovedraft', 'cash'], kind='area', stacked=True, figsize=[9, 5], title='EuroChem RUS (mln USD)', colormap='Pastel2', xticks=xticks)\n",
    "\n",
    "ax.axhline(y=data_plot.early_trigger.tolist()[0], color='yellow', label='early_trigger')\n",
    "ax.axhline(y=data_plot.threshold.tolist()[0], color='orange', label='threshold')\n",
    "handles, _ = ax.get_legend_handles_labels()\n",
    "ax.legend(handles = handles[0:], labels=['overdraft_in_USD', 'cash','early_trigger', 'threshold'])\n",
    "start, end = data_plot.reportDate.min(), data_plot.reportDate.max()\n",
    "ax.set_xlim([start, end])\n",
    "\n",
    "\n",
    "plt.savefig('foo.png')\n"
   ]
  },
  {
   "cell_type": "code",
   "execution_count": 73,
   "metadata": {},
   "outputs": [
    {
     "data": {
      "text/plain": [
       "251"
      ]
     },
     "execution_count": 73,
     "metadata": {},
     "output_type": "execute_result"
    }
   ],
   "source": [
    "data_plot.early_trigger.tolist()[0]"
   ]
  },
  {
   "cell_type": "markdown",
   "metadata": {},
   "source": [
    "Запись в файл:"
   ]
  },
  {
   "cell_type": "code",
   "execution_count": 260,
   "metadata": {},
   "outputs": [
    {
     "data": {
      "text/plain": [
       "'2024-03-28_Oper_liquidity_ECh.xlsx'"
      ]
     },
     "execution_count": 260,
     "metadata": {},
     "output_type": "execute_result"
    }
   ],
   "source": [
    "TD = data_total.reportDate.dt.date.unique()[0]\n",
    "TD_str = str(TD)\n",
    "Output_file_ECH = \"_\".join([TD_str, 'Oper_liquidity_ECh.xlsx'])\n",
    "Output_file_SUEK = \"_\".join([TD_str, 'Oper_liquidity_SUEK.xlsx'])\n",
    "\n",
    "# data_total_ECH.to_excel(Output_file_ECH, index=False)"
   ]
  },
  {
   "cell_type": "markdown",
   "metadata": {},
   "source": [
    "Quality_ckeck.Missing_records"
   ]
  },
  {
   "cell_type": "code",
   "execution_count": 11,
   "metadata": {},
   "outputs": [
    {
     "name": "stderr",
     "output_type": "stream",
     "text": [
      "C:\\Users\\KlimovaAnnaA\\Documents\\MyFiles\\Projects\\OCP\\Defs.py:78: UserWarning: pandas only supports SQLAlchemy connectable (engine/connection) or database string URI or sqlite3 DBAPI2 connection. Other DBAPI2 objects are not tested. Please consider using SQLAlchemy.\n",
      "  data_export = pd.read_sql(query, con=connection)\n"
     ]
    }
   ],
   "source": [
    "query = \"\"\"\n",
    "SELECT *\n",
    "FROM \"RISKACCESS\".\"bankAccountsBalanceDaily\"\n",
    "WHERE \"reportDate\" >= trunc(sysdate - interval '30' day)\n",
    "ORDER BY \"reportDate\"\n",
    "\"\"\"\n",
    "\n",
    "data_QC_cash = export_from_RISKCUSTOM(query)"
   ]
  },
  {
   "cell_type": "code",
   "execution_count": 12,
   "metadata": {},
   "outputs": [],
   "source": [
    "data_QC_cash['missing_record'] = data_QC_cash[['buCode', 'bankId', 'accountCurrency', 'accountNumber']].apply(lambda row: '_'.join(row.values.astype(str)), axis=1)\n",
    "\n",
    "last_date = data_QC_cash.reportDate.unique()[-1]\n",
    "pre_last_date = data_QC_cash.reportDate.unique()[-2]\n",
    "data_QC_cash_pre_last_date = data_QC_cash.loc[data_QC_cash.reportDate == pre_last_date, 'missing_record'].tolist()\n",
    "data_QC_cash_last_date = data_QC_cash.loc[data_QC_cash.reportDate == last_date, 'missing_record'].tolist()\n",
    "\n",
    "missing_records = [i for i in data_QC_cash_pre_last_date if i not in data_QC_cash_last_date]\n",
    "\n",
    "data_missing_records = data_QC_cash[(data_QC_cash.missing_record.isin(missing_records)) & (data_QC_cash.reportDate == pre_last_date)]"
   ]
  },
  {
   "cell_type": "markdown",
   "metadata": {},
   "source": [
    "Quality_ckeck.New_records"
   ]
  },
  {
   "cell_type": "code",
   "execution_count": 13,
   "metadata": {},
   "outputs": [],
   "source": [
    "data_QC_cash_pre_last_date = data_QC_cash.loc[data_QC_cash.reportDate != last_date, 'missing_record'].tolist()\n",
    "data_QC_cash_last_date = data_QC_cash.loc[data_QC_cash.reportDate == last_date, 'missing_record'].tolist()\n",
    "\n",
    "new_records = [i for i in data_QC_cash_last_date if i not in data_QC_cash_pre_last_date]\n",
    "\n",
    "data_new_records = data_QC_cash[(data_QC_cash.missing_record.isin(new_records)) & (data_QC_cash.reportDate == last_date)]"
   ]
  },
  {
   "cell_type": "markdown",
   "metadata": {},
   "source": [
    "Quality_ckeck.Mapping"
   ]
  },
  {
   "cell_type": "code",
   "execution_count": 14,
   "metadata": {},
   "outputs": [
    {
     "name": "stderr",
     "output_type": "stream",
     "text": [
      "C:\\Users\\KlimovaAnnaA\\Documents\\MyFiles\\Projects\\OCP\\Defs.py:78: UserWarning: pandas only supports SQLAlchemy connectable (engine/connection) or database string URI or sqlite3 DBAPI2 connection. Other DBAPI2 objects are not tested. Please consider using SQLAlchemy.\n",
      "  data_export = pd.read_sql(query, con=connection)\n",
      "C:\\Users\\KlimovaAnnaA\\Documents\\MyFiles\\Projects\\OCP\\Defs.py:78: UserWarning: pandas only supports SQLAlchemy connectable (engine/connection) or database string URI or sqlite3 DBAPI2 connection. Other DBAPI2 objects are not tested. Please consider using SQLAlchemy.\n",
      "  data_export = pd.read_sql(query, con=connection)\n"
     ]
    },
    {
     "data": {
      "text/html": [
       "<div>\n",
       "<style scoped>\n",
       "    .dataframe tbody tr th:only-of-type {\n",
       "        vertical-align: middle;\n",
       "    }\n",
       "\n",
       "    .dataframe tbody tr th {\n",
       "        vertical-align: top;\n",
       "    }\n",
       "\n",
       "    .dataframe thead th {\n",
       "        text-align: right;\n",
       "    }\n",
       "</style>\n",
       "<table border=\"1\" class=\"dataframe\">\n",
       "  <thead>\n",
       "    <tr style=\"text-align: right;\">\n",
       "      <th></th>\n",
       "      <th>buCode</th>\n",
       "      <th>holding</th>\n",
       "      <th>Map_holding_2</th>\n",
       "    </tr>\n",
       "  </thead>\n",
       "  <tbody>\n",
       "    <tr>\n",
       "      <th>65039</th>\n",
       "      <td>RUBGG</td>\n",
       "      <td>EUROCHEM</td>\n",
       "      <td>SUEK</td>\n",
       "    </tr>\n",
       "    <tr>\n",
       "      <th>67105</th>\n",
       "      <td>AEMNG</td>\n",
       "      <td>EUROCHEM</td>\n",
       "      <td>External</td>\n",
       "    </tr>\n",
       "  </tbody>\n",
       "</table>\n",
       "</div>"
      ],
      "text/plain": [
       "      buCode   holding Map_holding_2\n",
       "65039  RUBGG  EUROCHEM          SUEK\n",
       "67105  AEMNG  EUROCHEM      External"
      ]
     },
     "execution_count": 14,
     "metadata": {},
     "output_type": "execute_result"
    }
   ],
   "source": [
    "data_QC_cash['Map_holding'] = merge_SalesUnits(data_QC_cash, col='buCode', merge_col='holding')\n",
    "data_QC_cash['Map_holding_2'] = merge_SalesUnits(data_QC_cash, col='buCode', id_col='oebs12ShortCode', merge_col='holding')\n",
    "data_QC_cash.loc[data_QC_cash.Map_holding_2 == 'External' ,'Map_holding_2'] = data_QC_cash.loc[data_QC_cash.Map_holding_2 == 'External' ,'Map_holding']\n",
    "data_map_holding = data_QC_cash.loc[(data_QC_cash.Map_holding_2 != data_QC_cash.holding) & (data_QC_cash.reportDate == data_QC_cash.reportDate.max()), ['buCode', 'holding', 'Map_holding_2']].drop_duplicates()\n",
    "data_map_holding"
   ]
  },
  {
   "cell_type": "code",
   "execution_count": 15,
   "metadata": {},
   "outputs": [],
   "source": [
    "Output_file = str(last_date)[:10] + '_Oper_liquidity_QC.xlsx'\n",
    "data_missing_records.to_excel(Output_file, sheet_name='Пропавшие_счета')\n",
    "new_list(data_new_records, Output_file, sheet_name='Новые_счета', index=True)\n",
    "new_list(data_map_holding, Output_file, sheet_name='Поиск_в_SalesUnits')"
   ]
  }
 ],
 "metadata": {
  "kernelspec": {
   "display_name": "base",
   "language": "python",
   "name": "python3"
  },
  "language_info": {
   "codemirror_mode": {
    "name": "ipython",
    "version": 3
   },
   "file_extension": ".py",
   "mimetype": "text/x-python",
   "name": "python",
   "nbconvert_exporter": "python",
   "pygments_lexer": "ipython3",
   "version": "3.11.5"
  },
  "orig_nbformat": 4
 },
 "nbformat": 4,
 "nbformat_minor": 2
}
