{
 "cells": [
  {
   "cell_type": "markdown",
   "id": "e4040b33",
   "metadata": {},
   "source": [
    "Заполните данные о необходимых переменных:"
   ]
  },
  {
   "cell_type": "code",
   "execution_count": 9,
   "id": "c600f085",
   "metadata": {},
   "outputs": [],
   "source": [
    "# Group = 'Eurochem'\n",
    "Group = 'SUEK'\n",
    "\n",
    "Data_file = '20231229_daily_account_balance_report.xlsx'\n",
    "Sheet_in_data_file = 'raw_data'\n",
    "\n",
    "Mapping_file = 'C:\\\\Users\\\\KlimovaAnnaA\\\\Documents\\\\MyFiles\\\\Projects\\\\OCP\\\\Методология\\\\Mapping.xlsx'\n",
    "Sheet_in_mapping_file = 'mapping'\n",
    "\n",
    "from datetime import date\n",
    "Output_file = \"_\".join([str(date.today()), Group, 'Cash.xlsx'])\n",
    "Sheet_in_output_file = 'Cash'"
   ]
  },
  {
   "cell_type": "markdown",
   "id": "e3a68f4a",
   "metadata": {},
   "source": [
    "Открываю следующие файлы:"
   ]
  },
  {
   "cell_type": "code",
   "execution_count": 10,
   "id": "2f58abe5",
   "metadata": {},
   "outputs": [],
   "source": [
    "import pandas as pd\n",
    "import numpy as np\n",
    "\n",
    "data_export = pd.read_excel(Data_file, sheet_name = Sheet_in_data_file)\n",
    "data_export.buCode = data_export.buCode.str.lower()"
   ]
  },
  {
   "cell_type": "code",
   "execution_count": null,
   "id": "9cef2bc8",
   "metadata": {},
   "outputs": [],
   "source": [
    "data_mapping = pd.read_excel(Mapping_file, sheet_name = Sheet_in_mapping_file)\n",
    "data_mapping.Code = data_mapping.Code.str.lower()"
   ]
  },
  {
   "cell_type": "markdown",
   "id": "491c72f5",
   "metadata": {},
   "source": [
    "Произвожу расчеты:"
   ]
  },
  {
   "cell_type": "code",
   "execution_count": null,
   "id": "636a451d-2097-426a-8ce5-65150fca88a1",
   "metadata": {},
   "outputs": [],
   "source": [
    "data_export = data_export[data_export['holding'] == Group]\n",
    "\n",
    "data_export['Segment'] = data_export.merge(data_mapping, how = 'left', left_on = 'buCode',\n",
    "                                                                       right_on = 'Code')['Business_segment']\n",
    "\n",
    "data_export['Period'] = '<1M'\n",
    "data_export['impairment'] = 0\n",
    "data_export['Balance_USD'] = data_export['balanceUSD']\n",
    "\n",
    "data_export['balanceUSD'] = data_export['Balance_USD'] * (1-data_export['impairment'])"
   ]
  },
  {
   "cell_type": "markdown",
   "id": "cb093e42",
   "metadata": {},
   "source": [
    "Записываю данные в output file:"
   ]
  },
  {
   "cell_type": "code",
   "execution_count": null,
   "id": "f1d2788c-6389-4bb6-985d-070b4384a3ff",
   "metadata": {},
   "outputs": [],
   "source": [
    "data = data_export\n",
    "data.buCode = data.buCode.str.upper()\n",
    "\n",
    "data.to_excel(Output_file, sheet_name = Sheet_in_output_file, index = False)"
   ]
  }
 ],
 "metadata": {
  "kernelspec": {
   "display_name": "Python 3 (ipykernel)",
   "language": "python",
   "name": "python3"
  },
  "language_info": {
   "codemirror_mode": {
    "name": "ipython",
    "version": 3
   },
   "file_extension": ".py",
   "mimetype": "text/x-python",
   "name": "python",
   "nbconvert_exporter": "python",
   "pygments_lexer": "ipython3",
   "version": "3.11.5"
  }
 },
 "nbformat": 4,
 "nbformat_minor": 5
}
