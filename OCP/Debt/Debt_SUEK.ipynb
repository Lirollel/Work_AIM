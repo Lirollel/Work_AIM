{
 "cells": [
  {
   "cell_type": "markdown",
   "metadata": {},
   "source": [
    "Заполните данные о необходимых переменных:"
   ]
  },
  {
   "cell_type": "code",
   "execution_count": 4,
   "metadata": {},
   "outputs": [],
   "source": [
    "Today = '29/02/24'\n",
    "Mounth = 'Feb'\n",
    "\n",
    "Group = 'SUEK'\n",
    "# Group = 'EUROCHEM'"
   ]
  },
  {
   "cell_type": "code",
   "execution_count": 126,
   "metadata": {},
   "outputs": [
    {
     "data": {
      "text/plain": [
       "'2024-03-21_SUEK_SAP_Debt_Feb.xlsx'"
      ]
     },
     "execution_count": 126,
     "metadata": {},
     "output_type": "execute_result"
    }
   ],
   "source": [
    "from datetime import date\n",
    "Output_file = \"_\".join([str(date.today()), Group, 'SAP', 'Debt', f'{Mounth}.xlsx'])\n",
    "Sheet_in_output_file = 'Debt'\n",
    "Output_file"
   ]
  },
  {
   "cell_type": "markdown",
   "metadata": {},
   "source": [
    "Открываю следующие файлы:"
   ]
  },
  {
   "cell_type": "code",
   "execution_count": 2,
   "metadata": {},
   "outputs": [],
   "source": [
    "import sys\n",
    "sys.path.append(\"C:\\\\Users\\\\KlimovaAnnaA\\\\Documents\\\\MyFiles\\\\Projects\\\\OCP\")\n",
    "from Defs import merge_SalesUnits\n",
    "from Defs import merge_Mapping\n",
    "from Defs import Period\n",
    "from Defs import new_list\n",
    "from Defs import export_from_RISKCUSTOM\n",
    "from Defs import add_in_currency_column"
   ]
  },
  {
   "cell_type": "code",
   "execution_count": 3,
   "metadata": {},
   "outputs": [
    {
     "name": "stderr",
     "output_type": "stream",
     "text": [
      "C:\\Users\\KlimovaAnnaA\\Documents\\MyFiles\\Projects\\OCP\\Defs.py:78: UserWarning: pandas only supports SQLAlchemy connectable (engine/connection) or database string URI or sqlite3 DBAPI2 connection. Other DBAPI2 objects are not tested. Please consider using SQLAlchemy.\n",
      "  data_export = pd.read_sql(query, con=connection)\n"
     ]
    }
   ],
   "source": [
    "query = \"\"\"SELECT * FROM \"RISKACCESS\".\"sapPositionArrears\" WHERE \"reportDate\" = TO_DATE('29/02/24', 'DD/MM/YY') AND \"productType\" in (130,131,132,133)\"\"\"\n",
    "data_export = export_from_RISKCUSTOM(query)"
   ]
  },
  {
   "cell_type": "code",
   "execution_count": 13,
   "metadata": {},
   "outputs": [
    {
     "name": "stderr",
     "output_type": "stream",
     "text": [
      "C:\\Users\\KlimovaAnnaA\\AppData\\Local\\Temp\\ipykernel_15992\\3454748448.py:6: FutureWarning: The provided callable <built-in function sum> is currently using SeriesGroupBy.sum. In a future version of pandas, the provided callable will be used directly. To keep current behavior pass the string \"sum\" instead.\n",
      "  'businessPartnerName', 'creditConditionCurrency', 'termEnd']).agg({'purchaseValueDisplayCurrency' : sum,\n",
      "C:\\Users\\KlimovaAnnaA\\AppData\\Local\\Temp\\ipykernel_15992\\3454748448.py:6: FutureWarning: The provided callable <built-in function sum> is currently using SeriesGroupBy.sum. In a future version of pandas, the provided callable will be used directly. To keep current behavior pass the string \"sum\" instead.\n",
      "  'businessPartnerName', 'creditConditionCurrency', 'termEnd']).agg({'purchaseValueDisplayCurrency' : sum,\n",
      "C:\\Users\\KlimovaAnnaA\\Documents\\MyFiles\\Projects\\OCP\\Defs.py:78: UserWarning: pandas only supports SQLAlchemy connectable (engine/connection) or database string URI or sqlite3 DBAPI2 connection. Other DBAPI2 objects are not tested. Please consider using SQLAlchemy.\n",
      "  data_export = pd.read_sql(query, con=connection)\n",
      "C:\\Users\\KlimovaAnnaA\\Documents\\MyFiles\\Projects\\OCP\\Defs.py:109: FutureWarning: Downcasting behavior in `replace` is deprecated and will be removed in a future version. To retain the old behavior, explicitly call `result.infer_objects(copy=False)`. To opt-in to the future behavior, set `pd.set_option('future.no_silent_downcasting', True)`\n",
      "  df[f'Coef_to_{CCY_to}'] = df[col_with_CCY].replace(coef_dict)\n",
      "C:\\Users\\KlimovaAnnaA\\Documents\\MyFiles\\Projects\\OCP\\Defs.py:44: UserWarning: Parsing dates in %d.%m.%Y format when dayfirst=False (the default) was specified. Pass `dayfirst=True` or specify a format to silence this warning.\n",
      "  day = pd.to_datetime(day_for_count)\n"
     ]
    }
   ],
   "source": [
    "import numpy as np\n",
    "\n",
    "data_Debt = data_export.loc[data_export['productTypeName'].isin(['Транш по займам', 'Транш по кредитам'])].reset_index(drop=True)\n",
    "\n",
    "data_Debt = data_Debt.groupby(['companyName', 'relationshipPartner',\n",
    "       'businessPartnerName', 'creditConditionCurrency', 'termEnd']).agg({'purchaseValueDisplayCurrency' : sum,\n",
    "                                                                          'purchaseValuePositionCurrency' : sum}).reset_index()\n",
    "\n",
    "data_Debt['purchaseValuePositionCurrency'] = data_Debt['purchaseValuePositionCurrency'] * np.sign(data_Debt['purchaseValueDisplayCurrency'])\n",
    "data_Debt = add_in_currency_column(data_Debt, col_with_CCY='creditConditionCurrency', col_with_VAL='purchaseValuePositionCurrency', day_for_export=\"29/02/24\", CCY_to='USD')\n",
    "\n",
    "data_Debt = data_Debt.rename(columns={\"businessPartnerName\": \"Counterparty\", \"companyName\": \"Entity\", \"creditConditionCurrency\": \"Currency\", \"purchaseValuePositionCurrency\": \"amoutn_outstanding\", \"in_USD\": \"amount_USD_eq\", 'purchaseValuePositionCurrency_in_USD':'amount_USD_eq'}).reset_index(drop=True)\n",
    "\n",
    "data_Debt['Entity_code'] = merge_Mapping(data_Debt, col='Entity')\n",
    "data_Debt['Entity_group'] = merge_SalesUnits(data_Debt, col='Entity_code', merge_col='ocpSegment')\n",
    "data_Debt['Counterparty_code'] = merge_Mapping(data_Debt, col='Counterparty')\n",
    "data_Debt['Counterparty_Group'] = merge_SalesUnits(data_Debt, col='Counterparty_code', merge_col='ocpSegment')\n",
    "\n",
    "data_Debt = Period(data_Debt, day_for_count=Today, col_with_date='termEnd')\n",
    "\n",
    "data_Debt['Holding'] = merge_SalesUnits(data_Debt, col='Entity_code', merge_col='holding')\n",
    "data_Debt = data_Debt.query('Holding == @Group').reset_index(drop=True)"
   ]
  },
  {
   "cell_type": "code",
   "execution_count": 14,
   "metadata": {},
   "outputs": [
    {
     "data": {
      "text/html": [
       "<div>\n",
       "<style scoped>\n",
       "    .dataframe tbody tr th:only-of-type {\n",
       "        vertical-align: middle;\n",
       "    }\n",
       "\n",
       "    .dataframe tbody tr th {\n",
       "        vertical-align: top;\n",
       "    }\n",
       "\n",
       "    .dataframe thead th {\n",
       "        text-align: right;\n",
       "    }\n",
       "</style>\n",
       "<table border=\"1\" class=\"dataframe\">\n",
       "  <thead>\n",
       "    <tr style=\"text-align: right;\">\n",
       "      <th></th>\n",
       "      <th>Entity</th>\n",
       "      <th>Entity_code</th>\n",
       "    </tr>\n",
       "  </thead>\n",
       "  <tbody>\n",
       "  </tbody>\n",
       "</table>\n",
       "</div>"
      ],
      "text/plain": [
       "Empty DataFrame\n",
       "Columns: [Entity, Entity_code]\n",
       "Index: []"
      ]
     },
     "execution_count": 14,
     "metadata": {},
     "output_type": "execute_result"
    }
   ],
   "source": [
    "\n",
    "manual1 = data_Debt.loc[data_Debt.Entity_code == 'External' ,['Entity', 'Entity_code']].drop_duplicates()\n",
    "manual2 = data_Debt.loc[data_Debt.Counterparty_code == 'External' ,['Counterparty', 'Counterparty_Group']].drop_duplicates()\n",
    "manual1"
   ]
  },
  {
   "cell_type": "markdown",
   "metadata": {},
   "source": [
    "Записываю данные в output file:"
   ]
  },
  {
   "cell_type": "code",
   "execution_count": 15,
   "metadata": {},
   "outputs": [],
   "source": [
    "new_columns = ['dealClass1','dealClass2','instrumentOwner','dealSet','facility','Source']\n",
    "data_Debt = data_Debt.reindex(columns=(data_Debt.columns.tolist() + new_columns))\n",
    "data_Debt['Source'] = 'SAP'\n",
    "\n",
    "data = data_Debt[['Entity', 'Entity_group', 'Counterparty', 'Counterparty_Group', 'amoutn_outstanding', 'Currency', 'amount_USD_eq', 'termEnd', 'Days', 'Period', 'dealClass1','dealClass2','instrumentOwner','dealSet','facility','Source']]"
   ]
  },
  {
   "cell_type": "code",
   "execution_count": 16,
   "metadata": {},
   "outputs": [
    {
     "data": {
      "text/html": [
       "<div>\n",
       "<style scoped>\n",
       "    .dataframe tbody tr th:only-of-type {\n",
       "        vertical-align: middle;\n",
       "    }\n",
       "\n",
       "    .dataframe tbody tr th {\n",
       "        vertical-align: top;\n",
       "    }\n",
       "\n",
       "    .dataframe thead th {\n",
       "        text-align: right;\n",
       "    }\n",
       "</style>\n",
       "<table border=\"1\" class=\"dataframe\">\n",
       "  <thead>\n",
       "    <tr style=\"text-align: right;\">\n",
       "      <th></th>\n",
       "      <th>Entity</th>\n",
       "      <th>Entity_group</th>\n",
       "      <th>Counterparty</th>\n",
       "      <th>Counterparty_Group</th>\n",
       "      <th>amoutn_outstanding</th>\n",
       "      <th>Currency</th>\n",
       "      <th>amount_USD_eq</th>\n",
       "      <th>termEnd</th>\n",
       "      <th>Days</th>\n",
       "      <th>Period</th>\n",
       "      <th>dealClass1</th>\n",
       "      <th>dealClass2</th>\n",
       "      <th>instrumentOwner</th>\n",
       "      <th>dealSet</th>\n",
       "      <th>facility</th>\n",
       "      <th>Source</th>\n",
       "    </tr>\n",
       "  </thead>\n",
       "  <tbody>\n",
       "    <tr>\n",
       "      <th>0</th>\n",
       "      <td>Black Sand Commodities</td>\n",
       "      <td>SUEK INT</td>\n",
       "      <td>AIM Capital Ltd</td>\n",
       "      <td>External</td>\n",
       "      <td>2.524600e+07</td>\n",
       "      <td>USD</td>\n",
       "      <td>2.524600e+07</td>\n",
       "      <td>2026-09-15</td>\n",
       "      <td>929.0</td>\n",
       "      <td>2Y+</td>\n",
       "      <td>NaN</td>\n",
       "      <td>NaN</td>\n",
       "      <td>NaN</td>\n",
       "      <td>NaN</td>\n",
       "      <td>NaN</td>\n",
       "      <td>SAP</td>\n",
       "    </tr>\n",
       "    <tr>\n",
       "      <th>1</th>\n",
       "      <td>Black Sand Commodities</td>\n",
       "      <td>SUEK INT</td>\n",
       "      <td>Erglis Limited</td>\n",
       "      <td>External</td>\n",
       "      <td>1.302614e+09</td>\n",
       "      <td>RUB</td>\n",
       "      <td>1.428303e+07</td>\n",
       "      <td>2029-10-08</td>\n",
       "      <td>2048.0</td>\n",
       "      <td>2Y+</td>\n",
       "      <td>NaN</td>\n",
       "      <td>NaN</td>\n",
       "      <td>NaN</td>\n",
       "      <td>NaN</td>\n",
       "      <td>NaN</td>\n",
       "      <td>SAP</td>\n",
       "    </tr>\n",
       "  </tbody>\n",
       "</table>\n",
       "</div>"
      ],
      "text/plain": [
       "                   Entity Entity_group     Counterparty Counterparty_Group  \\\n",
       "0  Black Sand Commodities     SUEK INT  AIM Capital Ltd           External   \n",
       "1  Black Sand Commodities     SUEK INT   Erglis Limited           External   \n",
       "\n",
       "   amoutn_outstanding Currency  amount_USD_eq    termEnd    Days Period  \\\n",
       "0        2.524600e+07      USD   2.524600e+07 2026-09-15   929.0    2Y+   \n",
       "1        1.302614e+09      RUB   1.428303e+07 2029-10-08  2048.0    2Y+   \n",
       "\n",
       "   dealClass1  dealClass2  instrumentOwner  dealSet  facility Source  \n",
       "0         NaN         NaN              NaN      NaN       NaN    SAP  \n",
       "1         NaN         NaN              NaN      NaN       NaN    SAP  "
      ]
     },
     "execution_count": 16,
     "metadata": {},
     "output_type": "execute_result"
    }
   ],
   "source": [
    "data.head(2)"
   ]
  },
  {
   "cell_type": "code",
   "execution_count": 131,
   "metadata": {},
   "outputs": [],
   "source": [
    "data.to_excel(Output_file, sheet_name = Sheet_in_output_file, index = False)"
   ]
  },
  {
   "cell_type": "markdown",
   "metadata": {},
   "source": [
    "Проверка на наличие тех же записей в Quantum:"
   ]
  },
  {
   "cell_type": "code",
   "execution_count": 110,
   "metadata": {},
   "outputs": [
    {
     "data": {
      "text/html": [
       "<div>\n",
       "<style scoped>\n",
       "    .dataframe tbody tr th:only-of-type {\n",
       "        vertical-align: middle;\n",
       "    }\n",
       "\n",
       "    .dataframe tbody tr th {\n",
       "        vertical-align: top;\n",
       "    }\n",
       "\n",
       "    .dataframe thead th {\n",
       "        text-align: right;\n",
       "    }\n",
       "</style>\n",
       "<table border=\"1\" class=\"dataframe\">\n",
       "  <thead>\n",
       "    <tr style=\"text-align: right;\">\n",
       "      <th></th>\n",
       "      <th>entity</th>\n",
       "      <th>Entity_group</th>\n",
       "      <th>counterparty</th>\n",
       "      <th>Counterparty_Group</th>\n",
       "      <th>amoutn outstanding</th>\n",
       "      <th>Currency</th>\n",
       "      <th>amount USD eq</th>\n",
       "      <th>termEnd</th>\n",
       "      <th>Days</th>\n",
       "      <th>Period</th>\n",
       "      <th>dealClass1</th>\n",
       "      <th>dealClass2</th>\n",
       "      <th>instrumentOwner</th>\n",
       "      <th>dealSet</th>\n",
       "      <th>facility</th>\n",
       "      <th>Source</th>\n",
       "    </tr>\n",
       "  </thead>\n",
       "  <tbody>\n",
       "    <tr>\n",
       "      <th>0</th>\n",
       "      <td>BRHRG</td>\n",
       "      <td>SAMSALES</td>\n",
       "      <td>Morgan Stanley BR</td>\n",
       "      <td>External</td>\n",
       "      <td>-8011.33</td>\n",
       "      <td>BRL</td>\n",
       "      <td>-1616.101732</td>\n",
       "      <td>2031-12-31</td>\n",
       "      <td>2862</td>\n",
       "      <td>2Y+</td>\n",
       "      <td>Loan</td>\n",
       "      <td>MM</td>\n",
       "      <td>EC_BORROWINGS</td>\n",
       "      <td>-</td>\n",
       "      <td>HRG Judicial recovery BRL</td>\n",
       "      <td>Quantum</td>\n",
       "    </tr>\n",
       "    <tr>\n",
       "      <th>1</th>\n",
       "      <td>BRHRG</td>\n",
       "      <td>SAMSALES</td>\n",
       "      <td>Morgan Stanley BR</td>\n",
       "      <td>External</td>\n",
       "      <td>-9958.01</td>\n",
       "      <td>BRL</td>\n",
       "      <td>-2008.799688</td>\n",
       "      <td>2032-12-31</td>\n",
       "      <td>3228</td>\n",
       "      <td>2Y+</td>\n",
       "      <td>Loan</td>\n",
       "      <td>MM</td>\n",
       "      <td>EC_BORROWINGS</td>\n",
       "      <td>-</td>\n",
       "      <td>HRG Judicial recovery BRL</td>\n",
       "      <td>Quantum</td>\n",
       "    </tr>\n",
       "  </tbody>\n",
       "</table>\n",
       "</div>"
      ],
      "text/plain": [
       "  entity Entity_group       counterparty Counterparty_Group  \\\n",
       "0  BRHRG     SAMSALES  Morgan Stanley BR           External   \n",
       "1  BRHRG     SAMSALES  Morgan Stanley BR           External   \n",
       "\n",
       "   amoutn outstanding Currency  amount USD eq    termEnd  Days Period  \\\n",
       "0            -8011.33      BRL   -1616.101732 2031-12-31  2862    2Y+   \n",
       "1            -9958.01      BRL   -2008.799688 2032-12-31  3228    2Y+   \n",
       "\n",
       "  dealClass1 dealClass2 instrumentOwner dealSet                   facility  \\\n",
       "0       Loan         MM   EC_BORROWINGS       -  HRG Judicial recovery BRL   \n",
       "1       Loan         MM   EC_BORROWINGS       -  HRG Judicial recovery BRL   \n",
       "\n",
       "    Source  \n",
       "0  Quantum  \n",
       "1  Quantum  "
      ]
     },
     "execution_count": 110,
     "metadata": {},
     "output_type": "execute_result"
    }
   ],
   "source": [
    "quantum_data_export = pd.read_excel('C:\\\\Users\\\\KlimovaAnnaA\\\\Documents\\\\MyFiles\\\\Projects\\\\OCP\\\\Quantum\\\\2024-03-21_EuroChem_quantum_Debt_Feb.xlsx')\n",
    "quantum_data_export.head(2)"
   ]
  },
  {
   "cell_type": "code",
   "execution_count": 118,
   "metadata": {},
   "outputs": [],
   "source": [
    "quantum_data_export['E_Cgroup'] = quantum_data_export.entity + quantum_data_export.Counterparty_Group + quantum_data_export.Currency + quantum_data_export.termEnd.astype(str) + quantum_data_export['amoutn outstanding'].abs().astype(str)\n",
    "data_Debt['E_Cgroup'] = data_Debt.Entity_code + data_Debt.Counterparty_Group + data_Debt.Currency + data_Debt.termEnd.astype(str) + data_Debt.amoutn_outstanding.abs().astype(str)\n",
    "\n",
    "iner_list = list(set(data_Debt['E_Cgroup']).intersection(set(quantum_data_export.E_Cgroup)))\n",
    "\n",
    "SAP_iner = data_Debt[data_Debt.E_Cgroup.isin(iner_list)]\n",
    "Quantum_iner = quantum_data_export[quantum_data_export.E_Cgroup.isin(iner_list)]"
   ]
  },
  {
   "cell_type": "code",
   "execution_count": 17,
   "metadata": {},
   "outputs": [
    {
     "ename": "NameError",
     "evalue": "name 'SAP_iner' is not defined",
     "output_type": "error",
     "traceback": [
      "\u001b[1;31m---------------------------------------------------------------------------\u001b[0m",
      "\u001b[1;31mNameError\u001b[0m                                 Traceback (most recent call last)",
      "\u001b[1;32mc:\\Users\\KlimovaAnnaA\\Documents\\MyFiles\\Projects\\OCP\\Debt\\Debt_SUEK.ipynb Cell 16\u001b[0m line \u001b[0;36m1\n\u001b[1;32m----> <a href='vscode-notebook-cell:/c%3A/Users/KlimovaAnnaA/Documents/MyFiles/Projects/OCP/Debt/Debt_SUEK.ipynb#X24sZmlsZQ%3D%3D?line=0'>1</a>\u001b[0m iner_list_2 \u001b[39m=\u001b[39m SAP_iner\u001b[39m.\u001b[39mindex\u001b[39m.\u001b[39mtolist()\n\u001b[0;32m      <a href='vscode-notebook-cell:/c%3A/Users/KlimovaAnnaA/Documents/MyFiles/Projects/OCP/Debt/Debt_SUEK.ipynb#X24sZmlsZQ%3D%3D?line=2'>3</a>\u001b[0m SAP_iner \u001b[39m=\u001b[39m data_Debt[data_Debt\u001b[39m.\u001b[39mindex\u001b[39m.\u001b[39misin(iner_list_2)]\n\u001b[0;32m      <a href='vscode-notebook-cell:/c%3A/Users/KlimovaAnnaA/Documents/MyFiles/Projects/OCP/Debt/Debt_SUEK.ipynb#X24sZmlsZQ%3D%3D?line=3'>4</a>\u001b[0m data_Debt_not_iner \u001b[39m=\u001b[39m data_Debt[\u001b[39m~\u001b[39mdata_Debt\u001b[39m.\u001b[39mindex\u001b[39m.\u001b[39misin(iner_list_2)]\n",
      "\u001b[1;31mNameError\u001b[0m: name 'SAP_iner' is not defined"
     ]
    }
   ],
   "source": [
    "iner_list_2 = SAP_iner.index.tolist()\n",
    "\n",
    "SAP_iner = data_Debt[data_Debt.index.isin(iner_list_2)]\n",
    "data_Debt_not_iner = data_Debt[~data_Debt.index.isin(iner_list_2)]\n",
    "\n",
    "SAP_iner.shape, Quantum_iner.shape"
   ]
  },
  {
   "cell_type": "code",
   "execution_count": 123,
   "metadata": {},
   "outputs": [],
   "source": [
    "SAP_iner = SAP_iner[['Entity', 'Entity_group', 'Counterparty', 'Counterparty_Group', 'amoutn_outstanding', 'Currency', 'amount_USD_eq', 'termEnd', 'Days', 'Period', 'dealClass1','dealClass2','instrumentOwner','dealSet','facility','Source']]\n",
    "data_Debt_not_iner = data_Debt_not_iner[['Entity', 'Entity_group', 'Counterparty', 'Counterparty_Group', 'amoutn_outstanding', 'Currency', 'amount_USD_eq', 'termEnd', 'Days', 'Period', 'dealClass1','dealClass2','instrumentOwner','dealSet','facility','Source']]\n"
   ]
  },
  {
   "cell_type": "code",
   "execution_count": 124,
   "metadata": {},
   "outputs": [],
   "source": [
    "data_Debt_not_iner.to_excel(Output_file, sheet_name=Sheet_in_output_file, index=False)\n",
    "new_list(SAP_iner, Output_file, 'Inersection')\n",
    "new_list(quantum_data_export, Output_file, 'Debt_Quantum')"
   ]
  }
 ],
 "metadata": {
  "kernelspec": {
   "display_name": "base",
   "language": "python",
   "name": "python3"
  },
  "language_info": {
   "codemirror_mode": {
    "name": "ipython",
    "version": 3
   },
   "file_extension": ".py",
   "mimetype": "text/x-python",
   "name": "python",
   "nbconvert_exporter": "python",
   "pygments_lexer": "ipython3",
   "version": "3.11.5"
  },
  "orig_nbformat": 4
 },
 "nbformat": 4,
 "nbformat_minor": 2
}
