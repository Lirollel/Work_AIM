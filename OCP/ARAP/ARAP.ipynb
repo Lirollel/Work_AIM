{
 "cells": [
  {
   "cell_type": "markdown",
   "id": "e4040b33",
   "metadata": {},
   "source": [
    "Заполните данные о необходимых переменных:"
   ]
  },
  {
   "cell_type": "code",
   "execution_count": 1,
   "id": "c600f085",
   "metadata": {},
   "outputs": [],
   "source": [
    "Today = '29/02/2024'\n",
    "Mounth = 'Feb'"
   ]
  },
  {
   "cell_type": "code",
   "execution_count": 2,
   "id": "7ccd4fc9",
   "metadata": {},
   "outputs": [],
   "source": [
    "import os\n",
    "from datetime import date\n",
    "import pandas as pd\n",
    "import numpy as np"
   ]
  },
  {
   "cell_type": "code",
   "execution_count": 3,
   "id": "bed95831",
   "metadata": {},
   "outputs": [],
   "source": [
    "Output_SUEK = \"_\".join([str(date.today()), 'SUEK', 'SAP', 'ARAP', f'{Mounth}.xlsx'])\n",
    "Output_EURO = \"_\".join([str(date.today()), 'EUROCHEM', 'SAP', 'ARAP', f'{Mounth}.xlsx'])\n",
    "Sheet_in_output_file = 'ARAP'"
   ]
  },
  {
   "cell_type": "code",
   "execution_count": 4,
   "id": "2f58abe5",
   "metadata": {},
   "outputs": [],
   "source": [
    "import sys\n",
    "sys.path.append(\"C:\\\\Users\\\\KlimovaAnnaA\\\\Documents\\\\MyFiles\\\\Projects\\\\OCP\")\n",
    "from Defs import merge_SalesUnits\n",
    "from Defs import merge_Mapping\n",
    "from Defs import Period\n",
    "from Defs import new_list\n",
    "from Defs import export_from_RISKCUSTOM\n",
    "from Defs import add_in_currency_column"
   ]
  },
  {
   "cell_type": "markdown",
   "id": "e3a68f4a",
   "metadata": {},
   "source": [
    "Открываю следующие файлы:"
   ]
  },
  {
   "cell_type": "code",
   "execution_count": 7,
   "id": "6d0e2f48",
   "metadata": {},
   "outputs": [],
   "source": [
    "query = f'''select \n",
    "    \"customerName\",\"internalExternalEN\",\"orgName\", \"companyCode\", \"dueDate\", \"presentAmountUSD\", \"dealNumber\", \"holding\",\"currencyCode\", \"sourceSystem\",\n",
    "CASE\n",
    "        WHEN \"bscCode\" in ('130','135','BSC130','BSC135') \n",
    "        THEN 'Trade receivables'\n",
    "        WHEN \"bscCode\" in ('160','165','BSC160','BSC165') \n",
    "        THEN 'Advances to suppliers'\n",
    "        WHEN \"bscCode\" in ('170','175','BSC170','BSC175')\n",
    "        THEN 'Capital advances'\n",
    "        WHEN \"bscCode\" in ('140','145','BSC140','BSC145') \n",
    "        THEN 'Other receivables'\n",
    "        WHEN \"bscCode\" in ('330','BSC330')\n",
    "        THEN 'Provisions'\n",
    "        WHEN \"bscCode\" in ('300','305','BSC300','BSC305') \n",
    "        THEN 'Trade payables'\n",
    "        WHEN \"bscCode\" in ('310','315','BSC310','BSC315') \n",
    "        THEN 'Other payables'\n",
    "        WHEN \"bscCode\" in ('360','365','BSC360','BSC365') \n",
    "        THEN 'Advances received'\n",
    "        WHEN \"bscCode\" in ('350','355','BSC350','BSC355') \n",
    "        THEN 'Loans received'\n",
    "        WHEN \"bscCode\" in ('210','215','BSC210','BSC215') \n",
    "        THEN 'Loans issued'\n",
    "        WHEN \"bscCode\" in ('340','BSC340') \n",
    "        THEN 'Tax'\n",
    "        WHEN \"bscCode\" in ('410','BSC410') \n",
    "        THEN 'Pension'\n",
    "        ELSE 'Unknown'\n",
    "    END AS \"accountPurpose\"\n",
    "from RISKACCESS.\"unifiedARReport\"\n",
    "where \n",
    "    (\"sourceSystem\" = 'OEBS12_EU' or \"sourceSystem\" = 'ETL document loader') and\n",
    "    \"rowType\" = 'M' and\n",
    "    \"reportDate\" = TO_DATE('{Today}', 'DD/MM/YY')  \n",
    "union all select\n",
    "     \"customerName\",\"internalExternalEN\",\"orgName\", \"companyCode\", \"dueDate\", \"presentAmountUSD\", \"dealNumber\", \"holding\",\"currencyCode\", \"sourceSystem\",\n",
    "CASE\n",
    "        WHEN (\"glAccount\" like '62%' or \"glAccount\" IN (7699200310, 7699100210,4601000000, 4611000000, 1501010009, 1501010019, 1501010109, 1501010119, 2201010000,\n",
    "        2201010008, 2201010009, 2201010010, 2201010018, 2201010019, 2201011000, 2201011008, 2201011009, 2201011010, 2201011018, 2201011019, 2201010098, 2201010099,\n",
    "        2201020000, 2201020008, 2201030000, 2201030008, 2201010090, 2201010190, 2110000000, 2110000900, 2130000000, 2130000900, 2151000000, 2151000900, 2170000000,\n",
    "        2170000900, 1210000000, 1210000900, 1260000000, 2181000000, 2181000900))\n",
    "        THEN 'Trade receivables'\n",
    "        WHEN \"glAccount\" IN (6002770900, 6002090900, 6002020000, 6002020099, 6002080000, 6002090000, 6002050000, 6002020900, 6002070000, 6002070099, 6002770000,\n",
    "        6002050900, 6002070900, 6099000215, 6099000224, 6099000212, 6099000217, 6099000219, 6099000619, 6099000120, 6099000123, 6099000820, 6099000430, 6099000460,\n",
    "        6099000470, 6099000490, 7699100410, 6099000830, 6099000810, 6002030000, 6002040000, 6002030900, 6002040900, 6099000440, 6099000450, 6099000203, 6099000615, \n",
    "        6002140000, 6002140099, 6099000616, 6002150000, 7610001900, 7610001000, 7610001099, 2301010100, 2301010108, 2301010110, 2301010118, 2301010200, 2301010208,\n",
    "        2301010210, 2301010218, 2301010300, 2301010308, 2301010400, 2301010408, 2301011100, 2301011108, 2301011110, 2301011118, 2301011200, 2301011208, 2301011210,\n",
    "        2301011218, 2301011300, 2301011308, 2302010000, 2302010007, 1611000000, 1613000000, 1615000000, 7610007900, 7610007000, 7610005000, 7699100620, 7699100420)\n",
    "        THEN 'Advances to suppliers'\n",
    "        WHEN \"glAccount\" IN (6002010000, 6002010099, 6002010900, 6099000612, 6099000211, 2301020100, 2301020108, 2301020110, 2301020118, 2301020200, 2301020208,\n",
    "        2301020210, 2301020218, 2301020300, 2301020308, 2301020310, 2301020318, 2301021100, 2301021108, 2301021110, 2301021118, 2301021200, 2301021208, 2301021210,\n",
    "        2301021218, 2301021300, 2301021308, 2301021310, 2301021318, 2301000008, 2301001008, 2302020000, 2302020007, 1612000000, 1614000000)\n",
    "        THEN 'Capital advances'\n",
    "        WHEN \"glAccount\" IN (6001089000, 7625003000, 7610003000, 7615003000, 7699100550, 6099000710, 7699200500, 7615004000, 7629009000, 7625013000, 7625013900,\n",
    "        7699100200, 7629000900, 7610406000, 7610406900, 7610405000, 7610405900, 7630707000, 7622020000, 7620801000, 7620801900, 7630705000, 7629000099, 7629000000,\n",
    "        7610004000, 7618000900, 7618000000, 6001080900, 6001080000, 7622010000, 7620703000, 7620704000, 7620701000, 7620701900, 7620702000, 7622030000, 7622040000,\n",
    "        7699900000, 7610500000, 7610500099, 7699100240, 7630702000, 7630703000, 7630706000, 7625006000, 7625007000, 7625001000, 7625001900, 7620200000, 7620200900,\n",
    "        2601030000, 2601030008, 2601040000, 2601040008, 2601050009, 2602000000, 2602000008, 2602000009, 2602000010, 2602000018, 2602000019, 2602001000, 2602001008,\n",
    "        2602001010, 2602001018, 2602010000, 2602010009, 2602060100, 2602000090, 2603000000, 2603000100, 36307060, 1284000000, 1284000900, 1630000000, 1282000000, \n",
    "        1282000900, 1251000000, 2601010009, 2601020009)\n",
    "        THEN 'Other receivables'\n",
    "        WHEN \"glAccount\" IN (2201910000, 1290000000, 2190000000, 2301910100, 2602900000)\n",
    "        THEN 'Provisions'\n",
    "        WHEN (\"glAccount\" IN (1022200000))\n",
    "        THEN 'FX Spot'\n",
    "        WHEN (\"glAccount\" IN (1110009000, 1270000000, 1271000000, 2204000000, 2604010100, 2604020100, 2604021110, 2604021200, 7621156000))\n",
    "        THEN 'Loans issued'\n",
    "        WHEN (\"glAccount\" IN (1410000000, 1430010000, 1430030000, 1430050000, 1430060000, 1430070000))\n",
    "        THEN 'Tax'\n",
    "        WHEN (\"glAccount\" IN (2602000020))\n",
    "        THEN 'MTM Derivatives'        \n",
    "        WHEN (\"glAccount\" IN (7610300000))\n",
    "        THEN 'Dividends'        \n",
    "        WHEN (\"glAccount\" IN (7611102000))\n",
    "        THEN 'Capital expenses'       \n",
    "        ELSE 'Unknown'\n",
    "    END AS \"accountPurpose\"\n",
    "from RISKACCESS.\"unifiedARReport\"\n",
    "where \n",
    "    (\"sourceSystem\" = 'SAP ERP' or \"sourceSystem\" = 'SAP ECP') and\n",
    "    \"rowType\" = 'M' and\n",
    "    \"reportType\" = 'AR' and \n",
    "    \"reportDate\" = TO_DATE('{Today}', 'DD/MM/YY') \n",
    "union all select\n",
    " \"customerName\",\"internalExternalEN\",\"orgName\", \"companyCode\", \"dueDate\", \"presentAmountUSD\", \"dealNumber\", \"holding\", \"currencyCode\", \"sourceSystem\",\n",
    "CASE\n",
    "        WHEN \"glAccount\" like '63%'\n",
    "        THEN 'Provisions'\n",
    "        WHEN (\"glAccount\" IN (5201010100, 5201010110, 5201010200, 5201011100, 5201011110, 5201011200))\n",
    "        THEN 'Trade payables'\n",
    "        WHEN (\"glAccount\" IN (5501000000, 5501010000, 5502000000, 5503020000, 5503030000, 5503030010, 5503010000))\n",
    "        THEN 'Other payables'\n",
    "        WHEN (\"glAccount\" like '62%' or \"glAccount\" IN (5301010000, 5301010010, 7620002000, 0035100000))\n",
    "        THEN 'Advances received'\n",
    "        WHEN (\"glAccount\" like '60%' or \"glAccount\" IN (5101010100, 5101020110, 5101021110, 5104040000, 5109000000, 5503050000, 5505010200, 5505010210, 5505011210, 5505020100, \n",
    "        7610101000, 7610402000, 7610404000, 7610405000, 7610601000, 7610603000, 7610691000, 7619000000, 7620002000, 0033970000, 0033500000, 0033600000, 0033960000, 0033140000,\n",
    "        0033130000, 0033120000, 0033110000, 0033800000, 0033950000, 0033970100))\n",
    "        THEN 'Other payables'\n",
    "        WHEN (\"glAccount\" IN (0032200000, 0032310000))\n",
    "        THEN 'Pension'\n",
    "        WHEN (\"glAccount\" IN (0032300000, 0032150000, 0032140000, 0032130000, 0032120000, 0032110000, 0031500000, 0033970200))\n",
    "        THEN 'Social'\n",
    "        WHEN (\"glAccount\" IN (0031940000, 0031930000, 0031920000, 0031910000, 0031800000, 0031700000, 0031600000, 0031330000, 0031320000, 0031220000, 0031210000, 0031100000))\n",
    "        THEN 'Tax'\n",
    "        WHEN (\"glAccount\" IN (0030200000))\n",
    "        THEN 'Loans received'\n",
    "        ELSE 'Unknown'\n",
    "    END AS \"accountPurpose\"\n",
    "from RISKACCESS.\"unifiedARReport\"\n",
    "where \n",
    "    (\"sourceSystem\" = 'SAP ERP' or \"sourceSystem\" = 'SAP ECP') and\n",
    "    \"rowType\" = 'M' and\n",
    "    \"reportType\" = 'AP' and \n",
    "    \"reportDate\" = TO_DATE('{Today}', 'DD/MM/YY') \n",
    "    '''"
   ]
  },
  {
   "cell_type": "code",
   "execution_count": 8,
   "id": "196bb079",
   "metadata": {},
   "outputs": [
    {
     "name": "stderr",
     "output_type": "stream",
     "text": [
      "C:\\Users\\KlimovaAnnaA\\Documents\\MyFiles\\Projects\\OCP\\Defs.py:78: UserWarning: pandas only supports SQLAlchemy connectable (engine/connection) or database string URI or sqlite3 DBAPI2 connection. Other DBAPI2 objects are not tested. Please consider using SQLAlchemy.\n",
      "  data_export = pd.read_sql(query, con=connection)\n"
     ]
    }
   ],
   "source": [
    "data_export = export_from_RISKCUSTOM(query)"
   ]
  },
  {
   "cell_type": "code",
   "execution_count": 10,
   "id": "886aae53",
   "metadata": {},
   "outputs": [
    {
     "name": "stderr",
     "output_type": "stream",
     "text": [
      "C:\\Users\\KlimovaAnnaA\\Documents\\MyFiles\\Projects\\OCP\\Defs.py:44: UserWarning: Parsing dates in %d/%m/%Y format when dayfirst=False (the default) was specified. Pass `dayfirst=True` or specify a format to silence this warning.\n",
      "  day = pd.to_datetime(day_for_count)\n"
     ]
    }
   ],
   "source": [
    "data_work = data_export.query('holding != \"EXTERNAL\"').reset_index(drop=True)\n",
    "# фильтрация по перемнной Group\n",
    "\n",
    "data_work = data_work[~(data_work.orgName.isna() & data_work.companyCode.isna())].reset_index(drop=True)\n",
    "data_work['org_code'] = merge_Mapping(data_work, col='orgName')\n",
    "data_work['CompCode_concat'] = data_work['companyCode'].fillna('')\n",
    "data_work.loc[data_work.CompCode_concat == '','CompCode_concat'] = data_work.loc[data_work.CompCode_concat == '','org_code']\n",
    "data_work['CompMap'] = merge_SalesUnits(data_work, col='CompCode_concat', merge_col='ocpSegment')\n",
    "\n",
    "data_work['CtyCode'] = merge_Mapping(data_work, col='customerName').fillna('External')\n",
    "data_work['CtyMap'] = merge_SalesUnits(data_work, col='CtyCode', merge_col='ocpSegment').fillna('External')\n",
    "\n",
    "data_work['AR_flag'] = data_work['accountPurpose']\\\n",
    "                                            .isin(['Trade receivables', 'Other receivables', 'Provisions'])\\\n",
    "                                            .astype(int)\n",
    "data_work['AP_flag'] = data_work['accountPurpose']\\\n",
    "                                            .isin(['Trade payables', 'Other payables'])\\\n",
    "                                            .astype(int)\n",
    "\n",
    "data_work['Amount_USD'] = data_work['presentAmountUSD'].replace({np.NaN : 0})\n",
    "data_work['Amount_AR_USD'] = data_work['Amount_USD'] * data_work['AR_flag']\n",
    "data_work['Amount_AP_USD'] = data_work['Amount_USD'] * data_work['AP_flag']\n",
    "\n",
    "data_work = Period(data_work, day_for_count=Today, col_with_date='dueDate')"
   ]
  },
  {
   "cell_type": "markdown",
   "id": "8a7ba85b",
   "metadata": {},
   "source": [
    "Проверка на merge:"
   ]
  },
  {
   "cell_type": "code",
   "execution_count": 12,
   "id": "92aa4d58",
   "metadata": {},
   "outputs": [
    {
     "data": {
      "text/html": [
       "<div>\n",
       "<style scoped>\n",
       "    .dataframe tbody tr th:only-of-type {\n",
       "        vertical-align: middle;\n",
       "    }\n",
       "\n",
       "    .dataframe tbody tr th {\n",
       "        vertical-align: top;\n",
       "    }\n",
       "\n",
       "    .dataframe thead th {\n",
       "        text-align: right;\n",
       "    }\n",
       "</style>\n",
       "<table border=\"1\" class=\"dataframe\">\n",
       "  <thead>\n",
       "    <tr style=\"text-align: right;\">\n",
       "      <th></th>\n",
       "      <th>orgName</th>\n",
       "      <th>CompCode_concat</th>\n",
       "      <th>CompMap</th>\n",
       "    </tr>\n",
       "  </thead>\n",
       "  <tbody>\n",
       "    <tr>\n",
       "      <th>221490</th>\n",
       "      <td>АО \"СГК - Алтай\"</td>\n",
       "      <td>External</td>\n",
       "      <td>External</td>\n",
       "    </tr>\n",
       "    <tr>\n",
       "      <th>274674</th>\n",
       "      <td>АО \"СГК - Новосибирск\"</td>\n",
       "      <td>External</td>\n",
       "      <td>External</td>\n",
       "    </tr>\n",
       "  </tbody>\n",
       "</table>\n",
       "</div>"
      ],
      "text/plain": [
       "                       orgName CompCode_concat   CompMap\n",
       "221490        АО \"СГК - Алтай\"        External  External\n",
       "274674  АО \"СГК - Новосибирск\"        External  External"
      ]
     },
     "execution_count": 12,
     "metadata": {},
     "output_type": "execute_result"
    }
   ],
   "source": [
    "check_data = data_work.loc[(data_work['internalExternalEN'] == 'Internal') & (data_work['CtyMap'] == 'External'),\\\n",
    "                                                    ['customerName', 'CtyCode', 'CtyMap']].drop_duplicates()\n",
    "# check_data\n",
    "# # check_data.to_excel('manual_map_ARAP_ECH.xlsx', index=False)\n",
    "\n",
    "check_data2 = data_work.loc[(data_work['internalExternalEN'] == 'Internal') & (data_work['CompMap'] == 'External'),\\\n",
    "                                                    ['orgName', 'CompCode_concat','CompMap']].drop_duplicates()\n",
    "check_data2\n",
    "# check_data"
   ]
  },
  {
   "cell_type": "code",
   "execution_count": 40,
   "id": "beb08b6c",
   "metadata": {},
   "outputs": [
    {
     "data": {
      "text/html": [
       "<div>\n",
       "<style scoped>\n",
       "    .dataframe tbody tr th:only-of-type {\n",
       "        vertical-align: middle;\n",
       "    }\n",
       "\n",
       "    .dataframe tbody tr th {\n",
       "        vertical-align: top;\n",
       "    }\n",
       "\n",
       "    .dataframe thead th {\n",
       "        text-align: right;\n",
       "    }\n",
       "</style>\n",
       "<table border=\"1\" class=\"dataframe\">\n",
       "  <thead>\n",
       "    <tr style=\"text-align: right;\">\n",
       "      <th>CtyMap</th>\n",
       "      <th>NTC</th>\n",
       "      <th>RUFERT</th>\n",
       "      <th>SGC</th>\n",
       "      <th>SUEK INT</th>\n",
       "      <th>SUEK RU</th>\n",
       "    </tr>\n",
       "    <tr>\n",
       "      <th>CompMap</th>\n",
       "      <th></th>\n",
       "      <th></th>\n",
       "      <th></th>\n",
       "      <th></th>\n",
       "      <th></th>\n",
       "    </tr>\n",
       "  </thead>\n",
       "  <tbody>\n",
       "    <tr>\n",
       "      <th>NTC</th>\n",
       "      <td>-854523.38</td>\n",
       "      <td>-788860.66</td>\n",
       "      <td>104028.71</td>\n",
       "      <td>5.206835e+06</td>\n",
       "      <td>-3.138018e+07</td>\n",
       "    </tr>\n",
       "    <tr>\n",
       "      <th>RUFERT</th>\n",
       "      <td>762525.26</td>\n",
       "      <td>0.03</td>\n",
       "      <td>-41841.61</td>\n",
       "      <td>NaN</td>\n",
       "      <td>-3.668486e+04</td>\n",
       "    </tr>\n",
       "    <tr>\n",
       "      <th>SGC</th>\n",
       "      <td>24726.75</td>\n",
       "      <td>41841.59</td>\n",
       "      <td>2810955.22</td>\n",
       "      <td>NaN</td>\n",
       "      <td>-9.478726e+07</td>\n",
       "    </tr>\n",
       "    <tr>\n",
       "      <th>SUEK INT</th>\n",
       "      <td>-5994313.06</td>\n",
       "      <td>NaN</td>\n",
       "      <td>NaN</td>\n",
       "      <td>1.306585e+06</td>\n",
       "      <td>-7.104478e+08</td>\n",
       "    </tr>\n",
       "    <tr>\n",
       "      <th>SUEK RU</th>\n",
       "      <td>5563925.66</td>\n",
       "      <td>42174.50</td>\n",
       "      <td>98281265.66</td>\n",
       "      <td>1.031097e+09</td>\n",
       "      <td>9.684607e+06</td>\n",
       "    </tr>\n",
       "  </tbody>\n",
       "</table>\n",
       "</div>"
      ],
      "text/plain": [
       "CtyMap           NTC     RUFERT          SGC      SUEK INT       SUEK RU\n",
       "CompMap                                                                 \n",
       "NTC       -854523.38 -788860.66    104028.71  5.206835e+06 -3.138018e+07\n",
       "RUFERT     762525.26       0.03    -41841.61           NaN -3.668486e+04\n",
       "SGC         24726.75   41841.59   2810955.22           NaN -9.478726e+07\n",
       "SUEK INT -5994313.06        NaN          NaN  1.306585e+06 -7.104478e+08\n",
       "SUEK RU   5563925.66   42174.50  98281265.66  1.031097e+09  9.684607e+06"
      ]
     },
     "execution_count": 40,
     "metadata": {},
     "output_type": "execute_result"
    }
   ],
   "source": [
    "BS_data = data_work[(data_work.accountPurpose.str.contains('Trade')) | (data_work.accountPurpose.str.contains('Other'))].reset_index(drop=True)\n",
    "BS_data['Comp_hold'] = merge_SalesUnits(BS_data, col='CompCode_concat', merge_col='holding')\n",
    "BS_data['Cpty_hold'] = merge_SalesUnits(BS_data, col='CtyCode', merge_col='holding')\n",
    "\n",
    "for Group in ['SUEK', 'EUROCHEM']:\n",
    "    BS_data_group = BS_data[(BS_data.Comp_hold == Group) & (BS_data.Cpty_hold == Group)]\n",
    "    BS_data_group = BS_data_group[BS_data_group.CompMap != 'External']\n",
    "    BS_data_group = BS_data_group[['CompMap', 'CtyMap', 'Amount_USD']]\n",
    "    BS_pivot = pd.pivot_table(BS_data_group, values='Amount_USD', index='CompMap', aggfunc='sum', columns='CtyMap',)\n",
    "    \n",
    "    if Group == 'EUROCHEM':\n",
    "        BS_pivot_EURO = BS_pivot\n",
    "    if Group == 'SUEK':\n",
    "        BS_pivot_SUEK = BS_pivot"
   ]
  },
  {
   "cell_type": "code",
   "execution_count": 9,
   "id": "6c1d9577",
   "metadata": {},
   "outputs": [],
   "source": [
    "# assert 1==2"
   ]
  },
  {
   "cell_type": "markdown",
   "id": "3482fc4c",
   "metadata": {},
   "source": [
    "Запись в output файлы:"
   ]
  },
  {
   "cell_type": "code",
   "execution_count": 39,
   "id": "144c991c",
   "metadata": {},
   "outputs": [],
   "source": [
    "data_print_SUEK = data_work.query('holding == \"SUEK\"')[['customerName', 'CompCode_concat', 'currencyCode', 'sourceSystem',\\\n",
    "                    'accountPurpose', 'CompMap', 'CtyCode', 'CtyMap','Amount_USD',\\\n",
    "                    'AR_flag', 'Amount_AR_USD', 'AP_flag', 'Amount_AP_USD', 'Days', 'Period']]\n",
    "data_print_EURO = data_work.query('holding == \"EUROCHEM\"')[['customerName', 'CompCode_concat', 'currencyCode', 'sourceSystem',\\\n",
    "                    'accountPurpose', 'CompMap', 'CtyCode', 'CtyMap','Amount_USD',\\\n",
    "                    'AR_flag', 'Amount_AR_USD', 'AP_flag', 'Amount_AP_USD', 'Days', 'Period']]"
   ]
  },
  {
   "cell_type": "code",
   "execution_count": 25,
   "id": "c5b89d3c",
   "metadata": {},
   "outputs": [],
   "source": [
    "BS_pivot_EURO.to_excel(Output_EURO, sheet_name='BS_to_BS')\n",
    "new_list(data_print_EURO, Output_EURO, Sheet_in_output_file)\n",
    "\n",
    "BS_pivot_SUEK.to_excel(Output_SUEK, sheet_name='BS_to_BS')\n",
    "new_list(data_print_SUEK, Output_SUEK, Sheet_in_output_file)"
   ]
  },
  {
   "cell_type": "markdown",
   "id": "ba711147",
   "metadata": {},
   "source": [
    "Поиск встречных требований:"
   ]
  },
  {
   "cell_type": "code",
   "execution_count": 16,
   "id": "a4da272e",
   "metadata": {},
   "outputs": [
    {
     "data": {
      "text/plain": [
       "Index(['customerName', 'internalExternalEN', 'orgName', 'companyCode',\n",
       "       'dueDate', 'presentAmountUSD', 'dealNumber', 'holding', 'currencyCode',\n",
       "       'sourceSystem', 'accountPurpose', 'org_code', 'CompCode_concat',\n",
       "       'CompMap', 'CtyCode', 'CtyMap', 'AR_flag', 'AP_flag', 'Amount_USD',\n",
       "       'Amount_AR_USD', 'Amount_AP_USD', 'Days', 'Period'],\n",
       "      dtype='object')"
      ]
     },
     "execution_count": 16,
     "metadata": {},
     "output_type": "execute_result"
    }
   ],
   "source": [
    "data_work.shape\n",
    "data_work.columns"
   ]
  },
  {
   "cell_type": "code",
   "execution_count": 23,
   "id": "9c16e746",
   "metadata": {},
   "outputs": [
    {
     "data": {
      "text/html": [
       "<div>\n",
       "<style scoped>\n",
       "    .dataframe tbody tr th:only-of-type {\n",
       "        vertical-align: middle;\n",
       "    }\n",
       "\n",
       "    .dataframe tbody tr th {\n",
       "        vertical-align: top;\n",
       "    }\n",
       "\n",
       "    .dataframe thead th {\n",
       "        text-align: right;\n",
       "    }\n",
       "</style>\n",
       "<table border=\"1\" class=\"dataframe\">\n",
       "  <thead>\n",
       "    <tr style=\"text-align: right;\">\n",
       "      <th></th>\n",
       "      <th>customerName</th>\n",
       "      <th>internalExternalEN</th>\n",
       "      <th>orgName</th>\n",
       "      <th>companyCode</th>\n",
       "      <th>dueDate</th>\n",
       "      <th>presentAmountUSD</th>\n",
       "      <th>dealNumber</th>\n",
       "      <th>holding</th>\n",
       "      <th>currencyCode</th>\n",
       "      <th>sourceSystem</th>\n",
       "      <th>...</th>\n",
       "      <th>CompMap</th>\n",
       "      <th>CtyCode</th>\n",
       "      <th>CtyMap</th>\n",
       "      <th>AR_flag</th>\n",
       "      <th>AP_flag</th>\n",
       "      <th>Amount_USD</th>\n",
       "      <th>Amount_AR_USD</th>\n",
       "      <th>Amount_AP_USD</th>\n",
       "      <th>Days</th>\n",
       "      <th>Period</th>\n",
       "    </tr>\n",
       "  </thead>\n",
       "  <tbody>\n",
       "    <tr>\n",
       "      <th>0</th>\n",
       "      <td>IVORY CHOICE TERMINAL CO</td>\n",
       "      <td>External</td>\n",
       "      <td>USBFC: EuroChem North America Corporation</td>\n",
       "      <td>USBFC</td>\n",
       "      <td>NaT</td>\n",
       "      <td>-1164.00</td>\n",
       "      <td>None</td>\n",
       "      <td>EUROCHEM</td>\n",
       "      <td>USD</td>\n",
       "      <td>OEBS12_EU</td>\n",
       "      <td>...</td>\n",
       "      <td>NAMSALES</td>\n",
       "      <td>External</td>\n",
       "      <td>External</td>\n",
       "      <td>0</td>\n",
       "      <td>1</td>\n",
       "      <td>-1164.00</td>\n",
       "      <td>-0.0</td>\n",
       "      <td>-1164.0</td>\n",
       "      <td>0.0</td>\n",
       "      <td>&lt;1M</td>\n",
       "    </tr>\n",
       "    <tr>\n",
       "      <th>1</th>\n",
       "      <td>NUTRAGRO</td>\n",
       "      <td>External</td>\n",
       "      <td>USBFC: EuroChem North America Corporation</td>\n",
       "      <td>USBFC</td>\n",
       "      <td>NaT</td>\n",
       "      <td>-3757.94</td>\n",
       "      <td>None</td>\n",
       "      <td>EUROCHEM</td>\n",
       "      <td>USD</td>\n",
       "      <td>OEBS12_EU</td>\n",
       "      <td>...</td>\n",
       "      <td>NAMSALES</td>\n",
       "      <td>External</td>\n",
       "      <td>External</td>\n",
       "      <td>0</td>\n",
       "      <td>0</td>\n",
       "      <td>-3757.94</td>\n",
       "      <td>-0.0</td>\n",
       "      <td>-0.0</td>\n",
       "      <td>0.0</td>\n",
       "      <td>&lt;1M</td>\n",
       "    </tr>\n",
       "  </tbody>\n",
       "</table>\n",
       "<p>2 rows × 23 columns</p>\n",
       "</div>"
      ],
      "text/plain": [
       "               customerName internalExternalEN  \\\n",
       "0  IVORY CHOICE TERMINAL CO           External   \n",
       "1                  NUTRAGRO           External   \n",
       "\n",
       "                                     orgName companyCode dueDate  \\\n",
       "0  USBFC: EuroChem North America Corporation       USBFC     NaT   \n",
       "1  USBFC: EuroChem North America Corporation       USBFC     NaT   \n",
       "\n",
       "   presentAmountUSD dealNumber   holding currencyCode sourceSystem  ...  \\\n",
       "0          -1164.00       None  EUROCHEM          USD    OEBS12_EU  ...   \n",
       "1          -3757.94       None  EUROCHEM          USD    OEBS12_EU  ...   \n",
       "\n",
       "    CompMap   CtyCode    CtyMap AR_flag AP_flag Amount_USD  Amount_AR_USD  \\\n",
       "0  NAMSALES  External  External       0       1   -1164.00           -0.0   \n",
       "1  NAMSALES  External  External       0       0   -3757.94           -0.0   \n",
       "\n",
       "   Amount_AP_USD  Days  Period  \n",
       "0        -1164.0   0.0     <1M  \n",
       "1           -0.0   0.0     <1M  \n",
       "\n",
       "[2 rows x 23 columns]"
      ]
     },
     "execution_count": 23,
     "metadata": {},
     "output_type": "execute_result"
    }
   ],
   "source": [
    "data_work.head(2)"
   ]
  },
  {
   "cell_type": "code",
   "execution_count": 27,
   "id": "ec57d849",
   "metadata": {},
   "outputs": [
    {
     "name": "stderr",
     "output_type": "stream",
     "text": [
      "C:\\Users\\KlimovaAnnaA\\AppData\\Local\\Temp\\ipykernel_7136\\2659141684.py:5: SettingWithCopyWarning: \n",
      "A value is trying to be set on a copy of a slice from a DataFrame.\n",
      "Try using .loc[row_indexer,col_indexer] = value instead\n",
      "\n",
      "See the caveats in the documentation: https://pandas.pydata.org/pandas-docs/stable/user_guide/indexing.html#returning-a-view-versus-a-copy\n",
      "  data_E_to_C['Index_copy'] = data_E_to_C.index\n",
      "C:\\Users\\KlimovaAnnaA\\AppData\\Local\\Temp\\ipykernel_7136\\2659141684.py:8: SettingWithCopyWarning: \n",
      "A value is trying to be set on a copy of a slice from a DataFrame.\n",
      "Try using .loc[row_indexer,col_indexer] = value instead\n",
      "\n",
      "See the caveats in the documentation: https://pandas.pydata.org/pandas-docs/stable/user_guide/indexing.html#returning-a-view-versus-a-copy\n",
      "  data_E_to_C[['dealNumber',  'dueDate']] = data_E_to_C[['dealNumber',  'dueDate']].fillna('_')\n",
      "C:\\Users\\KlimovaAnnaA\\AppData\\Local\\Temp\\ipykernel_7136\\2659141684.py:9: SettingWithCopyWarning: \n",
      "A value is trying to be set on a copy of a slice from a DataFrame.\n",
      "Try using .loc[row_indexer,col_indexer] = value instead\n",
      "\n",
      "See the caveats in the documentation: https://pandas.pydata.org/pandas-docs/stable/user_guide/indexing.html#returning-a-view-versus-a-copy\n",
      "  data_E_to_C['concat_col_EC'] = data_E_to_C[['CompCode_concat', 'CtyCode', 'dealNumber',  'dueDate', 'currencyCode', 'Amount_USD']].astype(str).agg('.'.join, axis=1)\n",
      "C:\\Users\\KlimovaAnnaA\\AppData\\Local\\Temp\\ipykernel_7136\\2659141684.py:10: SettingWithCopyWarning: \n",
      "A value is trying to be set on a copy of a slice from a DataFrame.\n",
      "Try using .loc[row_indexer,col_indexer] = value instead\n",
      "\n",
      "See the caveats in the documentation: https://pandas.pydata.org/pandas-docs/stable/user_guide/indexing.html#returning-a-view-versus-a-copy\n",
      "  data_E_to_C['concat_col_CE'] = data_E_to_C[['CtyCode', 'CompCode_concat', 'dealNumber',  'dueDate', 'currencyCode', 'Amount_USD']].astype(str).agg('.'.join, axis=1)\n"
     ]
    },
    {
     "ename": "AssertionError",
     "evalue": "",
     "output_type": "error",
     "traceback": [
      "\u001b[1;31m---------------------------------------------------------------------------\u001b[0m",
      "\u001b[1;31mAssertionError\u001b[0m                            Traceback (most recent call last)",
      "\u001b[1;32mc:\\Users\\KlimovaAnnaA\\Documents\\MyFiles\\Projects\\OCP\\ARAP\\ARAP.ipynb Cell 20\u001b[0m line \u001b[0;36m1\n\u001b[0;32m     <a href='vscode-notebook-cell:/c%3A/Users/KlimovaAnnaA/Documents/MyFiles/Projects/OCP/ARAP/ARAP.ipynb#X24sZmlsZQ%3D%3D?line=15'>16</a>\u001b[0m group_data \u001b[39m=\u001b[39m data_E_to_C\u001b[39m.\u001b[39mpivot_table(index\u001b[39m=\u001b[39m[\u001b[39m'\u001b[39m\u001b[39mCompCode_concat\u001b[39m\u001b[39m'\u001b[39m, \u001b[39m'\u001b[39m\u001b[39mCtyCode\u001b[39m\u001b[39m'\u001b[39m, \u001b[39m'\u001b[39m\u001b[39mdealNumber\u001b[39m\u001b[39m'\u001b[39m,  \u001b[39m'\u001b[39m\u001b[39mdueDate\u001b[39m\u001b[39m'\u001b[39m, \u001b[39m'\u001b[39m\u001b[39mcurrencyCode\u001b[39m\u001b[39m'\u001b[39m, \u001b[39m'\u001b[39m\u001b[39mAmount_USD\u001b[39m\u001b[39m'\u001b[39m], values\u001b[39m=\u001b[39m\u001b[39m'\u001b[39m\u001b[39mIndex_copy\u001b[39m\u001b[39m'\u001b[39m, aggfunc\u001b[39m=\u001b[39m{\u001b[39m'\u001b[39m\u001b[39mIndex_copy\u001b[39m\u001b[39m'\u001b[39m: \u001b[39mlist\u001b[39m})\u001b[39m.\u001b[39mreset_index()\n\u001b[0;32m     <a href='vscode-notebook-cell:/c%3A/Users/KlimovaAnnaA/Documents/MyFiles/Projects/OCP/ARAP/ARAP.ipynb#X24sZmlsZQ%3D%3D?line=16'>17</a>\u001b[0m group_data[\u001b[39m'\u001b[39m\u001b[39mIndex_count\u001b[39m\u001b[39m'\u001b[39m] \u001b[39m=\u001b[39m group_data[\u001b[39m'\u001b[39m\u001b[39mIndex_copy\u001b[39m\u001b[39m'\u001b[39m]\u001b[39m.\u001b[39mapply(\u001b[39mlen\u001b[39m)\n\u001b[1;32m---> <a href='vscode-notebook-cell:/c%3A/Users/KlimovaAnnaA/Documents/MyFiles/Projects/OCP/ARAP/ARAP.ipynb#X24sZmlsZQ%3D%3D?line=17'>18</a>\u001b[0m \u001b[39massert\u001b[39;00m group_data\u001b[39m.\u001b[39mIndex_count\u001b[39m.\u001b[39munique()\u001b[39m.\u001b[39mtolist() \u001b[39m==\u001b[39m [\u001b[39m1\u001b[39m]\n\u001b[0;32m     <a href='vscode-notebook-cell:/c%3A/Users/KlimovaAnnaA/Documents/MyFiles/Projects/OCP/ARAP/ARAP.ipynb#X24sZmlsZQ%3D%3D?line=18'>19</a>\u001b[0m \u001b[39m# Проверка наличия пары у кадого значения\u001b[39;00m\n\u001b[0;32m     <a href='vscode-notebook-cell:/c%3A/Users/KlimovaAnnaA/Documents/MyFiles/Projects/OCP/ARAP/ARAP.ipynb#X24sZmlsZQ%3D%3D?line=19'>20</a>\u001b[0m group_data \u001b[39m=\u001b[39m doubles_data\u001b[39m.\u001b[39mpivot_table(index\u001b[39m=\u001b[39m[\u001b[39m'\u001b[39m\u001b[39mdealNumber\u001b[39m\u001b[39m'\u001b[39m,  \u001b[39m'\u001b[39m\u001b[39mdueDate\u001b[39m\u001b[39m'\u001b[39m, \u001b[39m'\u001b[39m\u001b[39mcurrencyCode\u001b[39m\u001b[39m'\u001b[39m, \u001b[39m'\u001b[39m\u001b[39mAmount_USD\u001b[39m\u001b[39m'\u001b[39m], values\u001b[39m=\u001b[39m\u001b[39m'\u001b[39m\u001b[39mIndex_copy\u001b[39m\u001b[39m'\u001b[39m, aggfunc\u001b[39m=\u001b[39m{\u001b[39m'\u001b[39m\u001b[39mIndex_copy\u001b[39m\u001b[39m'\u001b[39m: \u001b[39mlist\u001b[39m})\u001b[39m.\u001b[39mreset_index()\n",
      "\u001b[1;31mAssertionError\u001b[0m: "
     ]
    }
   ],
   "source": [
    "index_datawork_to_print = []\n",
    "\n",
    "# Фильт по Counterparty_Group - только внутригрупповые\n",
    "data_E_to_C = data_work.query('CtyMap != \"External\"')\n",
    "data_E_to_C['Index_copy'] = data_E_to_C.index\n",
    "\n",
    "# Кокатенация значений\n",
    "data_E_to_C[['dealNumber',  'dueDate']] = data_E_to_C[['dealNumber',  'dueDate']].fillna('_')\n",
    "data_E_to_C['concat_col_EC'] = data_E_to_C[['CompCode_concat', 'CtyCode', 'dealNumber',  'dueDate', 'currencyCode', 'Amount_USD']].astype(str).agg('.'.join, axis=1)\n",
    "data_E_to_C['concat_col_CE'] = data_E_to_C[['CtyCode', 'CompCode_concat', 'dealNumber',  'dueDate', 'currencyCode', 'Amount_USD']].astype(str).agg('.'.join, axis=1)\n",
    "\n",
    "# Данные с повторяющимися значениями\n",
    "doubles_data = data_E_to_C[data_E_to_C.concat_col_EC.isin(data_E_to_C.concat_col_CE)]\n",
    "doubles_data = doubles_data.sort_values(by=['dealNumber',  'dueDate', 'currencyCode', 'Amount_USD'])\n",
    "# Проверка на отсутсвие необходимости суммировать значения amoutn_outstanding\n",
    "group_data = data_E_to_C.pivot_table(index=['CompCode_concat', 'CtyCode', 'dealNumber',  'dueDate', 'currencyCode', 'Amount_USD'], values='Index_copy', aggfunc={'Index_copy': list}).reset_index()\n",
    "group_data['Index_count'] = group_data['Index_copy'].apply(len)\n",
    "assert group_data.Index_count.unique().tolist() == [1]\n",
    "# Проверка наличия пары у кадого значения\n",
    "group_data = doubles_data.pivot_table(index=['dealNumber',  'dueDate', 'currencyCode', 'Amount_USD'], values='Index_copy', aggfunc={'Index_copy': list}).reset_index()\n",
    "group_data['Index_count'] = group_data['Index_copy'].apply(len)\n",
    "assert group_data.Index_count.unique().tolist() == [2]\n",
    "\n",
    "# В список index_dataDebt_to_print добавлена только одна запись из равной пары\n",
    "group_data['index_to_print'] = group_data['Index_copy'].str[0]\n",
    "index_to_print_list = group_data.index_to_print.tolist()\n",
    "index_datawork_to_print += index_to_print_list\n",
    "# Проверка, что взята ровно половина повторяющихся данных\n",
    "assert len(index_datawork_to_print) == len(doubles_data)/2"
   ]
  },
  {
   "cell_type": "code",
   "execution_count": 35,
   "id": "44a0c43d",
   "metadata": {},
   "outputs": [],
   "source": [
    "ls = list(np.concatenate(group_data[group_data.Index_count >1].Index_copy.tolist()))"
   ]
  },
  {
   "cell_type": "code",
   "execution_count": 37,
   "id": "f22c8c96",
   "metadata": {},
   "outputs": [],
   "source": [
    "data_work.loc[[499268, 499544], :]\n",
    "data_work.loc[ls, :].to_excel('2024_03_29_Douples_ARAP.xlsx')"
   ]
  }
 ],
 "metadata": {
  "kernelspec": {
   "display_name": "Python 3 (ipykernel)",
   "language": "python",
   "name": "python3"
  },
  "language_info": {
   "codemirror_mode": {
    "name": "ipython",
    "version": 3
   },
   "file_extension": ".py",
   "mimetype": "text/x-python",
   "name": "python",
   "nbconvert_exporter": "python",
   "pygments_lexer": "ipython3",
   "version": "3.11.5"
  }
 },
 "nbformat": 4,
 "nbformat_minor": 5
}
