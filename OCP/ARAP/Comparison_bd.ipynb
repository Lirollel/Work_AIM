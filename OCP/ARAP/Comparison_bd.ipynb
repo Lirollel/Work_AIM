{
 "cells": [
  {
   "cell_type": "code",
   "execution_count": 1,
   "metadata": {},
   "outputs": [],
   "source": [
    "import pandas as pd\n",
    "import numpy as np\n",
    "from datetime import date, timedelta\n",
    "import seaborn as sns\n",
    "import matplotlib.pyplot as plt\n",
    "import matplotlib.axes as ax\n",
    "import openpyxl\n",
    "from openpyxl.styles import Border, Side, PatternFill, Font, GradientFill, Alignment\n",
    "from openpyxl.drawing.image import Image\n",
    "import win32com.client as win32\n",
    "import os\n",
    "from PIL import ImageGrab\n",
    "import win32com.client\n",
    "\n",
    "olApp = win32.Dispatch('Outlook.Application')\n",
    "olNS = olApp.GetNameSpace('MAPI')\n",
    "\n",
    "import sys\n",
    "sys.path.append(\"C:\\\\Users\\\\KlimovaAnnaA\\\\Documents\\\\MyFiles\\\\Projects\\\\OCP\")\n",
    "from Defs import merge_SalesUnits\n",
    "from Defs import merge_Mapping\n",
    "from Defs import Period\n",
    "from Defs import new_list\n",
    "from Defs import export_from_RISKCUSTOM\n",
    "from Defs import add_in_currency_column\n",
    "from Defs import concat_columns\n",
    "from Defs import export_from_WHWEEK"
   ]
  },
  {
   "cell_type": "code",
   "execution_count": 2,
   "metadata": {},
   "outputs": [],
   "source": [
    "Today ='2024-04-30'\n",
    "print_to_excel = False"
   ]
  },
  {
   "cell_type": "code",
   "execution_count": 3,
   "metadata": {},
   "outputs": [
    {
     "name": "stderr",
     "output_type": "stream",
     "text": [
      "C:\\Users\\KlimovaAnnaA\\Documents\\MyFiles\\Projects\\OCP\\Defs.py:168: UserWarning: pandas only supports SQLAlchemy connectable (engine/connection) or database string URI or sqlite3 DBAPI2 connection. Other DBAPI2 objects are not tested. Please consider using SQLAlchemy.\n",
      "  data_export = pd.read_sql(query, con=connection)\n"
     ]
    }
   ],
   "source": [
    "query = f\"\"\"\n",
    "SELECT *\n",
    "FROM xxwh.\"unifiedARReport\"\n",
    "WHERE \n",
    "    \"rowType\" = 'M' and\n",
    "    \"reportDate\" = TO_DATE('{Today}', 'YYYY-MM-DD') \n",
    "    \"\"\"\n",
    "# \"sourceSystem\" in ('SAP ECP', 'SAP ERP') and\n",
    "data_xxwh = export_from_WHWEEK(query)"
   ]
  },
  {
   "cell_type": "code",
   "execution_count": 4,
   "metadata": {},
   "outputs": [
    {
     "data": {
      "text/plain": [
       "Index(['holding', 'holdingCurrency'], dtype='object')"
      ]
     },
     "execution_count": 4,
     "metadata": {},
     "output_type": "execute_result"
    }
   ],
   "source": [
    "data_xxwh.columns[data_xxwh.columns.str.contains('hold')]\n",
    "# data_xxwh[['holding', 'holdingCurrency']]"
   ]
  },
  {
   "cell_type": "code",
   "execution_count": 5,
   "metadata": {},
   "outputs": [
    {
     "name": "stderr",
     "output_type": "stream",
     "text": [
      "C:\\Users\\KlimovaAnnaA\\AppData\\Local\\Temp\\ipykernel_22912\\1057154947.py:15: FutureWarning: The provided callable <built-in function sum> is currently using DataFrameGroupBy.sum. In a future version of pandas, the provided callable will be used directly. To keep current behavior pass the string \"sum\" instead.\n",
      "  group_data = USD_data.pivot_table(index=index_list, values=['amount','presentAmountUSD'], aggfunc=sum).reset_index()\n",
      "C:\\Users\\KlimovaAnnaA\\AppData\\Local\\Temp\\ipykernel_22912\\1057154947.py:15: FutureWarning: The provided callable <built-in function sum> is currently using DataFrameGroupBy.sum. In a future version of pandas, the provided callable will be used directly. To keep current behavior pass the string \"sum\" instead.\n",
      "  group_data = USD_data.pivot_table(index=index_list, values=['amount','presentAmountUSD'], aggfunc=sum).reset_index()\n"
     ]
    },
    {
     "ename": "NameError",
     "evalue": "name 'writer' is not defined",
     "output_type": "error",
     "traceback": [
      "\u001b[1;31m---------------------------------------------------------------------------\u001b[0m",
      "\u001b[1;31mNameError\u001b[0m                                 Traceback (most recent call last)",
      "\u001b[1;32mc:\\Users\\KlimovaAnnaA\\Documents\\MyFiles\\Projects\\OCP\\ARAP\\Comparison_bd.ipynb Cell 5\u001b[0m line \u001b[0;36m2\n\u001b[0;32m     <a href='vscode-notebook-cell:/c%3A/Users/KlimovaAnnaA/Documents/MyFiles/Projects/OCP/ARAP/Comparison_bd.ipynb#W4sZmlsZQ%3D%3D?line=24'>25</a>\u001b[0m             col_count\u001b[39m+\u001b[39m\u001b[39m=\u001b[39m\u001b[39m1\u001b[39m\n\u001b[0;32m     <a href='vscode-notebook-cell:/c%3A/Users/KlimovaAnnaA/Documents/MyFiles/Projects/OCP/ARAP/Comparison_bd.ipynb#W4sZmlsZQ%3D%3D?line=25'>26</a>\u001b[0m             pd\u001b[39m.\u001b[39mDataFrame({\u001b[39mf\u001b[39m\u001b[39m'\u001b[39m\u001b[39mUnique_\u001b[39m\u001b[39m{\u001b[39;00mcol\u001b[39m}\u001b[39;00m\u001b[39m'\u001b[39m:group_data[col]\u001b[39m.\u001b[39munique()\u001b[39m.\u001b[39mtolist()})\u001b[39m.\u001b[39mto_excel(writer, sheet_name\u001b[39m=\u001b[39msheet_name, startcol\u001b[39m=\u001b[39mcol_count, index\u001b[39m=\u001b[39m\u001b[39mFalse\u001b[39;00m)\n\u001b[1;32m---> <a href='vscode-notebook-cell:/c%3A/Users/KlimovaAnnaA/Documents/MyFiles/Projects/OCP/ARAP/Comparison_bd.ipynb#W4sZmlsZQ%3D%3D?line=26'>27</a>\u001b[0m writer\u001b[39m.\u001b[39mclose()\n",
      "\u001b[1;31mNameError\u001b[0m: name 'writer' is not defined"
     ]
    }
   ],
   "source": [
    "# data_xxwh.iloc[:2,150:]\n",
    "#,partyInternational,customerName,orgName,companyCode,amount,currencyCode,exchangeRate,documentDate,dueDate,presentAmountUSD\n",
    "data_work = data_xxwh[['companyCode', 'orgName', 'holding', 'functionalCurrency', 'sourceSystem', 'reportDate','documentDate','dueDate','insertToSource','amount','currencyCode','exchangeRate','presentAmountUSD','reportDateUSDRate','debtHoldingCurrency','holdingCurrency','presentationCurrency','reportDateIfrsRateUSDBu','presentAmountIfrsUSD']]\n",
    "data_work = data_work.fillna(0)\n",
    "data_USD_1 = data_work[(data_work.currencyCode=='USD')&(data_work.reportDateUSDRate==1)]\n",
    "data_USD_not1 = data_work[(data_work.currencyCode=='USD')&(data_work.reportDateUSDRate!=1)]\n",
    "count=0\n",
    "if print_to_excel == True:\n",
    "    Output_file=f'{str(date.today())}_USDrate_xxwh-unifiedARReport.xlsx'\n",
    "    writer = pd.ExcelWriter(Output_file, engine='openpyxl')  \n",
    "    workbook=writer.book\n",
    "for USD_data in [data_USD_1, data_USD_not1]:\n",
    "    count = count+1\n",
    "    index_list = ['orgName', 'holding',  'reportDate','documentDate','insertToSource','functionalCurrency', 'sourceSystem']\n",
    "    group_data = USD_data.pivot_table(index=index_list, values=['amount','presentAmountUSD'], aggfunc=sum).reset_index()\n",
    "    if print_to_excel == True:\n",
    "        sheet_name=''\n",
    "        if count == 1:\n",
    "            sheet_name = 'USD_1'\n",
    "        if count == 2:\n",
    "            sheet_name = 'USD_not1'\n",
    "        group_data.to_excel(writer, sheet_name=sheet_name, index=False)\n",
    "        col_count=group_data.shape[1]+1\n",
    "        for col in index_list:\n",
    "            col_count+=1\n",
    "            pd.DataFrame({f'Unique_{col}':group_data[col].unique().tolist()}).to_excel(writer, sheet_name=sheet_name, startcol=col_count, index=False)\n",
    "writer.close()\n"
   ]
  },
  {
   "cell_type": "code",
   "execution_count": 15,
   "metadata": {},
   "outputs": [],
   "source": [
    "Output_file = f'{str(date.today())}_USDrate_xxwh-unifiedARReport.xlsx'\n",
    "data_USD_not1[(((data_USD_not1.amount/data_USD_not1.presentAmountUSD).abs() >2)|((data_USD_not1.presentAmountUSD/data_USD_not1.amount).abs() >2))&(data_USD_not1.amount>1)].to_excel(Output_file, sheet_name='USD_not1')\n",
    "new_list(data_USD_1, Output_file, 'USD_1')"
   ]
  }
 ],
 "metadata": {
  "kernelspec": {
   "display_name": "base",
   "language": "python",
   "name": "python3"
  },
  "language_info": {
   "codemirror_mode": {
    "name": "ipython",
    "version": 3
   },
   "file_extension": ".py",
   "mimetype": "text/x-python",
   "name": "python",
   "nbconvert_exporter": "python",
   "pygments_lexer": "ipython3",
   "version": "3.11.5"
  },
  "orig_nbformat": 4
 },
 "nbformat": 4,
 "nbformat_minor": 2
}
