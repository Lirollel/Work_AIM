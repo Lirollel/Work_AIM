{
 "cells": [
  {
   "cell_type": "markdown",
   "id": "e4040b33",
   "metadata": {},
   "source": [
    "Заполните данные о необходимых переменных:"
   ]
  },
  {
   "cell_type": "code",
   "execution_count": 1,
   "id": "c600f085",
   "metadata": {},
   "outputs": [],
   "source": [
    "Today = '31.01.2024'\n",
    "Mounth = 'Jan'\n",
    "\n",
    "Group = 'SUEK'"
   ]
  },
  {
   "cell_type": "code",
   "execution_count": 2,
   "id": "0f3ff682",
   "metadata": {},
   "outputs": [
    {
     "data": {
      "text/plain": [
       "['ODGS 2024 01 M SUEK.xlsx', 'ODGS_2024_01_M_ECh.xlsx']"
      ]
     },
     "execution_count": 2,
     "metadata": {},
     "output_type": "execute_result"
    }
   ],
   "source": [
    "import os\n",
    "files_list = os.listdir('.')\n",
    "work_files_list = [x for x in files_list if ('.xlsx' in x and '~' not in x and 'ODGS' in x and '01' in x)] # Месяц\n",
    "Data_file = [x for x in work_files_list if 'SUEK' in x][0] # Холдинг\n",
    "Sheet_in_data_file = 'Export Worksheet'\n",
    "\n",
    "from datetime import date\n",
    "Output_file = \"_\".join([str(date.today()), Group, 'SAP', 'ARAP', f'{Mounth}.xlsx'])\n",
    "Sheet_in_output_file = 'ARAP'\n",
    "\n",
    "work_files_list"
   ]
  },
  {
   "cell_type": "markdown",
   "id": "e3a68f4a",
   "metadata": {},
   "source": [
    "Открываю следующие файлы:"
   ]
  },
  {
   "cell_type": "code",
   "execution_count": 3,
   "id": "2f58abe5",
   "metadata": {},
   "outputs": [
    {
     "name": "stderr",
     "output_type": "stream",
     "text": [
      "c:\\Users\\KlimovaAnnaA\\AppData\\Local\\miniconda3\\Lib\\site-packages\\openpyxl\\styles\\stylesheet.py:226: UserWarning: Workbook contains no default style, apply openpyxl's default\n",
      "  warn(\"Workbook contains no default style, apply openpyxl's default\")\n"
     ]
    }
   ],
   "source": [
    "import pandas as pd\n",
    "import numpy as np\n",
    "\n",
    "data_export = pd.read_excel(Data_file, sheet_name = Sheet_in_data_file)"
   ]
  },
  {
   "cell_type": "code",
   "execution_count": 4,
   "id": "71ab5ccf",
   "metadata": {},
   "outputs": [],
   "source": [
    "import sys\n",
    "sys.path.append(\"C:\\\\Users\\\\KlimovaAnnaA\\\\Documents\\\\MyFiles\\\\Projects\\\\OCP\")\n",
    "from Defs import merge_SalesUnits\n",
    "from Defs import merge_Mapping\n",
    "from Defs import Period"
   ]
  },
  {
   "cell_type": "code",
   "execution_count": 5,
   "id": "886aae53",
   "metadata": {},
   "outputs": [
    {
     "name": "stderr",
     "output_type": "stream",
     "text": [
      "C:\\Users\\KlimovaAnnaA\\Documents\\MyFiles\\Projects\\OCP\\Defs.py:42: UserWarning: Parsing dates in %d.%m.%Y format when dayfirst=False (the default) was specified. Pass `dayfirst=True` or specify a format to silence this warning.\n",
      "  day = pd.to_datetime(day_for_count)\n"
     ]
    }
   ],
   "source": [
    "data_work = data_export.query('holding == @Group')\n",
    "# фильтрация по перемнной Group\n",
    "\n",
    "data_work['org_code'] = merge_Mapping(data_work, col='orgName')\n",
    "data_work['CompMap'] = merge_SalesUnits(data_work, col='org_code', merge_col='ocpSegment')\n",
    "\n",
    "data_work['CtyCode'] = merge_Mapping(data_work, col='customerName')\n",
    "data_work['CtyMap'] = merge_SalesUnits(data_work, col='CtyCode', merge_col='ocpSegment')\n",
    "\n",
    "data_work['AR_flag'] = data_work['accountPurpose']\\\n",
    "                                            .isin(['Trade receivables', 'Other receivables', 'Provisions'])\\\n",
    "                                            .astype(int)\n",
    "data_work['AP_flag'] = data_work['accountPurpose']\\\n",
    "                                            .isin(['Trade payables', 'Other payables'])\\\n",
    "                                            .astype(int)\n",
    "\n",
    "data_work['Amount_USD'] = data_work['presentAmountUSD'].replace({np.NaN : 0})\n",
    "data_work['Amount_AR_USD'] = data_work['Amount_USD'] * data_work['AR_flag']\n",
    "data_work['Amount_AP_USD'] = data_work['Amount_USD'] * data_work['AP_flag']\n",
    "\n",
    "data_work = Period(data_work, day_for_count=Today, col_with_date='dueDate')"
   ]
  },
  {
   "cell_type": "markdown",
   "id": "cb093e42",
   "metadata": {},
   "source": [
    "Записываю данные в output file:"
   ]
  },
  {
   "cell_type": "code",
   "execution_count": 6,
   "id": "f1d2788c-6389-4bb6-985d-070b4384a3ff",
   "metadata": {},
   "outputs": [],
   "source": [
    "data_print = data_work[['customerName', 'org_code', 'currencyCode', 'sourceSystem',\\\n",
    "                    'accountPurpose', 'CompMap', 'CtyCode', 'CtyMap','Amount_USD',\\\n",
    "                    'AR_flag', 'Amount_AR_USD', 'AP_flag', 'Amount_AP_USD', 'Days', 'Period']]"
   ]
  },
  {
   "cell_type": "markdown",
   "id": "8a7ba85b",
   "metadata": {},
   "source": [
    "Проверка на merge:"
   ]
  },
  {
   "cell_type": "code",
   "execution_count": 7,
   "id": "92aa4d58",
   "metadata": {},
   "outputs": [
    {
     "data": {
      "text/html": [
       "<div>\n",
       "<style scoped>\n",
       "    .dataframe tbody tr th:only-of-type {\n",
       "        vertical-align: middle;\n",
       "    }\n",
       "\n",
       "    .dataframe tbody tr th {\n",
       "        vertical-align: top;\n",
       "    }\n",
       "\n",
       "    .dataframe thead th {\n",
       "        text-align: right;\n",
       "    }\n",
       "</style>\n",
       "<table border=\"1\" class=\"dataframe\">\n",
       "  <thead>\n",
       "    <tr style=\"text-align: right;\">\n",
       "      <th></th>\n",
       "      <th>customerName</th>\n",
       "      <th>CtyCode</th>\n",
       "      <th>CtyMap</th>\n",
       "    </tr>\n",
       "  </thead>\n",
       "  <tbody>\n",
       "    <tr>\n",
       "      <th>137147</th>\n",
       "      <td>ООО \"Управление по буровзрывным работам\"</td>\n",
       "      <td>External</td>\n",
       "      <td>External</td>\n",
       "    </tr>\n",
       "    <tr>\n",
       "      <th>180800</th>\n",
       "      <td>ООО \"Германий и приложения\"</td>\n",
       "      <td>External</td>\n",
       "      <td>External</td>\n",
       "    </tr>\n",
       "    <tr>\n",
       "      <th>204231</th>\n",
       "      <td>АО \"Управляющая компания \"Мурманский транспорт...</td>\n",
       "      <td>External</td>\n",
       "      <td>External</td>\n",
       "    </tr>\n",
       "    <tr>\n",
       "      <th>236121</th>\n",
       "      <td>Благотворительный фонд Андрея Мельниченко</td>\n",
       "      <td>External</td>\n",
       "      <td>External</td>\n",
       "    </tr>\n",
       "    <tr>\n",
       "      <th>258366</th>\n",
       "      <td>ООО \"БГТК\"</td>\n",
       "      <td>External</td>\n",
       "      <td>External</td>\n",
       "    </tr>\n",
       "    <tr>\n",
       "      <th>275548</th>\n",
       "      <td>АО \"Морцентр-ТЭК\"</td>\n",
       "      <td>External</td>\n",
       "      <td>External</td>\n",
       "    </tr>\n",
       "    <tr>\n",
       "      <th>317761</th>\n",
       "      <td>SUEK India Pvt Ltd</td>\n",
       "      <td>External</td>\n",
       "      <td>External</td>\n",
       "    </tr>\n",
       "  </tbody>\n",
       "</table>\n",
       "</div>"
      ],
      "text/plain": [
       "                                             customerName   CtyCode    CtyMap\n",
       "137147           ООО \"Управление по буровзрывным работам\"  External  External\n",
       "180800                        ООО \"Германий и приложения\"  External  External\n",
       "204231  АО \"Управляющая компания \"Мурманский транспорт...  External  External\n",
       "236121          Благотворительный фонд Андрея Мельниченко  External  External\n",
       "258366                                         ООО \"БГТК\"  External  External\n",
       "275548                                  АО \"Морцентр-ТЭК\"  External  External\n",
       "317761                                 SUEK India Pvt Ltd  External  External"
      ]
     },
     "execution_count": 7,
     "metadata": {},
     "output_type": "execute_result"
    }
   ],
   "source": [
    "check_data = data_work.loc[(data_work['internalExternalEN'] == 'Internal') & (data_work['CtyMap'] == 'External'),\\\n",
    "                                                    ['customerName', 'CtyCode', 'CtyMap']].drop_duplicates()\n",
    "check_data\n",
    "# check_data.to_excel('manual_map_ARAP_SUEK.xlsx', index=False)"
   ]
  },
  {
   "cell_type": "code",
   "execution_count": 8,
   "id": "58114362",
   "metadata": {},
   "outputs": [
    {
     "data": {
      "text/html": [
       "<div>\n",
       "<style scoped>\n",
       "    .dataframe tbody tr th:only-of-type {\n",
       "        vertical-align: middle;\n",
       "    }\n",
       "\n",
       "    .dataframe tbody tr th {\n",
       "        vertical-align: top;\n",
       "    }\n",
       "\n",
       "    .dataframe thead th {\n",
       "        text-align: right;\n",
       "    }\n",
       "</style>\n",
       "<table border=\"1\" class=\"dataframe\">\n",
       "  <thead>\n",
       "    <tr style=\"text-align: right;\">\n",
       "      <th></th>\n",
       "      <th>orgName</th>\n",
       "      <th>org_code</th>\n",
       "      <th>CompMap</th>\n",
       "    </tr>\n",
       "  </thead>\n",
       "  <tbody>\n",
       "  </tbody>\n",
       "</table>\n",
       "</div>"
      ],
      "text/plain": [
       "Empty DataFrame\n",
       "Columns: [orgName, org_code, CompMap]\n",
       "Index: []"
      ]
     },
     "execution_count": 8,
     "metadata": {},
     "output_type": "execute_result"
    }
   ],
   "source": [
    "check_data2 = data_work.loc[(data_work['internalExternalEN'] == 'Internal') & (data_work['CompMap'] == 'External'),\\\n",
    "                                                    ['orgName', 'org_code','CompMap']].drop_duplicates()\n",
    "check_data2"
   ]
  },
  {
   "cell_type": "code",
   "execution_count": 9,
   "id": "4be59aee",
   "metadata": {},
   "outputs": [],
   "source": [
    "# assert 1==2"
   ]
  },
  {
   "cell_type": "code",
   "execution_count": 10,
   "id": "a35253c4",
   "metadata": {},
   "outputs": [],
   "source": [
    "# data_print.to_excel(Output_file, sheet_name = Sheet_in_output_file, index = False)"
   ]
  },
  {
   "cell_type": "code",
   "execution_count": 11,
   "id": "c130d3d5",
   "metadata": {},
   "outputs": [
    {
     "data": {
      "text/html": [
       "<div>\n",
       "<style scoped>\n",
       "    .dataframe tbody tr th:only-of-type {\n",
       "        vertical-align: middle;\n",
       "    }\n",
       "\n",
       "    .dataframe tbody tr th {\n",
       "        vertical-align: top;\n",
       "    }\n",
       "\n",
       "    .dataframe thead th {\n",
       "        text-align: right;\n",
       "    }\n",
       "</style>\n",
       "<table border=\"1\" class=\"dataframe\">\n",
       "  <thead>\n",
       "    <tr style=\"text-align: right;\">\n",
       "      <th>CtyMap</th>\n",
       "      <th>NTC</th>\n",
       "      <th>RUFERT</th>\n",
       "      <th>SGC</th>\n",
       "      <th>SUEK INT</th>\n",
       "      <th>SUEK RU</th>\n",
       "    </tr>\n",
       "    <tr>\n",
       "      <th>CompMap</th>\n",
       "      <th></th>\n",
       "      <th></th>\n",
       "      <th></th>\n",
       "      <th></th>\n",
       "      <th></th>\n",
       "    </tr>\n",
       "  </thead>\n",
       "  <tbody>\n",
       "    <tr>\n",
       "      <th>NTC</th>\n",
       "      <td>-627357.89</td>\n",
       "      <td>-1201963.75</td>\n",
       "      <td>4.374756e+04</td>\n",
       "      <td>4.354061e+06</td>\n",
       "      <td>-6.295659e+07</td>\n",
       "    </tr>\n",
       "    <tr>\n",
       "      <th>RUFERT</th>\n",
       "      <td>307281.07</td>\n",
       "      <td>0.02</td>\n",
       "      <td>-4.303268e+04</td>\n",
       "      <td>NaN</td>\n",
       "      <td>3.140277e+05</td>\n",
       "    </tr>\n",
       "    <tr>\n",
       "      <th>SGC</th>\n",
       "      <td>108772.17</td>\n",
       "      <td>43032.72</td>\n",
       "      <td>3.931081e+06</td>\n",
       "      <td>NaN</td>\n",
       "      <td>-1.331444e+08</td>\n",
       "    </tr>\n",
       "    <tr>\n",
       "      <th>SUEK INT</th>\n",
       "      <td>-2442357.47</td>\n",
       "      <td>NaN</td>\n",
       "      <td>NaN</td>\n",
       "      <td>1.151956e+06</td>\n",
       "      <td>-9.804473e+08</td>\n",
       "    </tr>\n",
       "    <tr>\n",
       "      <th>SUEK RU</th>\n",
       "      <td>26483424.04</td>\n",
       "      <td>-308381.77</td>\n",
       "      <td>1.226782e+08</td>\n",
       "      <td>7.413301e+08</td>\n",
       "      <td>4.327851e+06</td>\n",
       "    </tr>\n",
       "  </tbody>\n",
       "</table>\n",
       "</div>"
      ],
      "text/plain": [
       "CtyMap            NTC      RUFERT           SGC      SUEK INT       SUEK RU\n",
       "CompMap                                                                    \n",
       "NTC        -627357.89 -1201963.75  4.374756e+04  4.354061e+06 -6.295659e+07\n",
       "RUFERT      307281.07        0.02 -4.303268e+04           NaN  3.140277e+05\n",
       "SGC         108772.17    43032.72  3.931081e+06           NaN -1.331444e+08\n",
       "SUEK INT  -2442357.47         NaN           NaN  1.151956e+06 -9.804473e+08\n",
       "SUEK RU   26483424.04  -308381.77  1.226782e+08  7.413301e+08  4.327851e+06"
      ]
     },
     "execution_count": 11,
     "metadata": {},
     "output_type": "execute_result"
    }
   ],
   "source": [
    "BS_data = data_work[(data_work.accountPurpose.str.contains('Trade')) | (data_work.accountPurpose.str.contains('Other'))].reset_index(drop=True)\n",
    "BS_data['Comp_hold'] = merge_SalesUnits(BS_data, col='org_code', merge_col='holding')\n",
    "BS_data['Cpty_hold'] = merge_SalesUnits(BS_data, col='CtyCode', merge_col='holding')\n",
    "\n",
    "BS_data = BS_data[(BS_data.Comp_hold == Group) & (BS_data.Cpty_hold == Group)]\n",
    "BS_data = BS_data[BS_data.CompMap != 'External']\n",
    "BS_data = BS_data[['CompMap', 'CtyMap', 'Amount_USD']]\n",
    "BS_pivot = pd.pivot_table(BS_data, values='Amount_USD', index='CompMap', aggfunc='sum', columns='CtyMap',)\n",
    "BS_pivot"
   ]
  },
  {
   "cell_type": "code",
   "execution_count": 12,
   "id": "03f44b47",
   "metadata": {},
   "outputs": [],
   "source": [
    "# with pd.ExcelWriter(Output_file, engine='openpyxl', mode='a') as writer:\n",
    "#     BS_pivot.to_excel(writer,sheet_name='BS_to_BS')"
   ]
  },
  {
   "cell_type": "code",
   "execution_count": 13,
   "id": "b26ac22e",
   "metadata": {},
   "outputs": [
    {
     "ename": "AssertionError",
     "evalue": "",
     "output_type": "error",
     "traceback": [
      "\u001b[1;31m---------------------------------------------------------------------------\u001b[0m",
      "\u001b[1;31mAssertionError\u001b[0m                            Traceback (most recent call last)",
      "\u001b[1;32mc:\\Users\\KlimovaAnnaA\\Documents\\MyFiles\\Projects\\OCP\\ARAP\\ARAP_SUEK.ipynb Cell 17\u001b[0m line \u001b[0;36m1\n\u001b[1;32m----> <a href='vscode-notebook-cell:/c%3A/Users/KlimovaAnnaA/Documents/MyFiles/Projects/OCP/ARAP/ARAP_SUEK.ipynb#X22sZmlsZQ%3D%3D?line=0'>1</a>\u001b[0m \u001b[39massert\u001b[39;00m \u001b[39m1\u001b[39m\u001b[39m==\u001b[39m\u001b[39m2\u001b[39m\n",
      "\u001b[1;31mAssertionError\u001b[0m: "
     ]
    }
   ],
   "source": [
    "assert 1==2"
   ]
  },
  {
   "cell_type": "code",
   "execution_count": null,
   "id": "de7101b0",
   "metadata": {},
   "outputs": [],
   "source": [
    "BS_pivot.to_excel(Output_file, sheet_name = 'BS_to_BS')\n",
    "with pd.ExcelWriter(Output_file, engine='openpyxl', mode='a') as writer:\n",
    "    data_print.to_excel(writer,sheet_name=Sheet_in_output_file, index=False)\n"
   ]
  }
 ],
 "metadata": {
  "kernelspec": {
   "display_name": "Python 3 (ipykernel)",
   "language": "python",
   "name": "python3"
  },
  "language_info": {
   "codemirror_mode": {
    "name": "ipython",
    "version": 3
   },
   "file_extension": ".py",
   "mimetype": "text/x-python",
   "name": "python",
   "nbconvert_exporter": "python",
   "pygments_lexer": "ipython3",
   "version": "3.11.5"
  }
 },
 "nbformat": 4,
 "nbformat_minor": 5
}
