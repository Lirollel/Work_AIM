{
 "cells": [
  {
   "cell_type": "markdown",
   "id": "e4040b33",
   "metadata": {},
   "source": [
    "Заполните данные о необходимых переменных:"
   ]
  },
  {
   "cell_type": "code",
   "execution_count": 1,
   "id": "c600f085",
   "metadata": {},
   "outputs": [],
   "source": [
    "Today = '29.02.2024'\n",
    "Mounth = 'Feb'\n",
    "\n",
    "Group = 'EUROCHEM'"
   ]
  },
  {
   "cell_type": "code",
   "execution_count": 2,
   "id": "bed95831",
   "metadata": {},
   "outputs": [
    {
     "data": {
      "text/plain": [
       "['ODGS_2024_02_M_ECh.xlsx']"
      ]
     },
     "execution_count": 2,
     "metadata": {},
     "output_type": "execute_result"
    }
   ],
   "source": [
    "import os\n",
    "files_list = os.listdir('.')\n",
    "work_files_list = [x for x in files_list if ('.xlsx' in x and '~' not in x and 'ODGS' in x and '02_' in x)] # Месяц\n",
    "Data_file = [x for x in work_files_list if 'ECh' in x][0] # Холдинг\n",
    "Sheet_in_data_file = 'Export Worksheet'\n",
    "\n",
    "from datetime import date\n",
    "Output_file = \"_\".join([str(date.today()), Group, 'SAP', 'ARAP', f'{Mounth}.xlsx'])\n",
    "Sheet_in_output_file = 'ARAP'\n",
    "\n",
    "work_files_list"
   ]
  },
  {
   "cell_type": "markdown",
   "id": "e3a68f4a",
   "metadata": {},
   "source": [
    "Открываю следующие файлы:"
   ]
  },
  {
   "cell_type": "code",
   "execution_count": 3,
   "id": "2f58abe5",
   "metadata": {},
   "outputs": [],
   "source": [
    "import pandas as pd\n",
    "import numpy as np\n",
    "\n",
    "data_export = pd.read_excel(Data_file, sheet_name = Sheet_in_data_file)"
   ]
  },
  {
   "cell_type": "code",
   "execution_count": 4,
   "id": "196bb079",
   "metadata": {},
   "outputs": [],
   "source": [
    "import sys\n",
    "sys.path.append(\"C:\\\\Users\\\\KlimovaAnnaA\\\\Documents\\\\MyFiles\\\\Projects\\\\OCP\")\n",
    "from Defs import merge_SalesUnits\n",
    "from Defs import merge_Mapping\n",
    "from Defs import Period\n",
    "from Defs import new_list"
   ]
  },
  {
   "cell_type": "code",
   "execution_count": 21,
   "id": "886aae53",
   "metadata": {},
   "outputs": [
    {
     "name": "stderr",
     "output_type": "stream",
     "text": [
      "C:\\Users\\KlimovaAnnaA\\Documents\\MyFiles\\Projects\\OCP\\Defs.py:41: UserWarning: Parsing dates in %d.%m.%Y format when dayfirst=False (the default) was specified. Pass `dayfirst=True` or specify a format to silence this warning.\n",
      "  day = pd.to_datetime(day_for_count)\n"
     ]
    }
   ],
   "source": [
    "data_work = data_export.query('holding != \"EXTERNAL\"').reset_index(drop=True)\n",
    "# фильтрация по перемнной Group\n",
    "\n",
    "data_work['org_code'] = merge_Mapping(data_work, col='orgName')\n",
    "data_work['CompCode_concat'] = data_work['companyCode']\n",
    "data_work.loc[data_work.companyCode.isna(), 'CompCode_concat'] = data_work['org_code'].replace({'External': ''})\n",
    "data_work['CompMap'] = merge_SalesUnits(data_work, col='CompCode_concat', merge_col='ocpSegment')\n",
    "\n",
    "data_work['CtyCode'] = merge_Mapping(data_work, col='customerName').fillna('External')\n",
    "data_work['CtyMap'] = merge_SalesUnits(data_work, col='CtyCode', merge_col='ocpSegment').fillna('External')\n",
    "\n",
    "data_work['AR_flag'] = data_work['accountPurpose']\\\n",
    "                                            .isin(['Trade receivables', 'Other receivables', 'Provisions'])\\\n",
    "                                            .astype(int)\n",
    "data_work['AP_flag'] = data_work['accountPurpose']\\\n",
    "                                            .isin(['Trade payables', 'Other payables'])\\\n",
    "                                            .astype(int)\n",
    "\n",
    "data_work['Amount_USD'] = data_work['presentAmountUSD'].replace({np.NaN : 0})\n",
    "data_work['Amount_AR_USD'] = data_work['Amount_USD'] * data_work['AR_flag']\n",
    "data_work['Amount_AP_USD'] = data_work['Amount_USD'] * data_work['AP_flag']\n",
    "\n",
    "data_work = Period(data_work, day_for_count=Today, col_with_date='dueDate')"
   ]
  },
  {
   "cell_type": "markdown",
   "id": "cb093e42",
   "metadata": {},
   "source": [
    "Записываю данные в output file:"
   ]
  },
  {
   "cell_type": "code",
   "execution_count": 22,
   "id": "f1d2788c-6389-4bb6-985d-070b4384a3ff",
   "metadata": {},
   "outputs": [],
   "source": [
    "data_print = data_work[['customerName', 'CompCode_concat', 'currencyCode', 'sourceSystem',\\\n",
    "                    'accountPurpose', 'CompMap', 'CtyCode', 'CtyMap','Amount_USD',\\\n",
    "                    'AR_flag', 'Amount_AR_USD', 'AP_flag', 'Amount_AP_USD', 'Days', 'Period']]"
   ]
  },
  {
   "cell_type": "markdown",
   "id": "8a7ba85b",
   "metadata": {},
   "source": [
    "Проверка на merge:"
   ]
  },
  {
   "cell_type": "code",
   "execution_count": 23,
   "id": "92aa4d58",
   "metadata": {},
   "outputs": [
    {
     "data": {
      "text/html": [
       "<div>\n",
       "<style scoped>\n",
       "    .dataframe tbody tr th:only-of-type {\n",
       "        vertical-align: middle;\n",
       "    }\n",
       "\n",
       "    .dataframe tbody tr th {\n",
       "        vertical-align: top;\n",
       "    }\n",
       "\n",
       "    .dataframe thead th {\n",
       "        text-align: right;\n",
       "    }\n",
       "</style>\n",
       "<table border=\"1\" class=\"dataframe\">\n",
       "  <thead>\n",
       "    <tr style=\"text-align: right;\">\n",
       "      <th></th>\n",
       "      <th>customerName</th>\n",
       "      <th>CtyCode</th>\n",
       "      <th>CtyMap</th>\n",
       "    </tr>\n",
       "  </thead>\n",
       "  <tbody>\n",
       "    <tr>\n",
       "      <th>59136</th>\n",
       "      <td>Благотворительный фонд Андрея Мельниченко</td>\n",
       "      <td>External</td>\n",
       "      <td>External</td>\n",
       "    </tr>\n",
       "    <tr>\n",
       "      <th>59945</th>\n",
       "      <td>ООО \"Германий и приложения\"</td>\n",
       "      <td>External</td>\n",
       "      <td>External</td>\n",
       "    </tr>\n",
       "    <tr>\n",
       "      <th>69554</th>\n",
       "      <td>EuroChem Management Middle East FZE</td>\n",
       "      <td>AEMNG</td>\n",
       "      <td>External</td>\n",
       "    </tr>\n",
       "    <tr>\n",
       "      <th>69699</th>\n",
       "      <td>EUROCHEM LOUISIANA LLC</td>\n",
       "      <td>External</td>\n",
       "      <td>External</td>\n",
       "    </tr>\n",
       "    <tr>\n",
       "      <th>90933</th>\n",
       "      <td>Отдел экспедирования грузов и агентирования су...</td>\n",
       "      <td>External</td>\n",
       "      <td>External</td>\n",
       "    </tr>\n",
       "  </tbody>\n",
       "</table>\n",
       "</div>"
      ],
      "text/plain": [
       "                                            customerName   CtyCode    CtyMap\n",
       "59136          Благотворительный фонд Андрея Мельниченко  External  External\n",
       "59945                        ООО \"Германий и приложения\"  External  External\n",
       "69554                EuroChem Management Middle East FZE     AEMNG  External\n",
       "69699                             EUROCHEM LOUISIANA LLC  External  External\n",
       "90933  Отдел экспедирования грузов и агентирования су...  External  External"
      ]
     },
     "execution_count": 23,
     "metadata": {},
     "output_type": "execute_result"
    }
   ],
   "source": [
    "check_data = data_work.loc[(data_work['internalExternalEN'] == 'Internal') & (data_work['CtyMap'] == 'External'),\\\n",
    "                                                    ['customerName', 'CtyCode', 'CtyMap']].drop_duplicates()\n",
    "check_data\n",
    "# check_data.to_excel('manual_map_ARAP_ECH.xlsx', index=False)\n",
    "\n",
    "# check_data2 = data_work.loc[(data_work['internalExternalEN'] == 'Internal') & (data_work['CompMap'] == 'External'),\\\n",
    "#                                                     ['companyCode','CompMap']]\n",
    "# check_data2"
   ]
  },
  {
   "cell_type": "code",
   "execution_count": 24,
   "id": "beb08b6c",
   "metadata": {},
   "outputs": [
    {
     "data": {
      "text/html": [
       "<div>\n",
       "<style scoped>\n",
       "    .dataframe tbody tr th:only-of-type {\n",
       "        vertical-align: middle;\n",
       "    }\n",
       "\n",
       "    .dataframe tbody tr th {\n",
       "        vertical-align: top;\n",
       "    }\n",
       "\n",
       "    .dataframe thead th {\n",
       "        text-align: right;\n",
       "    }\n",
       "</style>\n",
       "<table border=\"1\" class=\"dataframe\">\n",
       "  <thead>\n",
       "    <tr style=\"text-align: right;\">\n",
       "      <th>CtyMap</th>\n",
       "      <th>EURPROD</th>\n",
       "      <th>EURSALES</th>\n",
       "      <th>NAMSALES</th>\n",
       "      <th>RUFERT</th>\n",
       "      <th>SAMSALES</th>\n",
       "      <th>SPV</th>\n",
       "      <th>TRADING</th>\n",
       "    </tr>\n",
       "    <tr>\n",
       "      <th>CompMap</th>\n",
       "      <th></th>\n",
       "      <th></th>\n",
       "      <th></th>\n",
       "      <th></th>\n",
       "      <th></th>\n",
       "      <th></th>\n",
       "      <th></th>\n",
       "    </tr>\n",
       "  </thead>\n",
       "  <tbody>\n",
       "    <tr>\n",
       "      <th>EURPROD</th>\n",
       "      <td>13.06</td>\n",
       "      <td>1.693441e+06</td>\n",
       "      <td>NaN</td>\n",
       "      <td>-5.262765e+06</td>\n",
       "      <td>1.167090e+05</td>\n",
       "      <td>NaN</td>\n",
       "      <td>7.110114e+07</td>\n",
       "    </tr>\n",
       "    <tr>\n",
       "      <th>EURSALES</th>\n",
       "      <td>-921524.54</td>\n",
       "      <td>3.785075e+06</td>\n",
       "      <td>NaN</td>\n",
       "      <td>-3.321980e+07</td>\n",
       "      <td>2.168295e+06</td>\n",
       "      <td>NaN</td>\n",
       "      <td>-2.723685e+08</td>\n",
       "    </tr>\n",
       "    <tr>\n",
       "      <th>NAMSALES</th>\n",
       "      <td>NaN</td>\n",
       "      <td>NaN</td>\n",
       "      <td>NaN</td>\n",
       "      <td>NaN</td>\n",
       "      <td>NaN</td>\n",
       "      <td>NaN</td>\n",
       "      <td>-4.571481e+08</td>\n",
       "    </tr>\n",
       "    <tr>\n",
       "      <th>RUFERT</th>\n",
       "      <td>1666.83</td>\n",
       "      <td>7.245540e+05</td>\n",
       "      <td>NaN</td>\n",
       "      <td>2.049248e+06</td>\n",
       "      <td>NaN</td>\n",
       "      <td>NaN</td>\n",
       "      <td>2.672465e+09</td>\n",
       "    </tr>\n",
       "    <tr>\n",
       "      <th>SAMSALES</th>\n",
       "      <td>NaN</td>\n",
       "      <td>-2.168295e+06</td>\n",
       "      <td>NaN</td>\n",
       "      <td>NaN</td>\n",
       "      <td>-8.133124e+05</td>\n",
       "      <td>NaN</td>\n",
       "      <td>-3.512417e+07</td>\n",
       "    </tr>\n",
       "    <tr>\n",
       "      <th>TRADING</th>\n",
       "      <td>-58596163.69</td>\n",
       "      <td>2.744558e+08</td>\n",
       "      <td>4.571421e+08</td>\n",
       "      <td>-2.337926e+09</td>\n",
       "      <td>1.966901e+09</td>\n",
       "      <td>-5316247.41</td>\n",
       "      <td>3.963384e+07</td>\n",
       "    </tr>\n",
       "  </tbody>\n",
       "</table>\n",
       "</div>"
      ],
      "text/plain": [
       "CtyMap        EURPROD      EURSALES      NAMSALES        RUFERT      SAMSALES  \\\n",
       "CompMap                                                                         \n",
       "EURPROD         13.06  1.693441e+06           NaN -5.262765e+06  1.167090e+05   \n",
       "EURSALES   -921524.54  3.785075e+06           NaN -3.321980e+07  2.168295e+06   \n",
       "NAMSALES          NaN           NaN           NaN           NaN           NaN   \n",
       "RUFERT        1666.83  7.245540e+05           NaN  2.049248e+06           NaN   \n",
       "SAMSALES          NaN -2.168295e+06           NaN           NaN -8.133124e+05   \n",
       "TRADING  -58596163.69  2.744558e+08  4.571421e+08 -2.337926e+09  1.966901e+09   \n",
       "\n",
       "CtyMap           SPV       TRADING  \n",
       "CompMap                             \n",
       "EURPROD          NaN  7.110114e+07  \n",
       "EURSALES         NaN -2.723685e+08  \n",
       "NAMSALES         NaN -4.571481e+08  \n",
       "RUFERT           NaN  2.672465e+09  \n",
       "SAMSALES         NaN -3.512417e+07  \n",
       "TRADING  -5316247.41  3.963384e+07  "
      ]
     },
     "execution_count": 24,
     "metadata": {},
     "output_type": "execute_result"
    }
   ],
   "source": [
    "BS_data = data_work[(data_work.accountPurpose.str.contains('Trade')) | (data_work.accountPurpose.str.contains('Other'))].reset_index(drop=True)\n",
    "BS_data['Comp_hold'] = merge_SalesUnits(BS_data, col='CompCode_concat', merge_col='holding')\n",
    "BS_data['Cpty_hold'] = merge_SalesUnits(BS_data, col='CtyCode', merge_col='holding')\n",
    "\n",
    "BS_data = BS_data[(BS_data.Comp_hold == Group) & (BS_data.Cpty_hold == Group)]\n",
    "BS_data = BS_data[BS_data.CompMap != 'External']\n",
    "BS_data = BS_data[['CompMap', 'CtyMap', 'Amount_USD']]\n",
    "BS_pivot = pd.pivot_table(BS_data, values='Amount_USD', index='CompMap', aggfunc='sum', columns='CtyMap',)\n",
    "BS_pivot"
   ]
  },
  {
   "cell_type": "code",
   "execution_count": 9,
   "id": "6c1d9577",
   "metadata": {},
   "outputs": [],
   "source": [
    "# assert 1==2"
   ]
  },
  {
   "cell_type": "code",
   "execution_count": 25,
   "id": "c5b89d3c",
   "metadata": {},
   "outputs": [],
   "source": [
    "BS_pivot.to_excel(Output_file, sheet_name='BS_to_BS')\n",
    "new_list(data_print, Output_file, Sheet_in_output_file)"
   ]
  }
 ],
 "metadata": {
  "kernelspec": {
   "display_name": "Python 3 (ipykernel)",
   "language": "python",
   "name": "python3"
  },
  "language_info": {
   "codemirror_mode": {
    "name": "ipython",
    "version": 3
   },
   "file_extension": ".py",
   "mimetype": "text/x-python",
   "name": "python",
   "nbconvert_exporter": "python",
   "pygments_lexer": "ipython3",
   "version": "3.11.5"
  }
 },
 "nbformat": 4,
 "nbformat_minor": 5
}
