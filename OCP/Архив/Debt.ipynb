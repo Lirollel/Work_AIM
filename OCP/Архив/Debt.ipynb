import pandas as pd
import numpy as np

RUB_USD = 0.010309087
EUR_USD = 1.052536139
Today = '30.09.2023'

day = pd.to_datetime(Today, dayfirst = True)

data_export = pd.read_excel('Debt_export.xlsx')
data_mapping = pd.read_excel('Debt_create.xlsx')

data_export = data_export.loc[:,['Group','productTypeName','companyName',
                   'relationshipPartner','businessPartnerName', 'creditConditionCurrency', 'termEnd', 'purchaseValueDisplayCurrency', 'purchaseValuePositionCurrency']]


data_export = data_export.loc[data_export['Group'] == 'SUEK']
data_export = data_export.loc[data_export['productTypeName'].isin(['Транш по займам', 'Транш по кредитам'])]

data_export

data_export = data_export.groupby(['companyName', 'relationshipPartner',
       'businessPartnerName', 'creditConditionCurrency', 'termEnd']).agg({'purchaseValueDisplayCurrency' : sum,
                                                                          'purchaseValuePositionCurrency' : sum}).reset_index()

data_export

data_export['in USD'] = data_export['purchaseValuePositionCurrency'] * np.sign(data_export['purchaseValueDisplayCurrency'])

data_export.loc[data_export['creditConditionCurrency'] == 'RUB', 'in USD'] = data_export.loc[data_export['creditConditionCurrency'] == 'RUB', 'in USD'] * RUB_USD
data_export.loc[data_export['creditConditionCurrency'] == 'EUR', 'in USD'] = data_export.loc[data_export['creditConditionCurrency'] == 'EUR', 'in USD'] * EUR_USD

data_export['purchaseValuePositionCurrency'] = data_export['purchaseValuePositionCurrency'] * np.sign(data_export['purchaseValueDisplayCurrency'])
data_export = data_export.rename(columns={"businessPartnerName": "Entity", "companyName": "Counterparty", "creditConditionCurrency": "Currency", "purchaseValuePositionCurrency": "amoutn outstanding", "in USD": "amount USD eq"})
data_export['Entity group'] = data_export.merge(data_mapping, how = 'left', left_on = 'Entity',
                                                                       right_on = 'Code')['Business segment']
data_export['Entity group'] = data_export['Entity group'].replace({np.NaN : 'External'})

data_export['Counterparty Group'] = data_export.merge(data_mapping, how = 'left', left_on = 'Counterparty',
                                                                       right_on = 'Code')['Business segment']
data_export['Counterparty Group'] = data_export['Counterparty Group'].replace({np.NaN : 'External'})

data_export['Days'] = 0

data_export['Days'] = data_export.loc[data_export['termEnd'] != np.NaN, 'termEnd'] - day
data_export['Days'] = data_export['Days'].dt.days
data_export['Period'] = '2Y+'

data_export.loc[pd.to_numeric(data_export['Days']) < 730, 'Period'] = '1Y-2Y'
data_export.loc[pd.to_numeric(data_export['Days']) < 365, 'Period'] = '6M-1Y'
data_export.loc[pd.to_numeric(data_export['Days']) < 182, 'Period'] = '3M-6M'
data_export.loc[pd.to_numeric(data_export['Days']) < 91, 'Period'] = '1M-3M'
data_export.loc[pd.to_numeric(data_export['Days']) < 30, 'Period'] = '<1M'


data = data_export[['Entity', 'Entity group', 'Counterparty', 'Counterparty Group', 'amoutn outstanding', 'Currency', 'amount USD eq', 'termEnd', 'Days', 'Period']]


data.to_excel('Debt_SUEK_list.xlsx', sheet_name = 'Debt', index = False)