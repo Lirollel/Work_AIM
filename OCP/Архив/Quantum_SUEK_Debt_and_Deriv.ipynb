{
 "cells": [
  {
   "cell_type": "code",
   "execution_count": 1,
   "metadata": {},
   "outputs": [],
   "source": [
    "CNY_USD = 0.1389\n",
    "RUB_USD = 0.010309087\n",
    "CAD_USD = 0.74\n",
    "\n",
    "Today = '31.12.2023'\n",
    "\n",
    "# Group = 'EuroChem'\n",
    "Group = 'SUEK'\n",
    "\n",
    "\n",
    "Data_Debt = 'WHWEEK_quantumDebt_2023_12' + '.xlsx'\n",
    "Data_Forwards = 'WHWEEK_quantumForwards_2023_12' + '.xlsx'\n",
    "Data_Swaps = 'WHWEEK_quantumSwaps_2023_12' + '.xlsx'\n",
    "Sheet_in_data_file = 'Export Worksheet'\n",
    "\n",
    "Mapping_file = 'C:\\\\Users\\\\KlimovaAnnaA\\\\Documents\\\\MyFiles\\\\Projects\\\\OCP\\\\Методология\\\\Mapping.xlsx'\n",
    "Sheet_in_mapping_file = 'mapping'\n",
    "\n",
    "from datetime import date\n",
    "\n",
    "Output_Debt = \"_\".join([str(date.today()), Group, 'quantum', 'Debt.xlsx'])\n",
    "Output_Deriv = \"_\".join([str(date.today()), Group, 'quantum', 'Deriv.xlsx'])\n",
    "Sheet_in_output_Deriv = 'Deriv'\n",
    "Sheet_in_output_Debt = 'Debt'"
   ]
  },
  {
   "cell_type": "code",
   "execution_count": 15,
   "metadata": {},
   "outputs": [
    {
     "name": "stderr",
     "output_type": "stream",
     "text": [
      "c:\\Users\\KlimovaAnnaA\\AppData\\Local\\miniconda3\\Lib\\site-packages\\openpyxl\\styles\\stylesheet.py:226: UserWarning: Workbook contains no default style, apply openpyxl's default\n",
      "  warn(\"Workbook contains no default style, apply openpyxl's default\")\n",
      "c:\\Users\\KlimovaAnnaA\\AppData\\Local\\miniconda3\\Lib\\site-packages\\openpyxl\\styles\\stylesheet.py:226: UserWarning: Workbook contains no default style, apply openpyxl's default\n",
      "  warn(\"Workbook contains no default style, apply openpyxl's default\")\n"
     ]
    }
   ],
   "source": [
    "import pandas as pd\n",
    "import numpy as np\n",
    "\n",
    "data_Debt_export = pd.read_excel(Data_Debt, sheet_name = Sheet_in_data_file)\n",
    "data_Debt_export[['entity', 'counterparty']] = data_Debt_export[['entity', 'counterparty']].apply(lambda x: x.str.lower())\n",
    "\n",
    "data_Forwards_export = pd.read_excel(Data_Forwards, sheet_name = Sheet_in_data_file)\n",
    "data_Forwards_export.entity = data_Forwards_export.entity.str.lower()\n",
    "\n",
    "data_Swaps_export = pd.read_excel(Data_Swaps, sheet_name = Sheet_in_data_file)\n",
    "data_Swaps_export.entity = data_Swaps_export.entity.str.lower()"
   ]
  },
  {
   "cell_type": "code",
   "execution_count": 34,
   "metadata": {},
   "outputs": [],
   "source": [
    "data_mapping = pd.read_excel(Mapping_file, sheet_name = Sheet_in_mapping_file)\n",
    "data_mapping[['Unnamed: 23', 'Code', 'Cpty_name', 'Code2']] = data_mapping[['Unnamed: 23', 'Code', 'Cpty_name', 'Code2']].apply(lambda x: x.str.lower())"
   ]
  },
  {
   "cell_type": "markdown",
   "metadata": {},
   "source": [
    "Фильтрация данных"
   ]
  },
  {
   "cell_type": "code",
   "execution_count": 35,
   "metadata": {},
   "outputs": [],
   "source": [
    "min_data = data_Debt_export.effectiveFrom.min() # Присваивание переменной значения мин даты в столбце effectiveFrom\n",
    "data_Debt_work = data_Debt_export.query('holding == @Group & effectiveFrom == @min_data').reset_index(drop=True) # Фильтрация данных по столбцу holding (переменная Group) и effectiveFrom\n",
    "\n",
    "merge_df = data_Debt_work.merge(data_mapping, how = 'left', left_on = 'entity', right_on = 'Unnamed: 23')[['Unnamed: 24', 'Unnamed: 25']]\n",
    "data_Debt_work = pd.concat([data_Debt_work, merge_df], axis=1).rename(columns={'Unnamed: 24': 'Entity', 'Unnamed: 25': 'Entity_group'})\n",
    "# Merge столбца entity по XYZ в mapping"
   ]
  },
  {
   "cell_type": "code",
   "execution_count": 39,
   "metadata": {},
   "outputs": [
    {
     "data": {
      "text/html": [
       "<div>\n",
       "<style scoped>\n",
       "    .dataframe tbody tr th:only-of-type {\n",
       "        vertical-align: middle;\n",
       "    }\n",
       "\n",
       "    .dataframe tbody tr th {\n",
       "        vertical-align: top;\n",
       "    }\n",
       "\n",
       "    .dataframe thead th {\n",
       "        text-align: right;\n",
       "    }\n",
       "</style>\n",
       "<table border=\"1\" class=\"dataframe\">\n",
       "  <thead>\n",
       "    <tr style=\"text-align: right;\">\n",
       "      <th></th>\n",
       "      <th>entity</th>\n",
       "      <th>Entity</th>\n",
       "      <th>Entity_group</th>\n",
       "    </tr>\n",
       "  </thead>\n",
       "  <tbody>\n",
       "    <tr>\n",
       "      <th>0</th>\n",
       "      <td>xxtsu</td>\n",
       "      <td>АО СУЭК</td>\n",
       "      <td>SUEK RU</td>\n",
       "    </tr>\n",
       "    <tr>\n",
       "      <th>1</th>\n",
       "      <td>xxtsu</td>\n",
       "      <td>АО СУЭК</td>\n",
       "      <td>SUEK RU</td>\n",
       "    </tr>\n",
       "    <tr>\n",
       "      <th>2</th>\n",
       "      <td>xxtsu</td>\n",
       "      <td>АО СУЭК</td>\n",
       "      <td>SUEK RU</td>\n",
       "    </tr>\n",
       "    <tr>\n",
       "      <th>3</th>\n",
       "      <td>xxtsu</td>\n",
       "      <td>АО СУЭК</td>\n",
       "      <td>SUEK RU</td>\n",
       "    </tr>\n",
       "    <tr>\n",
       "      <th>4</th>\n",
       "      <td>xxtsu</td>\n",
       "      <td>АО СУЭК</td>\n",
       "      <td>SUEK RU</td>\n",
       "    </tr>\n",
       "    <tr>\n",
       "      <th>...</th>\n",
       "      <td>...</td>\n",
       "      <td>...</td>\n",
       "      <td>...</td>\n",
       "    </tr>\n",
       "    <tr>\n",
       "      <th>4942</th>\n",
       "      <td>xxtsu18</td>\n",
       "      <td>АО Кузбассэнерго</td>\n",
       "      <td>SGC</td>\n",
       "    </tr>\n",
       "    <tr>\n",
       "      <th>4943</th>\n",
       "      <td>xxtsu18</td>\n",
       "      <td>АО Кузбассэнерго</td>\n",
       "      <td>SGC</td>\n",
       "    </tr>\n",
       "    <tr>\n",
       "      <th>4944</th>\n",
       "      <td>xxtsu18</td>\n",
       "      <td>АО Кузбассэнерго</td>\n",
       "      <td>SGC</td>\n",
       "    </tr>\n",
       "    <tr>\n",
       "      <th>4945</th>\n",
       "      <td>xxtsu18</td>\n",
       "      <td>АО Кузбассэнерго</td>\n",
       "      <td>SGC</td>\n",
       "    </tr>\n",
       "    <tr>\n",
       "      <th>4946</th>\n",
       "      <td>xxtsu18</td>\n",
       "      <td>АО Кузбассэнерго</td>\n",
       "      <td>SGC</td>\n",
       "    </tr>\n",
       "  </tbody>\n",
       "</table>\n",
       "<p>4947 rows × 3 columns</p>\n",
       "</div>"
      ],
      "text/plain": [
       "       entity            Entity Entity_group\n",
       "0       xxtsu           АО СУЭК      SUEK RU\n",
       "1       xxtsu           АО СУЭК      SUEK RU\n",
       "2       xxtsu           АО СУЭК      SUEK RU\n",
       "3       xxtsu           АО СУЭК      SUEK RU\n",
       "4       xxtsu           АО СУЭК      SUEK RU\n",
       "...       ...               ...          ...\n",
       "4942  xxtsu18  АО Кузбассэнерго          SGC\n",
       "4943  xxtsu18  АО Кузбассэнерго          SGC\n",
       "4944  xxtsu18  АО Кузбассэнерго          SGC\n",
       "4945  xxtsu18  АО Кузбассэнерго          SGC\n",
       "4946  xxtsu18  АО Кузбассэнерго          SGC\n",
       "\n",
       "[4947 rows x 3 columns]"
      ]
     },
     "execution_count": 39,
     "metadata": {},
     "output_type": "execute_result"
    }
   ],
   "source": [
    "# data_Debt_work[['entity', 'Entity', 'Entity_group']]"
   ]
  },
  {
   "cell_type": "markdown",
   "metadata": {},
   "source": [
    "Выполнение цикла для рассчета amount, amountUSD и присваивания значения counterparty для каждого DealSet"
   ]
  },
  {
   "cell_type": "code",
   "execution_count": 40,
   "metadata": {},
   "outputs": [],
   "source": [
    "deals_data = data_Debt_work[['Entity', 'Entity_group', 'counterparty','amount', 'amountUSD', 'instrumentOwner', 'dealSet']] # Выбор нужного разреза данных\n",
    "deals_data_Bonds = deals_data[deals_data.dealSet.str.contains('Bond')] # Фильтрация разреза по значениям в DealSet, которые содержат слово Bond\n",
    "\n",
    "Bonds_list = deals_data_Bonds.dealSet.unique()\n",
    "\n",
    "for Bond in Bonds_list:\n",
    "    try:\n",
    "        Bond_data = deals_data_Bonds.query('dealSet ==@Bond') # Отбор данных одного Bond\n",
    "\n",
    "        for column in Bond_data[['amount', 'amountUSD']]:\n",
    "\n",
    "            Traded_data_sum = Bond_data.query('instrumentOwner ==\"EC_TRADED_BONDS\"')[column].sum()\n",
    "            Issued_data = Bond_data.query('instrumentOwner ==\"EC_ISSUED_BONDS\"')[column]\n",
    "\n",
    "            # Внесение нового значения amount в issued bonds\n",
    "            Bond_data.loc[Bond_data['instrumentOwner'] ==\"EC_ISSUED_BONDS\", column] = Traded_data_sum + Issued_data \n",
    "\n",
    "        # Внесение нового значения counterparty в traded bonds\n",
    "        Issied_data_entity = Bond_data.query('instrumentOwner ==\"EC_ISSUED_BONDS\"').Entity.squeeze()\n",
    "        Bond_data.loc[Bond_data['instrumentOwner'] ==\"EC_TRADED_BONDS\", 'counterparty'] = Issied_data_entity\n",
    "\n",
    "        deals_data_Bonds.loc[deals_data_Bonds['dealSet'] == Bond] = Bond_data\n",
    "    except:\n",
    "        continue\n",
    "\n",
    "deals_data.loc[deals_data.dealSet.str.contains('Bond')] = deals_data_Bonds\n",
    "data_Debt_work[['Entity', 'Entity_group', 'counterparty','amount', 'amountUSD', 'instrumentOwner', 'dealSet']] = deals_data\n",
    "# Запись выполненного цикла в в основные данные"
   ]
  },
  {
   "cell_type": "code",
   "execution_count": 41,
   "metadata": {},
   "outputs": [],
   "source": [
    "day = pd.to_datetime(Today, dayfirst = True)\n",
    "data_Debt_work['Days'] = 0\n",
    "\n",
    "data_Debt_work['Days'] = data_Debt_work.loc[data_Debt_work['actionDate'] != np.NaN, 'actionDate'] - day\n",
    "data_Debt_work['Days'] = data_Debt_work['Days'].dt.days\n",
    "data_Debt_work['Period'] = '2Y+'\n",
    "\n",
    "data_Debt_work.loc[pd.to_numeric(data_Debt_work['Days']) < 730, 'Period'] = '1Y-2Y'\n",
    "data_Debt_work.loc[pd.to_numeric(data_Debt_work['Days']) < 365, 'Period'] = '6M-1Y'\n",
    "data_Debt_work.loc[pd.to_numeric(data_Debt_work['Days']) < 182, 'Period'] = '3M-6M'\n",
    "data_Debt_work.loc[pd.to_numeric(data_Debt_work['Days']) < 91, 'Period'] = '1M-3M'\n",
    "data_Debt_work.loc[pd.to_numeric(data_Debt_work['Days']) < 30, 'Period'] = '<1M'\n",
    "\n",
    "data_Debt_work.counterparty = data_Debt_work.counterparty.str[:-5]\n",
    "data_Debt_work['CompCode'] = data_Debt_work\\\n",
    "    .merge(data_mapping, how = 'left', left_on = 'counterparty', right_on = 'Cpty_name')['Code2']\\\n",
    "    .replace({np.NaN : 'External'})\n",
    "data_Debt_work['Counterparty_Group'] = data_Debt_work\\\n",
    "    .merge(data_mapping, how = 'left', left_on = 'CompCode', right_on = 'Code')['Business_segment']\\\n",
    "    .replace({np.NaN : 'External'})\n",
    "data_Debt_work.loc[(data_Debt_work['cpartyType'] == 'Internal') \\\n",
    "                 & (data_Debt_work['Counterparty_Group'] == 'External'),\\\n",
    "                                                                'Counterparty_Group'] = 'Internal'\n",
    "# Merge counterparty с mapping "
   ]
  },
  {
   "cell_type": "code",
   "execution_count": 42,
   "metadata": {},
   "outputs": [],
   "source": [
    "# manual_map = data_Debt_export.loc[data_Debt_export['cpartyType'] == 'Internal', 'counterparty'].drop_duplicates()\n",
    "# # manual_map.to_excel('Manual_map.xlsx', index=False)\n",
    "# manual_map\n",
    "\n",
    "# data_Debt_export.loc[data_Debt_export['cpartyType'] == 'Internal', 'counterpartyAlt']"
   ]
  },
  {
   "cell_type": "code",
   "execution_count": 43,
   "metadata": {},
   "outputs": [],
   "source": [
    "# data_Debt_export.to_excel(Output_Debt, sheet_name = Sheet_in_output_Debt, index = False)\n",
    "# Полные данные для проверки качества выполнения кода"
   ]
  },
  {
   "cell_type": "markdown",
   "metadata": {},
   "source": [
    "Запись данных в файл Excel"
   ]
  },
  {
   "cell_type": "code",
   "execution_count": 44,
   "metadata": {},
   "outputs": [],
   "source": [
    "data_Debt_work['Source'] = 'Quantum'\n",
    "data_Debt_work[['entity', 'counterparty', 'CompCode']] = data_Debt_work[['entity', 'counterparty', 'CompCode']].apply(lambda x: x.str.upper())\n",
    "\n",
    "data_Debt_work_for_print = data_Debt_work[['Entity', 'Entity_group','counterparty',\\\n",
    "                                               'Counterparty_Group','amount','eventCurrency','amountUSD','actionDate','Days',\\\n",
    "                                                'Period','dealClass1','dealClass2','instrumentOwner','dealSet','facility','Source']]\n",
    "# Отбор нужных столбцов\n",
    "\n",
    "data_Debt_work_for_print = data_Debt_work_for_print.rename(columns={'amount': 'amoutn outstanding',\\\n",
    "                                                                        'eventCurrency': 'Currency',\\\n",
    "                                                                        'amountUSD': 'amount USD eq',\\\n",
    "                                                                        'actionDate': 'termEnd'})\n",
    "# Переименование столбцов\n",
    "\n",
    "data_Debt_work_for_print.to_excel(Output_Debt, sheet_name = Sheet_in_output_Debt, index = False)\n",
    "# Запись в файл"
   ]
  },
  {
   "cell_type": "markdown",
   "metadata": {},
   "source": [
    "Работа с Forwards и Swaps:"
   ]
  },
  {
   "cell_type": "code",
   "execution_count": 45,
   "metadata": {},
   "outputs": [],
   "source": [
    "data_Forwards_export['holdingEntity'] = data_Forwards_export['holdingEntity'].replace({'XXTSU': 'SUEK'})\n",
    "data_Forwards_export = data_Forwards_export[data_Forwards_export['holdingEntity'] == Group].reset_index(drop=True)\n",
    "data_Swaps_export['holdingEntity'] = data_Swaps_export['holdingEntity'].replace({'XXTSU': 'SUEK'})\n",
    "data_Swaps_export = data_Swaps_export[data_Swaps_export['holdingEntity'] == Group].reset_index(drop=True)\n",
    "# Знамена значений в стодбце holdingEntity и фильтр по Group"
   ]
  },
  {
   "cell_type": "markdown",
   "metadata": {},
   "source": [
    "Проверка вхождений dealNo в Debt и остановка процесса в случае отсутвия данных:"
   ]
  },
  {
   "cell_type": "code",
   "execution_count": 46,
   "metadata": {},
   "outputs": [],
   "source": [
    "Swap_dealNo_for_del_list = list(set(data_Swaps_export['dealNo']).intersection(set(data_Debt_export['dealNo'])))\n",
    "Forward_dealNo_for_del_list = list(set(data_Forwards_export['dealNo']).intersection(set(data_Debt_export['dealNo'])))\n",
    "\n",
    "data_Swaps_export = data_Swaps_export[~(data_Swaps_export.dealNo.isin(Swap_dealNo_for_del_list))]\n",
    "data_Forwards_export = data_Forwards_export[~(data_Forwards_export.dealNo.isin(Forward_dealNo_for_del_list))]\n",
    "\n",
    "assert ((len(data_Swaps_export) == 0) and (len(data_Forwards_export) == 0)) == False"
   ]
  },
  {
   "cell_type": "code",
   "execution_count": 47,
   "metadata": {},
   "outputs": [
    {
     "name": "stderr",
     "output_type": "stream",
     "text": [
      "C:\\Users\\KlimovaAnnaA\\AppData\\Local\\Temp\\ipykernel_2820\\2331839492.py:5: SettingWithCopyWarning: \n",
      "A value is trying to be set on a copy of a slice from a DataFrame\n",
      "\n",
      "See the caveats in the documentation: https://pandas.pydata.org/pandas-docs/stable/user_guide/indexing.html#returning-a-view-versus-a-copy\n",
      "  Data_for_loop.loc[len(Data_for_loop)] = row_list[:4] + row_list[6:8] + row_list[6:]\n",
      "C:\\Users\\KlimovaAnnaA\\AppData\\Local\\Temp\\ipykernel_2820\\2331839492.py:5: SettingWithCopyWarning: \n",
      "A value is trying to be set on a copy of a slice from a DataFrame\n",
      "\n",
      "See the caveats in the documentation: https://pandas.pydata.org/pandas-docs/stable/user_guide/indexing.html#returning-a-view-versus-a-copy\n",
      "  Data_for_loop.loc[len(Data_for_loop)] = row_list[:4] + row_list[6:8] + row_list[6:]\n",
      "C:\\Users\\KlimovaAnnaA\\AppData\\Local\\Temp\\ipykernel_2820\\2331839492.py:33: FutureWarning: Setting an item of incompatible dtype is deprecated and will raise an error in a future version of pandas. Value '21676144.053375' has dtype incompatible with int64, please explicitly cast to a compatible dtype first.\n",
      "  Data_for_loop.loc[i, 'USD_equiv'] = Data_for_loop.loc[i, 'payFaceValue'] * RUB_USD\n"
     ]
    }
   ],
   "source": [
    "Data_for_loop = data_Forwards_export[['entity','holdingEntity','counterparty','dealNo', 'payFaceValue', 'payFXCurrency', 'recFaceValue', 'recFXCurrency', 'maturityDate']]\n",
    "\n",
    "for i in range(0, len(Data_for_loop)):\n",
    "    row_list = list(Data_for_loop.loc[i])\n",
    "    Data_for_loop.loc[len(Data_for_loop)] = row_list[:4] + row_list[6:8] + row_list[6:]\n",
    "    Data_for_loop.loc[i,'payFaceValue'] = Data_for_loop.loc[i,'payFaceValue'] * -1\n",
    "Data_for_loop = Data_for_loop.sort_values('dealNo')\n",
    "# цикл создания новых строк\n",
    "\n",
    "merge_df = Data_for_loop.merge(data_mapping, how = 'left', left_on = 'entity', right_on = 'Unnamed: 23')[['Unnamed: 24', 'Unnamed: 25']]\n",
    "Data_for_loop = pd.concat([Data_for_loop, merge_df], axis=1).rename(columns={'Unnamed: 24': 'Entity', 'Unnamed: 25': 'Entity_group'})\n",
    "# Merge столбца entity по XYZ в mapping\n",
    "\n",
    "day = pd.to_datetime(Today, dayfirst = True)\n",
    "Data_for_loop['Days'] = 0\n",
    "\n",
    "Data_for_loop['Days'] = Data_for_loop.loc[Data_for_loop['maturityDate'] != np.NaN, 'maturityDate'] - day\n",
    "Data_for_loop['Days'] = Data_for_loop['Days'].dt.days\n",
    "Data_for_loop['Period'] = '2Y+'\n",
    "\n",
    "Data_for_loop.loc[pd.to_numeric(Data_for_loop['Days']) < 730, 'Period'] = '1Y-2Y'\n",
    "Data_for_loop.loc[pd.to_numeric(Data_for_loop['Days']) < 365, 'Period'] = '6M-1Y'\n",
    "Data_for_loop.loc[pd.to_numeric(Data_for_loop['Days']) < 182, 'Period'] = '3M-6M'\n",
    "Data_for_loop.loc[pd.to_numeric(Data_for_loop['Days']) < 91, 'Period'] = '1M-3M'\n",
    "Data_for_loop.loc[pd.to_numeric(Data_for_loop['Days']) < 30, 'Period'] = '<1M'\n",
    "# Создание Days и Period\n",
    "\n",
    "Data_for_loop['USD_equiv'] = 0\n",
    "for i in range (0,len(Data_for_loop)):\n",
    "    if Data_for_loop.loc[i, 'payFXCurrency'] == 'CNY':\n",
    "        Data_for_loop.loc[i, 'USD_equiv'] = Data_for_loop.loc[i, 'payFaceValue'] * CNY_USD\n",
    "    elif Data_for_loop.loc[i, 'payFXCurrency'] == 'RUB':\n",
    "        Data_for_loop.loc[i, 'USD_equiv'] = Data_for_loop.loc[i, 'payFaceValue'] * RUB_USD\n",
    "    elif Data_for_loop.loc[i, 'payFXCurrency'] == 'USD':\n",
    "        Data_for_loop.loc[i, 'USD_equiv'] = Data_for_loop.loc[i, 'payFaceValue']\n",
    "    elif Data_for_loop.loc[i, 'payFXCurrency'] == 'CAD':\n",
    "        Data_for_loop.loc[i, 'USD_equiv'] = Data_for_loop.loc[i, 'payFaceValue'] * CAD_USD\n",
    "# создание USD_equiv\n",
    "\n",
    "new_columns = ['Company', 'Settlement', 'Notional Amount (USD)', 'Unnamed', 'source']\n",
    "Data_for_loop = Data_for_loop.reindex(columns=(Data_for_loop.columns.tolist() + new_columns))\n",
    "Data_for_loop['source'] = 'Quantum'\n",
    "# Создание пустых столбцов и столбца ресурса"
   ]
  },
  {
   "cell_type": "code",
   "execution_count": 48,
   "metadata": {},
   "outputs": [],
   "source": [
    "Data_for_loop_Swap = data_Swaps_export[['entity','holdingEntity','counterparty','dealNo', 'payFaceValue', 'payFXCurrency', 'recFaceValue', 'recFXCurrency', 'maturityDate']]\n",
    "\n",
    "for i in range(0, len(Data_for_loop_Swap)):\n",
    "    row_list = list(Data_for_loop_Swap.loc[i])\n",
    "    Data_for_loop_Swap.loc[len(Data_for_loop_Swap)] = row_list[:4] + row_list[6:8] + row_list[6:]\n",
    "    Data_for_loop_Swap.loc[i,'payFaceValue'] = Data_for_loop_Swap.loc[i,'payFaceValue'] * -1\n",
    "Data_for_loop_Swap = Data_for_loop_Swap.sort_values('dealNo')\n",
    "# цикл создания новых строк\n",
    "\n",
    "merge_df = Data_for_loop_Swap.merge(data_mapping, how = 'left', left_on = 'entity', right_on = 'Unnamed: 23')[['Unnamed: 24', 'Unnamed: 25']]\n",
    "Data_for_loop_Swap = pd.concat([Data_for_loop_Swap, merge_df], axis=1).rename(columns={'Unnamed: 24': 'Entity', 'Unnamed: 25': 'Entity_group'})\n",
    "# Merge столбца entity по XYZ в mapping\n",
    "\n",
    "day = pd.to_datetime(Today, dayfirst = True)\n",
    "Data_for_loop_Swap['Days'] = 0\n",
    "\n",
    "Data_for_loop_Swap['Days'] = Data_for_loop_Swap.loc[Data_for_loop_Swap['maturityDate'] != np.NaN, 'maturityDate'] - day\n",
    "Data_for_loop_Swap['Days'] = Data_for_loop_Swap['Days'].dt.days\n",
    "Data_for_loop_Swap['Period'] = '2Y+'\n",
    "\n",
    "Data_for_loop_Swap.loc[pd.to_numeric(Data_for_loop_Swap['Days']) < 730, 'Period'] = '1Y-2Y'\n",
    "Data_for_loop_Swap.loc[pd.to_numeric(Data_for_loop_Swap['Days']) < 365, 'Period'] = '6M-1Y'\n",
    "Data_for_loop_Swap.loc[pd.to_numeric(Data_for_loop_Swap['Days']) < 182, 'Period'] = '3M-6M'\n",
    "Data_for_loop_Swap.loc[pd.to_numeric(Data_for_loop_Swap['Days']) < 91, 'Period'] = '1M-3M'\n",
    "Data_for_loop_Swap.loc[pd.to_numeric(Data_for_loop_Swap['Days']) < 30, 'Period'] = '<1M'\n",
    "# Создание Days и Period\n",
    "\n",
    "Data_for_loop_Swap['USD_equiv'] = 0\n",
    "for i in range (0,len(Data_for_loop_Swap)):\n",
    "    if Data_for_loop_Swap.loc[i, 'payFXCurrency'] == 'CNY':\n",
    "        Data_for_loop_Swap.loc[i, 'USD_equiv'] = Data_for_loop_Swap.loc[i, 'payFaceValue'] * CNY_USD\n",
    "    elif Data_for_loop_Swap.loc[i, 'payFXCurrency'] == 'RUB':\n",
    "        Data_for_loop_Swap.loc[i, 'USD_equiv'] = Data_for_loop_Swap.loc[i, 'payFaceValue'] * RUB_USD\n",
    "    elif Data_for_loop_Swap.loc[i, 'payFXCurrency'] == 'USD':\n",
    "        Data_for_loop_Swap.loc[i, 'USD_equiv'] = Data_for_loop_Swap.loc[i, 'payFaceValue']\n",
    "# создание USD_equiv\n",
    "\n",
    "new_columns = ['Company', 'Settlement', 'Notional Amount (USD)', 'Unnamed', 'source']\n",
    "Data_for_loop_Swap = Data_for_loop_Swap.reindex(columns=(Data_for_loop_Swap.columns.tolist() + new_columns))\n",
    "Data_for_loop_Swap['source'] = 'Quantum'\n",
    "# Создание пустых столбцов и столбца ресурса"
   ]
  },
  {
   "cell_type": "code",
   "execution_count": 49,
   "metadata": {},
   "outputs": [
    {
     "name": "stderr",
     "output_type": "stream",
     "text": [
      "C:\\Users\\KlimovaAnnaA\\AppData\\Local\\Temp\\ipykernel_2820\\340167860.py:5: SettingWithCopyWarning: \n",
      "A value is trying to be set on a copy of a slice from a DataFrame.\n",
      "Try using .loc[row_indexer,col_indexer] = value instead\n",
      "\n",
      "See the caveats in the documentation: https://pandas.pydata.org/pandas-docs/stable/user_guide/indexing.html#returning-a-view-versus-a-copy\n",
      "  data.Entity = data.Entity.str.upper()\n"
     ]
    }
   ],
   "source": [
    "data = Data_for_loop[['Entity','Entity_group','holdingEntity','Company',\\\n",
    "                    'counterparty','dealNo','payFXCurrency','payFaceValue',\\\n",
    "                    'USD_equiv','Settlement','Notional Amount (USD)',\\\n",
    "                    'Unnamed','maturityDate','Days','Period','source']]\n",
    "data.Entity = data.Entity.str.upper()\n",
    "\n",
    "data_Swap = Data_for_loop_Swap[['Entity','Entity_group','holdingEntity','Company',\\\n",
    "                    'counterparty','dealNo','payFXCurrency','payFaceValue',\\\n",
    "                    'USD_equiv','Settlement','Notional Amount (USD)',\\\n",
    "                    'Unnamed','maturityDate','Days','Period','source']]\n",
    "data_Swap.Entity = data_Swap.Entity.str.upper()\n",
    "# Выбор столбцов\n",
    "\n",
    "data_to_excel = pd.concat([data, data_Swap], axis=0)\n",
    "# Объединение таблиц вниз\n",
    "data_to_excel.to_excel(Output_Deriv, sheet_name = Sheet_in_output_Deriv, index = False)\n",
    "# Запись в файл "
   ]
  }
 ],
 "metadata": {
  "kernelspec": {
   "display_name": "base",
   "language": "python",
   "name": "python3"
  },
  "language_info": {
   "codemirror_mode": {
    "name": "ipython",
    "version": 3
   },
   "file_extension": ".py",
   "mimetype": "text/x-python",
   "name": "python",
   "nbconvert_exporter": "python",
   "pygments_lexer": "ipython3",
   "version": "3.11.5"
  },
  "orig_nbformat": 4
 },
 "nbformat": 4,
 "nbformat_minor": 2
}
