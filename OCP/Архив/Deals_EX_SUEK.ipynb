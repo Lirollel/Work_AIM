{
 "cells": [
  {
   "cell_type": "code",
   "execution_count": 2,
   "metadata": {},
   "outputs": [],
   "source": [
    "Today = '31.12.2023'\n",
    "\n",
    "Data_file = 'sapdeals31122023' + '.xlsx'\n",
    "Sheet_in_data_file = 'Export Worksheet'\n",
    "\n",
    "from datetime import date\n",
    "\n",
    "Output_file = \"_\".join([str(date.today()),'EX_SUEK_Deals.xlsx'])\n",
    "Sheet_in_output_file = 'Deals'"
   ]
  },
  {
   "cell_type": "code",
   "execution_count": 2,
   "metadata": {},
   "outputs": [
    {
     "ename": "ModuleNotFoundError",
     "evalue": "No module named 'cx_Oracle'",
     "output_type": "error",
     "traceback": [
      "\u001b[1;31m---------------------------------------------------------------------------\u001b[0m",
      "\u001b[1;31mModuleNotFoundError\u001b[0m                       Traceback (most recent call last)",
      "\u001b[1;32mc:\\Users\\KlimovaAnnaA\\Documents\\MyFiles\\Projects\\OCP\\Deals\\Deals_EX_SUEK.ipynb Cell 2\u001b[0m line \u001b[0;36m1\n\u001b[1;32m----> <a href='vscode-notebook-cell:/c%3A/Users/KlimovaAnnaA/Documents/MyFiles/Projects/OCP/Deals/Deals_EX_SUEK.ipynb#W6sZmlsZQ%3D%3D?line=0'>1</a>\u001b[0m \u001b[39mimport\u001b[39;00m \u001b[39mcx_Oracle\u001b[39;00m\n",
      "\u001b[1;31mModuleNotFoundError\u001b[0m: No module named 'cx_Oracle'"
     ]
    }
   ],
   "source": [
    "import cx_Oracle"
   ]
  },
  {
   "cell_type": "code",
   "execution_count": 3,
   "metadata": {},
   "outputs": [],
   "source": [
    "# !dir"
   ]
  },
  {
   "cell_type": "code",
   "execution_count": 4,
   "metadata": {},
   "outputs": [],
   "source": [
    "import pandas as pd\n",
    "import numpy as np\n",
    "\n",
    "data_export = pd.read_excel(Data_file, sheet_name = Sheet_in_data_file)"
   ]
  },
  {
   "cell_type": "code",
   "execution_count": 5,
   "metadata": {},
   "outputs": [],
   "source": [
    "import sys\n",
    "sys.path.append(\"C:\\\\Users\\\\KlimovaAnnaA\\\\Documents\\\\MyFiles\\\\Projects\\\\OCP\")\n",
    "from Defs import merge_SalesUnits\n",
    "from Defs import merge_Mapping"
   ]
  },
  {
   "cell_type": "code",
   "execution_count": 58,
   "metadata": {},
   "outputs": [
    {
     "name": "stderr",
     "output_type": "stream",
     "text": [
      "C:\\Users\\KlimovaAnnaA\\AppData\\Local\\Temp\\ipykernel_11672\\3507667553.py:1: UserWarning: Parsing dates in %d.%m.%Y format when dayfirst=False (the default) was specified. Pass `dayfirst=True` or specify a format to silence this warning.\n",
      "  day = pd.to_datetime(Today)\n"
     ]
    }
   ],
   "source": [
    "day = pd.to_datetime(Today)\n",
    "data_work = data_export\n",
    "\n",
    "data_work = data_work.query(\"dealStatusName != 'Cancelled' & invoiced == 'Y' & deliveryPeriodTo > @day\").reset_index(drop=True)\n",
    "\n",
    "data_work[['sellerName', 'buyerName']] = data_work[['sellerName', 'buyerName']].fillna('')\n",
    "data_work['Counterparty'] = data_work['sellerName'] + data_work['buyerName']\n",
    "\n",
    "data_work.loc[data_work['actualQuantity'].isna(), 'actualQuantity'] = data_work.loc[data_work['actualQuantity'].isna(), 'BLTonnage']\n",
    "\n",
    "data_work['Sum_money'] = data_work['actualQuantity'] * data_work['conditionPrice']\n",
    "\n",
    "data_work.loc[data_work.dealTypeName == 'Purchasing Deal', 'actualQuantity'] = data_work.actualQuantity.abs()\n",
    "data_work.loc[data_work.dealTypeName == 'Purchasing Deal', 'Sum_money'] = -1 * data_work.Sum_money.abs()\n",
    "\n",
    "data_work.loc[data_work.dealTypeName == 'Sales Deal', 'actualQuantity'] = -1 * data_work.actualQuantity.abs()\n",
    "data_work.loc[data_work.dealTypeName == 'Sales Deal', 'Sum_money'] = data_work.Sum_money.abs()\n",
    "\n",
    "data_work['CompCode'] = merge_Mapping(data_work, col='companyName')\n",
    "data_work['Business_segment'] = merge_SalesUnits(data_work, col='CompCode', merge_col='ocpSegment')\n",
    "\n",
    "data_work['Cpty_Code'] = merge_Mapping(data_work, col='Counterparty')\n",
    "data_work['Cpty_segment'] = merge_SalesUnits(data_work, col='CompCode', merge_col='Cpty_Code').fillna('External')\n",
    "\n",
    "data_work['Days'] = 0\n",
    "data_work['Days'] = data_work['deliveryPeriodTo'] - day\n",
    "data_work['Days'] = data_work['Days'].dt.days\n",
    "data_work['Period'] = '2Y+'\n",
    "data_work.loc[pd.to_numeric(data_work['Days']) < 730, 'Period'] = '1Y-2Y'\n",
    "data_work.loc[pd.to_numeric(data_work['Days']) < 365, 'Period'] = '6M-1Y'\n",
    "data_work.loc[pd.to_numeric(data_work['Days']) < 182, 'Period'] = '3M-6M'\n",
    "data_work.loc[pd.to_numeric(data_work['Days']) < 91, 'Period'] = '1M-3M'\n",
    "data_work.loc[pd.to_numeric(data_work['Days']) < 30, 'Period'] = '<1M'"
   ]
  },
  {
   "cell_type": "code",
   "execution_count": 59,
   "metadata": {},
   "outputs": [],
   "source": [
    "data_for_print = data_work[['productTypeName', 'companyName', 'Business_segment', 'Counterparty',  'Cpty_segment', 'currency', 'actualQuantity', 'Sum_money', 'deliveryPeriodTo', 'Days', 'Period']]\n",
    "data_for_print.to_excel(Output_file, sheet_name=Sheet_in_output_file, index=False)"
   ]
  }
 ],
 "metadata": {
  "kernelspec": {
   "display_name": "base",
   "language": "python",
   "name": "python3"
  },
  "language_info": {
   "codemirror_mode": {
    "name": "ipython",
    "version": 3
   },
   "file_extension": ".py",
   "mimetype": "text/x-python",
   "name": "python",
   "nbconvert_exporter": "python",
   "pygments_lexer": "ipython3",
   "version": "3.11.5"
  },
  "orig_nbformat": 4
 },
 "nbformat": 4,
 "nbformat_minor": 2
}
