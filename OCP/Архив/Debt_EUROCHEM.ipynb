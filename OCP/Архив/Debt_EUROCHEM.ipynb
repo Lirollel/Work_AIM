{
 "cells": [
  {
   "cell_type": "markdown",
   "metadata": {},
   "source": [
    "Заполните данные о необходимых переменных:"
   ]
  },
  {
   "cell_type": "code",
   "execution_count": 1,
   "metadata": {},
   "outputs": [],
   "source": [
    "RUB_USD = 0.010309087\n",
    "EUR_USD = 1.052536139\n",
    "\n",
    "Today = '31.12.2023'\n",
    "\n",
    "# Group = 'SUEK'\n",
    "Group = 'EuroChem'\n",
    "\n",
    "Data_file = 'Credit_portfolio_SAP' + '.xlsx'\n",
    "Sheet_in_data_file = 'Export Worksheet'\n",
    "\n",
    "Mapping_file = 'C:\\\\Users\\\\KlimovaAnnaA\\\\Documents\\\\MyFiles\\\\Projects\\\\OCP\\\\Методология\\\\Mapping.xlsx'\n",
    "Sheet_in_mapping_file = 'mapping'\n",
    "\n",
    "from datetime import date\n",
    "Output_file = \"_\".join([str(date.today()), Group, 'SAP', 'Debt.xlsx'])\n",
    "Sheet_in_output_file = 'Debt'"
   ]
  },
  {
   "cell_type": "markdown",
   "metadata": {},
   "source": [
    "Открываю следующие файлы:"
   ]
  },
  {
   "cell_type": "code",
   "execution_count": 2,
   "metadata": {},
   "outputs": [],
   "source": [
    "import pandas as pd\n",
    "import numpy as np\n",
    "\n",
    "data_export = pd.read_excel(Data_file, sheet_name = Sheet_in_data_file)\n",
    "data_export[['businessPartnerName', 'companyName']] = data_export[['businessPartnerName', 'companyName']].apply(lambda x: x.str.lower())"
   ]
  },
  {
   "cell_type": "code",
   "execution_count": 3,
   "metadata": {},
   "outputs": [],
   "source": [
    "data_mapping = pd.read_excel(Mapping_file, sheet_name = Sheet_in_mapping_file)\n",
    "data_mapping.Code = data_mapping.Code.str.lower()"
   ]
  },
  {
   "cell_type": "code",
   "execution_count": 9,
   "metadata": {},
   "outputs": [
    {
     "name": "stderr",
     "output_type": "stream",
     "text": [
      "C:\\Users\\KlimovaAnnaA\\AppData\\Local\\Temp\\ipykernel_19424\\1171638031.py:5: FutureWarning: The provided callable <built-in function sum> is currently using SeriesGroupBy.sum. In a future version of pandas, the provided callable will be used directly. To keep current behavior pass the string \"sum\" instead.\n",
      "  'businessPartnerName', 'creditConditionCurrency', 'termEnd']).agg({'purchaseValueDisplayCurrency' : sum,\n",
      "C:\\Users\\KlimovaAnnaA\\AppData\\Local\\Temp\\ipykernel_19424\\1171638031.py:5: FutureWarning: The provided callable <built-in function sum> is currently using SeriesGroupBy.sum. In a future version of pandas, the provided callable will be used directly. To keep current behavior pass the string \"sum\" instead.\n",
      "  'businessPartnerName', 'creditConditionCurrency', 'termEnd']).agg({'purchaseValueDisplayCurrency' : sum,\n"
     ]
    }
   ],
   "source": [
    "data_export = data_export.query('Group == @Group').reset_index(drop=True)\n",
    "data_Debt = data_export.loc[data_export['productTypeName'].isin(['Транш по займам', 'Транш по кредитам'])]\n",
    "\n",
    "data_Debt = data_Debt.groupby(['companyName', 'relationshipPartner',\n",
    "       'businessPartnerName', 'creditConditionCurrency', 'termEnd']).agg({'purchaseValueDisplayCurrency' : sum,\n",
    "                                                                          'purchaseValuePositionCurrency' : sum}).reset_index()\n",
    "\n",
    "data_Debt['in_USD'] = data_Debt['purchaseValuePositionCurrency'] * np.sign(data_Debt['purchaseValueDisplayCurrency'])\n",
    "data_Debt.loc[data_Debt['creditConditionCurrency'] == 'RUB', 'in_USD'] = data_Debt.loc[data_Debt['creditConditionCurrency'] == 'RUB', 'in_USD'] * RUB_USD\n",
    "data_Debt.loc[data_Debt['creditConditionCurrency'] == 'EUR', 'in_USD'] = data_Debt.loc[data_Debt['creditConditionCurrency'] == 'EUR', 'in_USD'] * EUR_USD\n",
    "data_Debt['purchaseValuePositionCurrency'] = data_Debt['purchaseValuePositionCurrency'] * np.sign(data_Debt['purchaseValueDisplayCurrency'])\n",
    "\n",
    "data_Debt = data_Debt.rename(columns={\"businessPartnerName\": \"Entity\", \"companyName\": \"Counterparty\", \"creditConditionCurrency\": \"Currency\", \"purchaseValuePositionCurrency\": \"amoutn_outstanding\", \"in_USD\": \"amount_USD_eq\"})\n",
    "\n",
    "data_Debt['Entity_group'] = data_Debt\\\n",
    "                                   .merge(data_mapping, how = 'left', left_on = 'Entity', right_on = 'Code')['Business_segment']\\\n",
    "                                   .replace({np.NaN : 'External'})\\\n",
    "                                   .reset_index(drop=True)\n",
    "data_Debt['Counterparty_Group'] = data_Debt\\\n",
    "                                   .merge(data_mapping, how = 'left', left_on = 'Counterparty', right_on = 'Code')['Business_segment']\\\n",
    "                                   .replace({np.NaN : 'External'})\\\n",
    "                                   .reset_index(drop=True)\n",
    "\n",
    "day = pd.to_datetime(Today, dayfirst = True)\n",
    "data_Debt['Days'] = 0\n",
    "data_Debt.termEnd = pd.to_datetime(data_Debt['termEnd'], errors='coerce')\n",
    "data_Debt['Days'] = data_Debt.loc[data_Debt['termEnd'] != np.NaN, 'termEnd'] - day\n",
    "data_Debt['Days'] = data_Debt['Days'].dt.days\n",
    "data_Debt['Period'] = '2Y+'\n",
    "data_Debt.loc[pd.to_numeric(data_Debt['Days']) < 730, 'Period'] = '1Y-2Y'\n",
    "data_Debt.loc[pd.to_numeric(data_Debt['Days']) < 365, 'Period'] = '6M-1Y'\n",
    "data_Debt.loc[pd.to_numeric(data_Debt['Days']) < 182, 'Period'] = '3M-6M'\n",
    "data_Debt.loc[pd.to_numeric(data_Debt['Days']) < 91, 'Period'] = '1M-3M'\n",
    "data_Debt.loc[pd.to_numeric(data_Debt['Days']) < 30, 'Period'] = '<1M'"
   ]
  },
  {
   "cell_type": "markdown",
   "metadata": {},
   "source": [
    "Записываю данные в output file:"
   ]
  },
  {
   "cell_type": "code",
   "execution_count": 10,
   "metadata": {},
   "outputs": [
    {
     "name": "stderr",
     "output_type": "stream",
     "text": [
      "C:\\Users\\KlimovaAnnaA\\AppData\\Local\\Temp\\ipykernel_19424\\4245928966.py:6: SettingWithCopyWarning: \n",
      "A value is trying to be set on a copy of a slice from a DataFrame.\n",
      "Try using .loc[row_indexer,col_indexer] = value instead\n",
      "\n",
      "See the caveats in the documentation: https://pandas.pydata.org/pandas-docs/stable/user_guide/indexing.html#returning-a-view-versus-a-copy\n",
      "  data[['Entity', 'Counterparty']] = data[['Entity', 'Counterparty']].apply(lambda x: x.str.upper())\n"
     ]
    }
   ],
   "source": [
    "new_columns = ['dealClass1','dealClass2','instrumentOwner','dealSet','facility','Source']\n",
    "data_Debt = data_Debt.reindex(columns=(data_Debt.columns.tolist() + new_columns))\n",
    "data_Debt['Source'] = 'SAP'\n",
    "\n",
    "data = data_Debt[['Entity', 'Entity_group', 'Counterparty', 'Counterparty_Group', 'amoutn_outstanding', 'Currency', 'amount_USD_eq', 'termEnd', 'Days', 'Period', 'dealClass1','dealClass2','instrumentOwner','dealSet','facility','Source']]\n",
    "data[['Entity', 'Counterparty']] = data[['Entity', 'Counterparty']].apply(lambda x: x.str.upper())\n",
    "\n",
    "data.to_excel(Output_file, sheet_name = Sheet_in_output_file, index = False)"
   ]
  }
 ],
 "metadata": {
  "kernelspec": {
   "display_name": "base",
   "language": "python",
   "name": "python3"
  },
  "language_info": {
   "codemirror_mode": {
    "name": "ipython",
    "version": 3
   },
   "file_extension": ".py",
   "mimetype": "text/x-python",
   "name": "python",
   "nbconvert_exporter": "python",
   "pygments_lexer": "ipython3",
   "version": "3.11.5"
  },
  "orig_nbformat": 4
 },
 "nbformat": 4,
 "nbformat_minor": 2
}
