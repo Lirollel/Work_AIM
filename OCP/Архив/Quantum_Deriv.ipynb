{
 "cells": [
  {
   "cell_type": "code",
   "execution_count": 1,
   "metadata": {},
   "outputs": [],
   "source": [
    "CNY_USD = 0.1389\n",
    "RUB_USD = 0.010309087\n",
    "\n",
    "Today = '31.12.2023'\n",
    "\n",
    "Group = 'SUEK'\n",
    "\n",
    "\n",
    "Data_Forwards = 'WHWEEK_quantumForwards_2023_12' + '.xlsx'\n",
    "Data_Swaps = 'WHWEEK_quantumSwaps_2023_12' + '.xlsx'\n",
    "Sheet_in_data_file = 'Export Worksheet'\n",
    "\n",
    "Mapping_file = 'C:\\\\Users\\\\KlimovaAnnaA\\\\Documents\\\\MyFiles\\\\Projects\\\\OCP\\\\Методология\\\\Mapping.xlsx'\n",
    "Sheet_in_mapping_file = 'mapping'\n",
    "\n",
    "from datetime import date\n",
    "\n",
    "Output_Forwards = \"_\".join([str(date.today()), Group, 'quantum', 'Forwards.xlsx'])\n",
    "Output_Swaps = \"_\".join([str(date.today()), Group, 'quantum', 'Swaps.xlsx'])\n",
    "Sheet_in_output_Deriv = 'Deriv'"
   ]
  },
  {
   "cell_type": "code",
   "execution_count": 3,
   "metadata": {},
   "outputs": [
    {
     "name": "stderr",
     "output_type": "stream",
     "text": [
      "c:\\Users\\KlimovaAnnaA\\AppData\\Local\\miniconda3\\Lib\\site-packages\\openpyxl\\styles\\stylesheet.py:226: UserWarning: Workbook contains no default style, apply openpyxl's default\n",
      "  warn(\"Workbook contains no default style, apply openpyxl's default\")\n",
      "c:\\Users\\KlimovaAnnaA\\AppData\\Local\\miniconda3\\Lib\\site-packages\\openpyxl\\styles\\stylesheet.py:226: UserWarning: Workbook contains no default style, apply openpyxl's default\n",
      "  warn(\"Workbook contains no default style, apply openpyxl's default\")\n"
     ]
    },
    {
     "ename": "ModuleNotFoundError",
     "evalue": "No module named 'Quantum_Debt'",
     "output_type": "error",
     "traceback": [
      "\u001b[1;31m---------------------------------------------------------------------------\u001b[0m",
      "\u001b[1;31mModuleNotFoundError\u001b[0m                       Traceback (most recent call last)",
      "\u001b[1;32mc:\\Users\\KlimovaAnnaA\\Documents\\MyFiles\\Projects\\OCP\\Quantum\\Quantum_Deriv.ipynb Cell 2\u001b[0m line \u001b[0;36m6\n\u001b[0;32m      <a href='vscode-notebook-cell:/c%3A/Users/KlimovaAnnaA/Documents/MyFiles/Projects/OCP/Quantum/Quantum_Deriv.ipynb#W1sZmlsZQ%3D%3D?line=3'>4</a>\u001b[0m data_Forwards_export \u001b[39m=\u001b[39m pd\u001b[39m.\u001b[39mread_excel(Data_Forwards, sheet_name \u001b[39m=\u001b[39m Sheet_in_data_file)\n\u001b[0;32m      <a href='vscode-notebook-cell:/c%3A/Users/KlimovaAnnaA/Documents/MyFiles/Projects/OCP/Quantum/Quantum_Deriv.ipynb#W1sZmlsZQ%3D%3D?line=4'>5</a>\u001b[0m data_Swaps_export \u001b[39m=\u001b[39m pd\u001b[39m.\u001b[39mread_excel(Data_Swaps, sheet_name \u001b[39m=\u001b[39m Sheet_in_data_file)\n\u001b[1;32m----> <a href='vscode-notebook-cell:/c%3A/Users/KlimovaAnnaA/Documents/MyFiles/Projects/OCP/Quantum/Quantum_Deriv.ipynb#W1sZmlsZQ%3D%3D?line=5'>6</a>\u001b[0m \u001b[39mfrom\u001b[39;00m \u001b[39mQuantum_Debt\u001b[39;00m\u001b[39m.\u001b[39;00m\u001b[39mipynb\u001b[39;00m \u001b[39mimport\u001b[39;00m data_Debt_export_for_print \n\u001b[0;32m      <a href='vscode-notebook-cell:/c%3A/Users/KlimovaAnnaA/Documents/MyFiles/Projects/OCP/Quantum/Quantum_Deriv.ipynb#W1sZmlsZQ%3D%3D?line=7'>8</a>\u001b[0m data_mapping \u001b[39m=\u001b[39m pd\u001b[39m.\u001b[39mread_excel(Mapping_file, sheet_name \u001b[39m=\u001b[39m Sheet_in_mapping_file)\n",
      "\u001b[1;31mModuleNotFoundError\u001b[0m: No module named 'Quantum_Debt'"
     ]
    }
   ],
   "source": [
    "import pandas as pd\n",
    "import numpy as np\n",
    "\n",
    "data_Forwards_export = pd.read_excel(Data_Forwards, sheet_name = Sheet_in_data_file)\n",
    "data_Swaps_export = pd.read_excel(Data_Swaps, sheet_name = Sheet_in_data_file)\n",
    "\n",
    "data_mapping = pd.read_excel(Mapping_file, sheet_name = Sheet_in_mapping_file)"
   ]
  },
  {
   "cell_type": "code",
   "execution_count": 40,
   "metadata": {},
   "outputs": [],
   "source": [
    "data_Forwards_export['holdingEntity'] = data_Forwards_export['holdingEntity'].replace({'XXTSU': 'SUEK'})\n",
    "data_Forwards_export = data_Forwards_export[data_Forwards_export['holdingEntity'] == Group].reset_index(drop=True)\n",
    "data_Swaps_export['holdingEntity'] = data_Swaps_export['holdingEntity'].replace({'XXTSU': 'SUEK'})\n",
    "data_Swaps_export = data_Swaps_export[data_Swaps_export['holdingEntity'] == Group].reset_index(drop=True)\n",
    "# Знамена значений в стодбце holdingEntity и фильтр по Group"
   ]
  },
  {
   "cell_type": "code",
   "execution_count": 41,
   "metadata": {},
   "outputs": [],
   "source": [
    "assert set(data_Swaps_export['dealNo']).intersection(set(data_Forwards_export['dealNo'])) == set()"
   ]
  },
  {
   "cell_type": "code",
   "execution_count": 42,
   "metadata": {},
   "outputs": [
    {
     "name": "stderr",
     "output_type": "stream",
     "text": [
      "C:\\Users\\KlimovaAnnaA\\AppData\\Local\\Temp\\ipykernel_9256\\474526847.py:5: SettingWithCopyWarning: \n",
      "A value is trying to be set on a copy of a slice from a DataFrame\n",
      "\n",
      "See the caveats in the documentation: https://pandas.pydata.org/pandas-docs/stable/user_guide/indexing.html#returning-a-view-versus-a-copy\n",
      "  Data_for_loop.loc[len(Data_for_loop)] = row_list[:4] + row_list[6:8] + row_list[6:]\n",
      "C:\\Users\\KlimovaAnnaA\\AppData\\Local\\Temp\\ipykernel_9256\\474526847.py:5: SettingWithCopyWarning: \n",
      "A value is trying to be set on a copy of a slice from a DataFrame\n",
      "\n",
      "See the caveats in the documentation: https://pandas.pydata.org/pandas-docs/stable/user_guide/indexing.html#returning-a-view-versus-a-copy\n",
      "  Data_for_loop.loc[len(Data_for_loop)] = row_list[:4] + row_list[6:8] + row_list[6:]\n",
      "C:\\Users\\KlimovaAnnaA\\AppData\\Local\\Temp\\ipykernel_9256\\474526847.py:33: FutureWarning: Setting an item of incompatible dtype is deprecated and will raise an error in a future version of pandas. Value '21676144.053375' has dtype incompatible with int64, please explicitly cast to a compatible dtype first.\n",
      "  Data_for_loop.loc[i, 'USD_equiv'] = Data_for_loop.loc[i, 'payFaceValue'] * RUB_USD\n"
     ]
    }
   ],
   "source": [
    "Data_for_loop = data_Forwards_export[['entity','holdingEntity','counterparty','dealNo', 'payFaceValue', 'payFXCurrency', 'recFaceValue', 'recFXCurrency', 'maturityDate']]\n",
    "\n",
    "for i in range(0, len(Data_for_loop)):\n",
    "    row_list = list(Data_for_loop.loc[i])\n",
    "    Data_for_loop.loc[len(Data_for_loop)] = row_list[:4] + row_list[6:8] + row_list[6:]\n",
    "    Data_for_loop.loc[i,'payFaceValue'] = Data_for_loop.loc[i,'payFaceValue'] * -1\n",
    "Data_for_loop = Data_for_loop.sort_values('dealNo')\n",
    "# цикл создания новых строк\n",
    "\n",
    "merge_df = Data_for_loop.merge(data_mapping, how = 'left', left_on = 'entity', right_on = 'Unnamed: 23')[['Unnamed: 24', 'Unnamed: 25']]\n",
    "Data_for_loop = pd.concat([Data_for_loop, merge_df], axis=1).rename(columns={'Unnamed: 24': 'Entity', 'Unnamed: 25': 'Entity_group'})\n",
    "# Merge столбца entity по XYZ в mapping\n",
    "\n",
    "day = pd.to_datetime(Today, dayfirst = True)\n",
    "Data_for_loop['Days'] = 0\n",
    "\n",
    "Data_for_loop['Days'] = Data_for_loop.loc[Data_for_loop['maturityDate'] != np.NaN, 'maturityDate'] - day\n",
    "Data_for_loop['Days'] = Data_for_loop['Days'].dt.days\n",
    "Data_for_loop['Period'] = '2Y+'\n",
    "\n",
    "Data_for_loop.loc[pd.to_numeric(Data_for_loop['Days']) < 730, 'Period'] = '1Y-2Y'\n",
    "Data_for_loop.loc[pd.to_numeric(Data_for_loop['Days']) < 365, 'Period'] = '6M-1Y'\n",
    "Data_for_loop.loc[pd.to_numeric(Data_for_loop['Days']) < 182, 'Period'] = '3M-6M'\n",
    "Data_for_loop.loc[pd.to_numeric(Data_for_loop['Days']) < 91, 'Period'] = '1M-3M'\n",
    "Data_for_loop.loc[pd.to_numeric(Data_for_loop['Days']) < 30, 'Period'] = '<1M'\n",
    "# Создание Days и Period\n",
    "\n",
    "Data_for_loop['USD_equiv'] = 0\n",
    "for i in range (0,len(Data_for_loop)):\n",
    "    if Data_for_loop.loc[i, 'payFXCurrency'] == 'CNY':\n",
    "        Data_for_loop.loc[i, 'USD_equiv'] = Data_for_loop.loc[i, 'payFaceValue'] * CNY_USD\n",
    "    elif Data_for_loop.loc[i, 'payFXCurrency'] == 'RUB':\n",
    "        Data_for_loop.loc[i, 'USD_equiv'] = Data_for_loop.loc[i, 'payFaceValue'] * RUB_USD\n",
    "    elif Data_for_loop.loc[i, 'payFXCurrency'] == 'USD':\n",
    "        Data_for_loop.loc[i, 'USD_equiv'] = Data_for_loop.loc[i, 'payFaceValue']\n",
    "# создание USD_equiv\n",
    "\n",
    "new_columns = ['Company', 'Settlement', 'Notional Amount (USD)', 'Unnamed', 'source']\n",
    "Data_for_loop = Data_for_loop.reindex(columns=(Data_for_loop.columns.tolist() + new_columns))\n",
    "Data_for_loop['source'] = 'Quantum'\n",
    "# Создание пустых столбцов и столбца ресурса"
   ]
  },
  {
   "cell_type": "code",
   "execution_count": 43,
   "metadata": {},
   "outputs": [
    {
     "name": "stderr",
     "output_type": "stream",
     "text": [
      "C:\\Users\\KlimovaAnnaA\\AppData\\Local\\Temp\\ipykernel_9256\\1935957059.py:5: SettingWithCopyWarning: \n",
      "A value is trying to be set on a copy of a slice from a DataFrame\n",
      "\n",
      "See the caveats in the documentation: https://pandas.pydata.org/pandas-docs/stable/user_guide/indexing.html#returning-a-view-versus-a-copy\n",
      "  Data_for_loop_Swap.loc[len(Data_for_loop_Swap)] = row_list[:4] + row_list[6:8] + row_list[6:]\n",
      "C:\\Users\\KlimovaAnnaA\\AppData\\Local\\Temp\\ipykernel_9256\\1935957059.py:5: SettingWithCopyWarning: \n",
      "A value is trying to be set on a copy of a slice from a DataFrame\n",
      "\n",
      "See the caveats in the documentation: https://pandas.pydata.org/pandas-docs/stable/user_guide/indexing.html#returning-a-view-versus-a-copy\n",
      "  Data_for_loop_Swap.loc[len(Data_for_loop_Swap)] = row_list[:4] + row_list[6:8] + row_list[6:]\n",
      "C:\\Users\\KlimovaAnnaA\\AppData\\Local\\Temp\\ipykernel_9256\\1935957059.py:5: SettingWithCopyWarning: \n",
      "A value is trying to be set on a copy of a slice from a DataFrame\n",
      "\n",
      "See the caveats in the documentation: https://pandas.pydata.org/pandas-docs/stable/user_guide/indexing.html#returning-a-view-versus-a-copy\n",
      "  Data_for_loop_Swap.loc[len(Data_for_loop_Swap)] = row_list[:4] + row_list[6:8] + row_list[6:]\n",
      "C:\\Users\\KlimovaAnnaA\\AppData\\Local\\Temp\\ipykernel_9256\\1935957059.py:5: SettingWithCopyWarning: \n",
      "A value is trying to be set on a copy of a slice from a DataFrame\n",
      "\n",
      "See the caveats in the documentation: https://pandas.pydata.org/pandas-docs/stable/user_guide/indexing.html#returning-a-view-versus-a-copy\n",
      "  Data_for_loop_Swap.loc[len(Data_for_loop_Swap)] = row_list[:4] + row_list[6:8] + row_list[6:]\n",
      "C:\\Users\\KlimovaAnnaA\\AppData\\Local\\Temp\\ipykernel_9256\\1935957059.py:5: SettingWithCopyWarning: \n",
      "A value is trying to be set on a copy of a slice from a DataFrame\n",
      "\n",
      "See the caveats in the documentation: https://pandas.pydata.org/pandas-docs/stable/user_guide/indexing.html#returning-a-view-versus-a-copy\n",
      "  Data_for_loop_Swap.loc[len(Data_for_loop_Swap)] = row_list[:4] + row_list[6:8] + row_list[6:]\n",
      "C:\\Users\\KlimovaAnnaA\\AppData\\Local\\Temp\\ipykernel_9256\\1935957059.py:5: SettingWithCopyWarning: \n",
      "A value is trying to be set on a copy of a slice from a DataFrame\n",
      "\n",
      "See the caveats in the documentation: https://pandas.pydata.org/pandas-docs/stable/user_guide/indexing.html#returning-a-view-versus-a-copy\n",
      "  Data_for_loop_Swap.loc[len(Data_for_loop_Swap)] = row_list[:4] + row_list[6:8] + row_list[6:]\n",
      "C:\\Users\\KlimovaAnnaA\\AppData\\Local\\Temp\\ipykernel_9256\\1935957059.py:5: SettingWithCopyWarning: \n",
      "A value is trying to be set on a copy of a slice from a DataFrame\n",
      "\n",
      "See the caveats in the documentation: https://pandas.pydata.org/pandas-docs/stable/user_guide/indexing.html#returning-a-view-versus-a-copy\n",
      "  Data_for_loop_Swap.loc[len(Data_for_loop_Swap)] = row_list[:4] + row_list[6:8] + row_list[6:]\n",
      "C:\\Users\\KlimovaAnnaA\\AppData\\Local\\Temp\\ipykernel_9256\\1935957059.py:5: SettingWithCopyWarning: \n",
      "A value is trying to be set on a copy of a slice from a DataFrame\n",
      "\n",
      "See the caveats in the documentation: https://pandas.pydata.org/pandas-docs/stable/user_guide/indexing.html#returning-a-view-versus-a-copy\n",
      "  Data_for_loop_Swap.loc[len(Data_for_loop_Swap)] = row_list[:4] + row_list[6:8] + row_list[6:]\n",
      "C:\\Users\\KlimovaAnnaA\\AppData\\Local\\Temp\\ipykernel_9256\\1935957059.py:5: SettingWithCopyWarning: \n",
      "A value is trying to be set on a copy of a slice from a DataFrame\n",
      "\n",
      "See the caveats in the documentation: https://pandas.pydata.org/pandas-docs/stable/user_guide/indexing.html#returning-a-view-versus-a-copy\n",
      "  Data_for_loop_Swap.loc[len(Data_for_loop_Swap)] = row_list[:4] + row_list[6:8] + row_list[6:]\n",
      "C:\\Users\\KlimovaAnnaA\\AppData\\Local\\Temp\\ipykernel_9256\\1935957059.py:5: SettingWithCopyWarning: \n",
      "A value is trying to be set on a copy of a slice from a DataFrame\n",
      "\n",
      "See the caveats in the documentation: https://pandas.pydata.org/pandas-docs/stable/user_guide/indexing.html#returning-a-view-versus-a-copy\n",
      "  Data_for_loop_Swap.loc[len(Data_for_loop_Swap)] = row_list[:4] + row_list[6:8] + row_list[6:]\n",
      "C:\\Users\\KlimovaAnnaA\\AppData\\Local\\Temp\\ipykernel_9256\\1935957059.py:5: SettingWithCopyWarning: \n",
      "A value is trying to be set on a copy of a slice from a DataFrame\n",
      "\n",
      "See the caveats in the documentation: https://pandas.pydata.org/pandas-docs/stable/user_guide/indexing.html#returning-a-view-versus-a-copy\n",
      "  Data_for_loop_Swap.loc[len(Data_for_loop_Swap)] = row_list[:4] + row_list[6:8] + row_list[6:]\n",
      "C:\\Users\\KlimovaAnnaA\\AppData\\Local\\Temp\\ipykernel_9256\\1935957059.py:5: SettingWithCopyWarning: \n",
      "A value is trying to be set on a copy of a slice from a DataFrame\n",
      "\n",
      "See the caveats in the documentation: https://pandas.pydata.org/pandas-docs/stable/user_guide/indexing.html#returning-a-view-versus-a-copy\n",
      "  Data_for_loop_Swap.loc[len(Data_for_loop_Swap)] = row_list[:4] + row_list[6:8] + row_list[6:]\n",
      "C:\\Users\\KlimovaAnnaA\\AppData\\Local\\Temp\\ipykernel_9256\\1935957059.py:5: SettingWithCopyWarning: \n",
      "A value is trying to be set on a copy of a slice from a DataFrame\n",
      "\n",
      "See the caveats in the documentation: https://pandas.pydata.org/pandas-docs/stable/user_guide/indexing.html#returning-a-view-versus-a-copy\n",
      "  Data_for_loop_Swap.loc[len(Data_for_loop_Swap)] = row_list[:4] + row_list[6:8] + row_list[6:]\n",
      "C:\\Users\\KlimovaAnnaA\\AppData\\Local\\Temp\\ipykernel_9256\\1935957059.py:5: SettingWithCopyWarning: \n",
      "A value is trying to be set on a copy of a slice from a DataFrame\n",
      "\n",
      "See the caveats in the documentation: https://pandas.pydata.org/pandas-docs/stable/user_guide/indexing.html#returning-a-view-versus-a-copy\n",
      "  Data_for_loop_Swap.loc[len(Data_for_loop_Swap)] = row_list[:4] + row_list[6:8] + row_list[6:]\n",
      "C:\\Users\\KlimovaAnnaA\\AppData\\Local\\Temp\\ipykernel_9256\\1935957059.py:31: FutureWarning: Setting an item of incompatible dtype is deprecated and will raise an error in a future version of pandas. Value '-104842057.590894' has dtype incompatible with int64, please explicitly cast to a compatible dtype first.\n",
      "  Data_for_loop_Swap.loc[i, 'USD_equiv'] = Data_for_loop_Swap.loc[i, 'payFaceValue'] * CNY_USD\n"
     ]
    }
   ],
   "source": [
    "Data_for_loop_Swap = data_Swaps_export[['entity','holdingEntity','counterparty','dealNo', 'payFaceValue', 'payFXCurrency', 'recFaceValue', 'recFXCurrency', 'maturityDate']]\n",
    "\n",
    "for i in range(0, len(Data_for_loop_Swap)):\n",
    "    row_list = list(Data_for_loop_Swap.loc[i])\n",
    "    Data_for_loop_Swap.loc[len(Data_for_loop_Swap)] = row_list[:4] + row_list[6:8] + row_list[6:]\n",
    "    Data_for_loop_Swap.loc[i,'payFaceValue'] = Data_for_loop_Swap.loc[i,'payFaceValue'] * -1\n",
    "Data_for_loop_Swap = Data_for_loop_Swap.sort_values('dealNo')\n",
    "# цикл создания новых строк\n",
    "\n",
    "merge_df = Data_for_loop_Swap.merge(data_mapping, how = 'left', left_on = 'entity', right_on = 'Unnamed: 23')[['Unnamed: 24', 'Unnamed: 25']]\n",
    "Data_for_loop_Swap = pd.concat([Data_for_loop_Swap, merge_df], axis=1).rename(columns={'Unnamed: 24': 'Entity', 'Unnamed: 25': 'Entity_group'})\n",
    "# Merge столбца entity по XYZ в mapping\n",
    "\n",
    "day = pd.to_datetime(Today, dayfirst = True)\n",
    "Data_for_loop_Swap['Days'] = 0\n",
    "\n",
    "Data_for_loop_Swap['Days'] = Data_for_loop_Swap.loc[Data_for_loop_Swap['maturityDate'] != np.NaN, 'maturityDate'] - day\n",
    "Data_for_loop_Swap['Days'] = Data_for_loop_Swap['Days'].dt.days\n",
    "Data_for_loop_Swap['Period'] = '2Y+'\n",
    "\n",
    "Data_for_loop_Swap.loc[pd.to_numeric(Data_for_loop_Swap['Days']) < 730, 'Period'] = '1Y-2Y'\n",
    "Data_for_loop_Swap.loc[pd.to_numeric(Data_for_loop_Swap['Days']) < 365, 'Period'] = '6M-1Y'\n",
    "Data_for_loop_Swap.loc[pd.to_numeric(Data_for_loop_Swap['Days']) < 182, 'Period'] = '3M-6M'\n",
    "Data_for_loop_Swap.loc[pd.to_numeric(Data_for_loop_Swap['Days']) < 91, 'Period'] = '1M-3M'\n",
    "Data_for_loop_Swap.loc[pd.to_numeric(Data_for_loop_Swap['Days']) < 30, 'Period'] = '<1M'\n",
    "# Создание Days и Period\n",
    "\n",
    "Data_for_loop_Swap['USD_equiv'] = 0\n",
    "for i in range (0,len(Data_for_loop_Swap)):\n",
    "    if Data_for_loop_Swap.loc[i, 'payFXCurrency'] == 'CNY':\n",
    "        Data_for_loop_Swap.loc[i, 'USD_equiv'] = Data_for_loop_Swap.loc[i, 'payFaceValue'] * CNY_USD\n",
    "    elif Data_for_loop_Swap.loc[i, 'payFXCurrency'] == 'RUB':\n",
    "        Data_for_loop_Swap.loc[i, 'USD_equiv'] = Data_for_loop_Swap.loc[i, 'payFaceValue'] * RUB_USD\n",
    "    elif Data_for_loop_Swap.loc[i, 'payFXCurrency'] == 'USD':\n",
    "        Data_for_loop_Swap.loc[i, 'USD_equiv'] = Data_for_loop_Swap.loc[i, 'payFaceValue']\n",
    "# создание USD_equiv\n",
    "\n",
    "new_columns = ['Company', 'Settlement', 'Notional Amount (USD)', 'Unnamed', 'source']\n",
    "Data_for_loop_Swap = Data_for_loop_Swap.reindex(columns=(Data_for_loop_Swap.columns.tolist() + new_columns))\n",
    "Data_for_loop_Swap['source'] = 'Quantum'\n",
    "# Создание пустых столбцов и столбца ресурса"
   ]
  },
  {
   "cell_type": "code",
   "execution_count": 44,
   "metadata": {},
   "outputs": [],
   "source": [
    "data = Data_for_loop[['Entity','Entity_group','holdingEntity','Company',\\\n",
    "                    'counterparty','dealNo','payFXCurrency','payFaceValue',\\\n",
    "                    'USD_equiv','Settlement','Notional Amount (USD)',\\\n",
    "                    'Unnamed','maturityDate','Days','Period','source']]\n",
    "data_Swap = Data_for_loop_Swap[['Entity','Entity_group','holdingEntity','Company',\\\n",
    "                    'counterparty','dealNo','payFXCurrency','payFaceValue',\\\n",
    "                    'USD_equiv','Settlement','Notional Amount (USD)',\\\n",
    "                    'Unnamed','maturityDate','Days','Period','source']]\n",
    "# Выбор столбцов"
   ]
  },
  {
   "cell_type": "code",
   "execution_count": 56,
   "metadata": {},
   "outputs": [],
   "source": [
    "data_to_excel = pd.concat([data, data_Swap], axis=0)"
   ]
  },
  {
   "cell_type": "code",
   "execution_count": 57,
   "metadata": {},
   "outputs": [],
   "source": [
    "data_to_excel.to_excel(Output_Forwards, sheet_name = Sheet_in_output_Deriv, index = False)\n",
    "# Запись в файл "
   ]
  }
 ],
 "metadata": {
  "kernelspec": {
   "display_name": "base",
   "language": "python",
   "name": "python3"
  },
  "language_info": {
   "codemirror_mode": {
    "name": "ipython",
    "version": 3
   },
   "file_extension": ".py",
   "mimetype": "text/x-python",
   "name": "python",
   "nbconvert_exporter": "python",
   "pygments_lexer": "ipython3",
   "version": "3.11.5"
  },
  "orig_nbformat": 4
 },
 "nbformat": 4,
 "nbformat_minor": 2
}
