{
 "cells": [
  {
   "cell_type": "code",
   "execution_count": 2,
   "metadata": {},
   "outputs": [],
   "source": [
    "import pandas as pd\n",
    "import numpy as np\n",
    "from datetime import date, timedelta\n",
    "import seaborn as sns\n",
    "import matplotlib.pyplot as plt\n",
    "import matplotlib.axes as ax\n",
    "import openpyxl\n",
    "from openpyxl.styles import Border, Side, PatternFill, Font, GradientFill, Alignment\n",
    "from openpyxl.drawing.image import Image\n",
    "import win32com.client as win32\n",
    "import os\n",
    "from PIL import ImageGrab\n",
    "import win32com.client\n",
    "\n",
    "olApp = win32.Dispatch('Outlook.Application')\n",
    "olNS = olApp.GetNameSpace('MAPI')\n",
    "\n",
    "import sys\n",
    "sys.path.append(\"C:\\\\Users\\\\KlimovaAnnaA\\\\Documents\\\\MyFiles\\\\Projects\\\\OCP\")\n",
    "from Defs import merge_SalesUnits\n",
    "from Defs import merge_Mapping\n",
    "from Defs import Period\n",
    "from Defs import new_list\n",
    "from Defs import export_from_RISKCUSTOM\n",
    "from Defs import add_in_currency_column\n",
    "from Defs import concat_columns\n",
    "from Defs import export_from_WHWEEK"
   ]
  },
  {
   "cell_type": "code",
   "execution_count": 4,
   "metadata": {},
   "outputs": [],
   "source": [
    "Today = '2024-04-30'\n",
    "\n",
    "print_to_excel = True"
   ]
  },
  {
   "cell_type": "code",
   "execution_count": 8,
   "metadata": {},
   "outputs": [
    {
     "name": "stderr",
     "output_type": "stream",
     "text": [
      "C:\\Users\\KlimovaAnnaA\\Documents\\MyFiles\\Projects\\OCP\\Defs.py:172: UserWarning: pandas only supports SQLAlchemy connectable (engine/connection) or database string URI or sqlite3 DBAPI2 connection. Other DBAPI2 objects are not tested. Please consider using SQLAlchemy.\n",
      "  data_export = pd.read_sql(query, con=connection)\n"
     ]
    }
   ],
   "source": [
    "query = f\"\"\"\n",
    "select * \n",
    "from xxwh.\"OPRECConso_detailed\"\n",
    "where \"periodDate\" = TO_DATE('{Today}', 'YYYY-MM-DD')\n",
    "and \"rowType\" != 'on hand'\n",
    "\"\"\"\n",
    "data_OPRECConso_detailed = export_from_WHWEEK(query)"
   ]
  },
  {
   "cell_type": "code",
   "execution_count": 62,
   "metadata": {},
   "outputs": [
    {
     "name": "stderr",
     "output_type": "stream",
     "text": [
      "C:\\Users\\KlimovaAnnaA\\Documents\\MyFiles\\Projects\\OCP\\Defs.py:93: UserWarning: pandas only supports SQLAlchemy connectable (engine/connection) or database string URI or sqlite3 DBAPI2 connection. Other DBAPI2 objects are not tested. Please consider using SQLAlchemy.\n",
      "  data_export = pd.read_sql(query, con=connection)\n",
      "C:\\Users\\KlimovaAnnaA\\Documents\\MyFiles\\Projects\\OCP\\Defs.py:38: FutureWarning: Setting an item of incompatible dtype is deprecated and will raise an error in a future version of pandas. Value '['RUFERT' 'RUFERT' 'RUFERT' ... 'EURSALES' 'RUFERT' 'RUFERT']' has dtype incompatible with float64, please explicitly cast to a compatible dtype first.\n",
      "  merge_data.loc[merge_data[f'{id_col}_merge'] != 'External', 'last_merge'] = merge_data.loc[merge_data[f'{id_col}_merge'] != 'External', f'{id_col}_merge']\n",
      "C:\\Users\\KlimovaAnnaA\\AppData\\Local\\Temp\\ipykernel_11416\\1837765220.py:3: SettingWithCopyWarning: \n",
      "A value is trying to be set on a copy of a slice from a DataFrame.\n",
      "Try using .loc[row_indexer,col_indexer] = value instead\n",
      "\n",
      "See the caveats in the documentation: https://pandas.pydata.org/pandas-docs/stable/user_guide/indexing.html#returning-a-view-versus-a-copy\n",
      "  data_OPRECConso_detailed_work['businessSegment'] = merge_SalesUnits(data_OPRECConso_detailed_work,'businessUnit',merge_col='ocpSegment')\n",
      "C:\\Users\\KlimovaAnnaA\\AppData\\Local\\Temp\\ipykernel_11416\\1837765220.py:4: SettingWithCopyWarning: \n",
      "A value is trying to be set on a copy of a slice from a DataFrame.\n",
      "Try using .loc[row_indexer,col_indexer] = value instead\n",
      "\n",
      "See the caveats in the documentation: https://pandas.pydata.org/pandas-docs/stable/user_guide/indexing.html#returning-a-view-versus-a-copy\n",
      "  data_OPRECConso_detailed_work['customerCode'] = merge_Mapping(data_OPRECConso_detailed_work,'customer')\n",
      "C:\\Users\\KlimovaAnnaA\\Documents\\MyFiles\\Projects\\OCP\\Defs.py:93: UserWarning: pandas only supports SQLAlchemy connectable (engine/connection) or database string URI or sqlite3 DBAPI2 connection. Other DBAPI2 objects are not tested. Please consider using SQLAlchemy.\n",
      "  data_export = pd.read_sql(query, con=connection)\n",
      "C:\\Users\\KlimovaAnnaA\\Documents\\MyFiles\\Projects\\OCP\\Defs.py:38: FutureWarning: Setting an item of incompatible dtype is deprecated and will raise an error in a future version of pandas. Value '['EURPROD' 'EURPROD' 'EURPROD' ... 'RUFERT' 'RUFERT' 'RUFERT']' has dtype incompatible with float64, please explicitly cast to a compatible dtype first.\n",
      "  merge_data.loc[merge_data[f'{id_col}_merge'] != 'External', 'last_merge'] = merge_data.loc[merge_data[f'{id_col}_merge'] != 'External', f'{id_col}_merge']\n",
      "C:\\Users\\KlimovaAnnaA\\AppData\\Local\\Temp\\ipykernel_11416\\1837765220.py:5: SettingWithCopyWarning: \n",
      "A value is trying to be set on a copy of a slice from a DataFrame.\n",
      "Try using .loc[row_indexer,col_indexer] = value instead\n",
      "\n",
      "See the caveats in the documentation: https://pandas.pydata.org/pandas-docs/stable/user_guide/indexing.html#returning-a-view-versus-a-copy\n",
      "  data_OPRECConso_detailed_work['customerSegment'] = merge_SalesUnits(data_OPRECConso_detailed_work,'customerCode',merge_col='ocpSegment')\n"
     ]
    }
   ],
   "source": [
    "data_OPRECConso_detailed_work = data_OPRECConso_detailed[['businessUnit','customer','appliedPrice','dealPriceDealCurrency','currency','appliedEndDate','quantity','unshippedDealAmount']]\n",
    "# merge segments\n",
    "data_OPRECConso_detailed_work['businessSegment'] = merge_SalesUnits(data_OPRECConso_detailed_work,'businessUnit',merge_col='ocpSegment')\n",
    "data_OPRECConso_detailed_work['customerCode'] = merge_Mapping(data_OPRECConso_detailed_work,'customer')\n",
    "data_OPRECConso_detailed_work['customerSegment'] = merge_SalesUnits(data_OPRECConso_detailed_work,'customerCode',merge_col='ocpSegment')\n",
    "# work with data\n",
    "data_OPRECConso_detailed_work_not_na = data_OPRECConso_detailed_work[data_OPRECConso_detailed_work.unshippedDealAmount!=0].drop('quantity', axis=1).dropna(subset='appliedPrice').reset_index(drop=True)\n",
    "data_OPRECConso_detailed_work_not_na['Amount_appliedPrice'] = data_OPRECConso_detailed_work_not_na.appliedPrice*data_OPRECConso_detailed_work_not_na.unshippedDealAmount\n",
    "data_OPRECConso_detailed_work_not_na['Amount_dealPriceDealCurrency'] = data_OPRECConso_detailed_work_not_na.dealPriceDealCurrency*data_OPRECConso_detailed_work_not_na.unshippedDealAmount\n",
    "data_OPRECConso_detailed_work_not_na = Period(data_OPRECConso_detailed_work_not_na, Today, 'appliedEndDate')\n",
    "### to excel\n",
    "if print_to_excel==True:\n",
    "    data_print = data_OPRECConso_detailed_work_not_na[['businessSegment','businessUnit','customerSegment','currency','Amount_appliedPrice','Amount_dealPriceDealCurrency','appliedEndDate','Days','Period']]\n",
    "    Output_file = f'{str(date.today())}_ECH_deals_OPRECConso_detailed.xlsx'\n",
    "    data_print.to_excel(Output_file, index=False)"
   ]
  },
  {
   "cell_type": "code",
   "execution_count": 66,
   "metadata": {},
   "outputs": [],
   "source": [
    "mapping_data = data_OPRECConso_detailed_work.loc[data_OPRECConso_detailed_work.customerSegment=='External',['customer','customerCode','customerSegment']].drop_duplicates()\n",
    "new_list(mapping_data,Output_file,'mapping_sheet')"
   ]
  }
 ],
 "metadata": {
  "kernelspec": {
   "display_name": "base",
   "language": "python",
   "name": "python3"
  },
  "language_info": {
   "codemirror_mode": {
    "name": "ipython",
    "version": 3
   },
   "file_extension": ".py",
   "mimetype": "text/x-python",
   "name": "python",
   "nbconvert_exporter": "python",
   "pygments_lexer": "ipython3",
   "version": "3.11.5"
  },
  "orig_nbformat": 4
 },
 "nbformat": 4,
 "nbformat_minor": 2
}
