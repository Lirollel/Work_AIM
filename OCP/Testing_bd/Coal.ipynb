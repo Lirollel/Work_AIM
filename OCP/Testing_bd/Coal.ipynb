{
 "cells": [
  {
   "cell_type": "code",
   "execution_count": 1,
   "metadata": {},
   "outputs": [],
   "source": [
    "import pandas as pd\n",
    "import numpy as np\n",
    "from datetime import date, timedelta\n",
    "import seaborn as sns\n",
    "import matplotlib.pyplot as plt\n",
    "import matplotlib.axes as ax\n",
    "import openpyxl\n",
    "from openpyxl.styles import Border, Side, PatternFill, Font, GradientFill, Alignment\n",
    "from openpyxl.drawing.image import Image\n",
    "import win32com.client as win32\n",
    "import os\n",
    "from PIL import ImageGrab\n",
    "import win32com.client\n",
    "\n",
    "olApp = win32.Dispatch('Outlook.Application')\n",
    "olNS = olApp.GetNameSpace('MAPI')\n",
    "\n",
    "import sys\n",
    "sys.path.append(\"C:\\\\Users\\\\KlimovaAnnaA\\\\Documents\\\\MyFiles\\\\Projects\\\\OCP\")\n",
    "from Defs import merge_SalesUnits\n",
    "from Defs import merge_Mapping\n",
    "from Defs import Period\n",
    "from Defs import new_list\n",
    "from Defs import export_from_RISKCUSTOM\n",
    "from Defs import add_in_currency_column\n",
    "from Defs import concat_columns\n",
    "from Defs import export_from_WHWEEK"
   ]
  },
  {
   "cell_type": "code",
   "execution_count": 17,
   "metadata": {},
   "outputs": [
    {
     "name": "stderr",
     "output_type": "stream",
     "text": [
      "C:\\Users\\KlimovaAnnaA\\Documents\\MyFiles\\Projects\\OCP\\Defs.py:168: UserWarning: pandas only supports SQLAlchemy connectable (engine/connection) or database string URI or sqlite3 DBAPI2 connection. Other DBAPI2 objects are not tested. Please consider using SQLAlchemy.\n",
      "  data_export = pd.read_sql(query, con=connection)\n"
     ]
    }
   ],
   "source": [
    "query = \"\"\"\n",
    "select \"sliceDate\",\"sellerId\",\"sellerName\",\"customerName\",\"materialName\",\"netPrice\",\"currency\",\"demandQuantity\",\"netValue\",\"plannedShipmentDate\",\"plannedInvoiceDate\" \n",
    "from xxwh.\"sapDealsInternalMarket\" \n",
    "where \"sliceDate\" = (select max(\"sliceDate\") as max_data from xxwh.\"sapDealsInternalMarket\")\n",
    "\"\"\"\n",
    "data=export_from_WHWEEK(query)"
   ]
  },
  {
   "cell_type": "code",
   "execution_count": 69,
   "metadata": {},
   "outputs": [],
   "source": [
    "print_to_excel = True"
   ]
  },
  {
   "cell_type": "code",
   "execution_count": null,
   "metadata": {},
   "outputs": [
    {
     "name": "stderr",
     "output_type": "stream",
     "text": [
      "C:\\Users\\KlimovaAnnaA\\Documents\\MyFiles\\Projects\\OCP\\Defs.py:89: UserWarning: pandas only supports SQLAlchemy connectable (engine/connection) or database string URI or sqlite3 DBAPI2 connection. Other DBAPI2 objects are not tested. Please consider using SQLAlchemy.\n",
      "  data_export = pd.read_sql(query, con=connection)\n",
      "C:\\Users\\KlimovaAnnaA\\Documents\\MyFiles\\Projects\\OCP\\Defs.py:34: FutureWarning: Setting an item of incompatible dtype is deprecated and will raise an error in a future version of pandas. Value '['SGC' 'SUEK RU' 'SUEK RU' ... 'SUEK RU' 'SUEK RU' 'SUEK RU']' has dtype incompatible with float64, please explicitly cast to a compatible dtype first.\n",
      "  merge_data.loc[merge_data[f'{id_col}_merge'] != 'External', 'last_merge'] = merge_data.loc[merge_data[f'{id_col}_merge'] != 'External', f'{id_col}_merge']\n",
      "C:\\Users\\KlimovaAnnaA\\Documents\\MyFiles\\Projects\\OCP\\Defs.py:89: UserWarning: pandas only supports SQLAlchemy connectable (engine/connection) or database string URI or sqlite3 DBAPI2 connection. Other DBAPI2 objects are not tested. Please consider using SQLAlchemy.\n",
      "  data_export = pd.read_sql(query, con=connection)\n",
      "C:\\Users\\KlimovaAnnaA\\Documents\\MyFiles\\Projects\\OCP\\Defs.py:34: FutureWarning: Setting an item of incompatible dtype is deprecated and will raise an error in a future version of pandas. Value '['SGC' 'SGC' 'SGC' ... 'SGC' 'SGC' 'SGC']' has dtype incompatible with float64, please explicitly cast to a compatible dtype first.\n",
      "  merge_data.loc[merge_data[f'{id_col}_merge'] != 'External', 'last_merge'] = merge_data.loc[merge_data[f'{id_col}_merge'] != 'External', f'{id_col}_merge']\n",
      "C:\\Users\\KlimovaAnnaA\\Documents\\MyFiles\\Projects\\OCP\\Defs.py:89: UserWarning: pandas only supports SQLAlchemy connectable (engine/connection) or database string URI or sqlite3 DBAPI2 connection. Other DBAPI2 objects are not tested. Please consider using SQLAlchemy.\n",
      "  data_export = pd.read_sql(query, con=connection)\n",
      "C:\\Users\\KlimovaAnnaA\\Documents\\MyFiles\\Projects\\OCP\\Defs.py:34: FutureWarning: Setting an item of incompatible dtype is deprecated and will raise an error in a future version of pandas. Value '['SUEK' 'SUEK' 'SUEK' ... 'SUEK' 'SUEK' 'SUEK']' has dtype incompatible with float64, please explicitly cast to a compatible dtype first.\n",
      "  merge_data.loc[merge_data[f'{id_col}_merge'] != 'External', 'last_merge'] = merge_data.loc[merge_data[f'{id_col}_merge'] != 'External', f'{id_col}_merge']\n",
      "C:\\Users\\KlimovaAnnaA\\Documents\\MyFiles\\Projects\\OCP\\Defs.py:89: UserWarning: pandas only supports SQLAlchemy connectable (engine/connection) or database string URI or sqlite3 DBAPI2 connection. Other DBAPI2 objects are not tested. Please consider using SQLAlchemy.\n",
      "  data_export = pd.read_sql(query, con=connection)\n",
      "C:\\Users\\KlimovaAnnaA\\Documents\\MyFiles\\Projects\\OCP\\Defs.py:34: FutureWarning: Setting an item of incompatible dtype is deprecated and will raise an error in a future version of pandas. Value '['SUEK' 'SUEK' 'SUEK' ... 'SUEK' 'SUEK' 'SUEK']' has dtype incompatible with float64, please explicitly cast to a compatible dtype first.\n",
      "  merge_data.loc[merge_data[f'{id_col}_merge'] != 'External', 'last_merge'] = merge_data.loc[merge_data[f'{id_col}_merge'] != 'External', f'{id_col}_merge']\n",
      "C:\\Users\\KlimovaAnnaA\\AppData\\Local\\Temp\\ipykernel_14984\\3448218214.py:10: FutureWarning: The provided callable <built-in function sum> is currently using DataFrameGroupBy.sum. In a future version of pandas, the provided callable will be used directly. To keep current behavior pass the string \"sum\" instead.\n",
      "  data_counterclaims_pivot = data_counterclaims.pivot_table(index=['Comp_segment','sellerId','Cpty_segment','Cpty_id','materialName','currency'], values=['demandQuantity','netValue'], aggfunc=sum).reset_index()\n"
     ]
    }
   ],
   "source": [
    "data_work = data\n",
    "# Merge data\n",
    "data_work['Comp_segment'] = merge_SalesUnits(data_work,'sellerId',merge_col='ocpSegment')\n",
    "data_work['Cpty_id'] = merge_Mapping(data_work,'customerName')\n",
    "data_work['Cpty_segment'] = merge_SalesUnits(data_work,'Cpty_id',merge_col='ocpSegment')\n",
    "data_work['Comp_holding'] = merge_SalesUnits(data_work,'sellerId',merge_col='holding')\n",
    "data_work['Cpty_holding'] = merge_SalesUnits(data_work,'Cpty_id',merge_col='holding')\n",
    "# Counterclaims\n",
    "data_counterclaims = data_work[data_work.Cpty_id!='External']\n",
    "data_counterclaims_pivot = data_counterclaims.pivot_table(index=['Comp_segment','sellerId','Cpty_segment','Cpty_id','materialName','currency'], values=['demandQuantity','netValue'], aggfunc=sum).reset_index()\n",
    "data_counterclaims_pivot['Comp_Cpty'] = data_counterclaims_pivot[['sellerId','Cpty_id','materialName','currency']].astype(str).agg('.'.join, axis=1)\n",
    "data_counterclaims_pivot['Cpty_Comp'] = data_counterclaims_pivot[['Cpty_id','sellerId','materialName','currency']].astype(str).agg('.'.join, axis=1)\n",
    "data_merge = data_counterclaims_pivot.merge(data_counterclaims_pivot, how='left', left_on='Comp_Cpty', right_on='Cpty_Comp')\n",
    "data_merge = data_merge.iloc[:,[0,1,2,3,4,5,6,7,16,17]]\n",
    "data_merge['Amount_is_equal'] = data_merge.netValue_x==data_merge.netValue_y\n",
    "data_counterclaims_final = data_merge.sort_values(['demandQuantity_y','sellerId_x','Cpty_id_x'])\n",
    "# manual map\n",
    "manual_map = data_work.loc[data_work.Comp_segment=='External',['sellerId','sellerName','Comp_segment','Comp_holding']].drop_duplicates()\n",
    "# Empty data\n",
    "data_empty = data_work[data_work.isna().any(axis=1)]\n",
    "data_empty_sellerName = data_empty[data_empty.sellerName.isna()]\n",
    "assert data_empty.shape ==data_empty_sellerName.shape\n",
    "data_empty_final = data_empty_sellerName[['sellerId','sellerName']].drop_duplicates()"
   ]
  },
  {
   "cell_type": "code",
   "execution_count": 74,
   "metadata": {},
   "outputs": [],
   "source": [
    "if print_to_excel == True:\n",
    "    Output_file = f'{str(date.today())}_xxwh-sapDealsInternalMarket.xlsx'\n",
    "    manual_map.to_excel(Output_file, sheet_name='Manual_map', index=False)\n",
    "    new_list(data_counterclaims_final,Output_file,'Counterclaims')\n",
    "    new_list(data_work,Output_file,'Data')\n",
    "    new_list(data_empty_final,Output_file,'Empty_data')"
   ]
  }
 ],
 "metadata": {
  "kernelspec": {
   "display_name": "base",
   "language": "python",
   "name": "python3"
  },
  "language_info": {
   "codemirror_mode": {
    "name": "ipython",
    "version": 3
   },
   "file_extension": ".py",
   "mimetype": "text/x-python",
   "name": "python",
   "nbconvert_exporter": "python",
   "pygments_lexer": "ipython3",
   "version": "3.11.5"
  },
  "orig_nbformat": 4
 },
 "nbformat": 4,
 "nbformat_minor": 2
}
