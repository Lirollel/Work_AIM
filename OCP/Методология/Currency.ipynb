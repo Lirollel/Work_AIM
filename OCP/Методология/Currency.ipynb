{
 "cells": [
  {
   "cell_type": "code",
   "execution_count": 1,
   "metadata": {},
   "outputs": [],
   "source": [
    "import sys\n",
    "sys.path.append(\"C:\\\\Users\\\\KlimovaAnnaA\\\\Documents\\\\MyFiles\\\\Projects\\\\OCP\")\n",
    "from Defs import merge_SalesUnits\n",
    "from Defs import merge_Mapping\n",
    "from Defs import Period\n",
    "from Defs import new_list\n",
    "from Defs import export_from_RISKCUSTOM"
   ]
  },
  {
   "cell_type": "code",
   "execution_count": 5,
   "metadata": {},
   "outputs": [],
   "source": [
    "import pandas as pd"
   ]
  },
  {
   "cell_type": "code",
   "execution_count": null,
   "metadata": {},
   "outputs": [],
   "source": [
    "data_CCY_map = pd.read_csv('CCY_mapping.csv')\n",
    "date = '29/02/24'\n",
    "query = f\"\"\"select * from \"RISKACCESS\".\"XXMR_MADAB_CONTENT\"\n",
    "where\n",
    "\"RISKACCESS\".\"XXMR_MADAB_CONTENT\".\"COMMODITY_ID\" in (2354,322,311,312,314,315,318,2332,2334,2360,9321,9326,9331,9902,10014,7647,33051,9318,9886,2362,33447) and\n",
    "\"RISKACCESS\".\"XXMR_MADAB_CONTENT\".\"PERIOD\" = TO_DATE('{date}', 'DD/MM/YY')\n",
    "\"\"\"\n",
    "data_export = export_from_RISKCUSTOM(query)\n",
    "Data_currency = data_export[['COMMODITY_ID', 'VALUE1']]\n",
    "values_data = Data_currency.merge(data_CCY_map, how='left', left_on='COMMODITY_ID', right_on='id', validate='one_to_one')[['VALUE1','CCY_from', 'CCY_to']] # Может возникнуть ошибка, если значений будет больше\n",
    "values_data.query('CCY_to == \"USD\"')\n",
    "values_data.query('CCY_from == \"USD\"')\n",
    "\n",
    "'USD' in values_data.CCY_from.tolist()"
   ]
  }
 ],
 "metadata": {
  "kernelspec": {
   "display_name": "base",
   "language": "python",
   "name": "python3"
  },
  "language_info": {
   "codemirror_mode": {
    "name": "ipython",
    "version": 3
   },
   "file_extension": ".py",
   "mimetype": "text/x-python",
   "name": "python",
   "nbconvert_exporter": "python",
   "pygments_lexer": "ipython3",
   "version": "3.11.5"
  },
  "orig_nbformat": 4
 },
 "nbformat": 4,
 "nbformat_minor": 2
}
