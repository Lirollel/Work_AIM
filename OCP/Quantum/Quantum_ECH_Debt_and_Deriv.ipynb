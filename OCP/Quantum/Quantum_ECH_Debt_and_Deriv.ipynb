{
 "cells": [
  {
   "cell_type": "code",
   "execution_count": 12,
   "metadata": {},
   "outputs": [],
   "source": [
    "CNY_USD = 0.1389\n",
    "RUB_USD = 0.010309087\n",
    "CAD_USD = 0.74\n",
    "\n",
    "Today = '29.02.2024'\n",
    "Mounth = 'Feb'\n",
    "\n",
    "Group = 'EuroChem'\n",
    "# Group = 'SUEK'"
   ]
  },
  {
   "cell_type": "code",
   "execution_count": 13,
   "metadata": {},
   "outputs": [
    {
     "data": {
      "text/plain": [
       "'2024-03-21_EuroChem_quantum_Debt_Feb.xlsx'"
      ]
     },
     "execution_count": 13,
     "metadata": {},
     "output_type": "execute_result"
    }
   ],
   "source": [
    "# import os\n",
    "# files_list = os.listdir('.')\n",
    "# work_files_list = [x for x in files_list if ('.xlsx' in x and '~' not in x and 'BD' in x and Mounth in x)]\n",
    "# Data_Debt = [x for x in work_files_list if 'Debt' in x][0]\n",
    "# Data_Forwards = [x for x in work_files_list if 'Forwards' in x][0]\n",
    "# Data_Swaps = [x for x in work_files_list if 'Swaps' in x][0]\n",
    "# Sheet_in_data_file = 'Export Worksheet'\n",
    "\n",
    "from datetime import date\n",
    "Output_Debt = \"_\".join([str(date.today()), Group, 'quantum', 'Debt', f'{Mounth}.xlsx'])\n",
    "Output_Deriv = \"_\".join([str(date.today()), Group, 'quantum', 'Deriv', f'{Mounth}.xlsx'])\n",
    "Sheet_in_output_Deriv = 'Deriv'\n",
    "Sheet_in_output_Debt = 'Debt'\n",
    "\n",
    "Output_Debt"
   ]
  },
  {
   "cell_type": "code",
   "execution_count": 2,
   "metadata": {},
   "outputs": [],
   "source": [
    "import oracledb\n",
    "import pandas as pd\n",
    "\n",
    "oracledb.init_oracle_client('C:\\\\Users\\\\KlimovaAnnaA\\\\Documents\\\\MyFiles\\\\Oracle\\\\instantclient_21_13')\n",
    "\n",
    "connection = oracledb.connect(user=\"RISKCUSTOM\", password=\"xxRiscRccess174!\", host=\"exatest2-scan.moscow.eurochem.ru\", port=1521, service_name='riskdev.moscow.eurochem.ru', disable_oob= True)"
   ]
  },
  {
   "cell_type": "code",
   "execution_count": 29,
   "metadata": {},
   "outputs": [
    {
     "name": "stderr",
     "output_type": "stream",
     "text": [
      "C:\\Users\\KlimovaAnnaA\\AppData\\Local\\Temp\\ipykernel_10388\\3057460188.py:2: UserWarning: pandas only supports SQLAlchemy connectable (engine/connection) or database string URI or sqlite3 DBAPI2 connection. Other DBAPI2 objects are not tested. Please consider using SQLAlchemy.\n",
      "  data_Debt_export = pd.read_sql(query, con=connection)\n"
     ]
    },
    {
     "data": {
      "text/plain": [
       "(118646, 73)"
      ]
     },
     "execution_count": 29,
     "metadata": {},
     "output_type": "execute_result"
    }
   ],
   "source": [
    "query = \"\"\"select * from \"RISKACCESS\".\"quantumDebt\" where \"reportDate\" = TO_DATE('29/02/24', 'DD/MM/YY')\"\"\"\n",
    "data_Debt_export = pd.read_sql(query, con=connection)\n",
    "data_Debt_export.shape"
   ]
  },
  {
   "cell_type": "code",
   "execution_count": 15,
   "metadata": {},
   "outputs": [],
   "source": [
    "import sys\n",
    "sys.path.append(\"C:\\\\Users\\\\KlimovaAnnaA\\\\Documents\\\\MyFiles\\\\Projects\\\\OCP\")\n",
    "from Defs import merge_SalesUnits\n",
    "from Defs import merge_Mapping\n",
    "from Defs import Period"
   ]
  },
  {
   "cell_type": "markdown",
   "metadata": {},
   "source": [
    "Фильтрация данных"
   ]
  },
  {
   "cell_type": "code",
   "execution_count": 16,
   "metadata": {},
   "outputs": [],
   "source": [
    "max_data = data_Debt_export.effectiveFrom.max() # Присваивание переменной значения мин даты в столбце effectiveFrom\n",
    "data_Debt_work = data_Debt_export.query('holding == @Group & effectiveFrom == @max_data').reset_index(drop=True) # Фильтрация данных по столбцу holding (переменная Group) и effectiveFrom\n",
    "\n",
    "data_Debt_work = data_Debt_work[~data_Debt_work.entity.isna()]\n",
    "data_Debt_work.entity = data_Debt_work.entity.replace({'RUBND': 'RUSBO'})\n",
    "data_Debt_work['Entity_group'] = merge_SalesUnits(data_Debt_work, col='entity', merge_col='ocpSegment').fillna('External')"
   ]
  },
  {
   "cell_type": "markdown",
   "metadata": {},
   "source": [
    "Выполнение цикла для рассчета amount, amountUSD и присваивания значения counterparty для каждого DealSet"
   ]
  },
  {
   "cell_type": "code",
   "execution_count": 17,
   "metadata": {},
   "outputs": [],
   "source": [
    "deals_data = data_Debt_work[['entity', 'Entity_group', 'counterparty','amount', 'amountUSD', 'instrumentOwner', 'dealSet']] # Выбор нужного разреза данных\n",
    "deals_data_Bonds = deals_data[deals_data.dealSet.str.contains('Bond')] # Фильтрация разреза по значениям в DealSet, которые содержат слово Bond\n",
    "\n",
    "Bonds_list = deals_data_Bonds.dealSet.unique()\n",
    "\n",
    "for Bond in Bonds_list:\n",
    "    try:\n",
    "        Bond_data = deals_data_Bonds.query('dealSet ==@Bond') # Отбор данных одного Bond\n",
    "        assert len(Bond_data[Bond_data.instrumentOwner == 'EC_ISSUED_BONDS']) != 0\n",
    "\n",
    "        for column in Bond_data[['amount', 'amountUSD']]:\n",
    "            Traded_data_sum = Bond_data.query('instrumentOwner ==\"EC_TRADED_BONDS\"')[column].sum()\n",
    "            Issued_data = Bond_data.query('instrumentOwner ==\"EC_ISSUED_BONDS\"')[column]\n",
    "            # Внесение нового значения amount в issued bonds\n",
    "            Bond_data.loc[Bond_data['instrumentOwner'] ==\"EC_ISSUED_BONDS\", column] = Traded_data_sum + Issued_data \n",
    "        # Внесение нового значения counterparty в traded bonds\n",
    "        Issied_data_entity = Bond_data.query('instrumentOwner ==\"EC_ISSUED_BONDS\"').entity.squeeze()\n",
    "        Bond_data.loc[Bond_data['instrumentOwner'] ==\"EC_TRADED_BONDS\", 'counterparty'] = Issied_data_entity\n",
    "        deals_data_Bonds.loc[deals_data_Bonds['dealSet'] == Bond] = Bond_data\n",
    "    except:\n",
    "        continue\n",
    "\n",
    "deals_data.loc[deals_data.dealSet.str.contains('Bond')] = deals_data_Bonds\n",
    "data_Debt_work[['entity', 'Entity_group', 'counterparty','amount', 'amountUSD', 'instrumentOwner', 'dealSet']] = deals_data\n",
    "# Запись выполненного цикла в в основные данные"
   ]
  },
  {
   "cell_type": "code",
   "execution_count": 25,
   "metadata": {},
   "outputs": [
    {
     "data": {
      "text/html": [
       "<div>\n",
       "<style scoped>\n",
       "    .dataframe tbody tr th:only-of-type {\n",
       "        vertical-align: middle;\n",
       "    }\n",
       "\n",
       "    .dataframe tbody tr th {\n",
       "        vertical-align: top;\n",
       "    }\n",
       "\n",
       "    .dataframe thead th {\n",
       "        text-align: right;\n",
       "    }\n",
       "</style>\n",
       "<table border=\"1\" class=\"dataframe\">\n",
       "  <thead>\n",
       "    <tr style=\"text-align: right;\">\n",
       "      <th></th>\n",
       "      <th>entity</th>\n",
       "      <th>Entity_group</th>\n",
       "      <th>counterparty</th>\n",
       "      <th>amount</th>\n",
       "      <th>amountUSD</th>\n",
       "      <th>instrumentOwner</th>\n",
       "      <th>dealSet</th>\n",
       "    </tr>\n",
       "  </thead>\n",
       "  <tbody>\n",
       "    <tr>\n",
       "      <th>52</th>\n",
       "      <td>RUEMO</td>\n",
       "      <td>RUFERT</td>\n",
       "      <td>NSD RU (EC)</td>\n",
       "      <td>-1.000000e+10</td>\n",
       "      <td>-1.088504e+08</td>\n",
       "      <td>EC_ISSUED_BONDS</td>\n",
       "      <td>MCC RuBond 07 2020-04 R10b</td>\n",
       "    </tr>\n",
       "  </tbody>\n",
       "</table>\n",
       "</div>"
      ],
      "text/plain": [
       "   entity Entity_group counterparty        amount     amountUSD  \\\n",
       "52  RUEMO       RUFERT  NSD RU (EC) -1.000000e+10 -1.088504e+08   \n",
       "\n",
       "    instrumentOwner                     dealSet  \n",
       "52  EC_ISSUED_BONDS  MCC RuBond 07 2020-04 R10b  "
      ]
     },
     "execution_count": 25,
     "metadata": {},
     "output_type": "execute_result"
    }
   ],
   "source": [
    "check = data_Debt_work[['entity', 'Entity_group', 'counterparty','amount', 'amountUSD', 'instrumentOwner', 'dealSet']]\n",
    "check = check[check.instrumentOwner.str.contains('BONDS')].reset_index(drop=True)\n",
    "check[check.dealSet == check.dealSet.unique().tolist()[4]]"
   ]
  },
  {
   "cell_type": "code",
   "execution_count": 26,
   "metadata": {},
   "outputs": [
    {
     "name": "stderr",
     "output_type": "stream",
     "text": [
      "C:\\Users\\KlimovaAnnaA\\Documents\\MyFiles\\Projects\\OCP\\Defs.py:41: UserWarning: Parsing dates in %d.%m.%Y format when dayfirst=False (the default) was specified. Pass `dayfirst=True` or specify a format to silence this warning.\n",
      "  day = pd.to_datetime(day_for_count)\n",
      "C:\\Users\\KlimovaAnnaA\\AppData\\Local\\Temp\\ipykernel_10388\\802095099.py:3: UserWarning: This pattern is interpreted as a regular expression, and has match groups. To actually get the groups, use str.extract.\n",
      "  data_Debt_work.loc[data_Debt_work.counterparty.str.contains('(EC)'), 'counterparty'] = data_Debt_work.loc[data_Debt_work.counterparty.str.contains('(EC)'), 'counterparty'].str[:-5]\n"
     ]
    }
   ],
   "source": [
    "data_Debt_work = Period(data_Debt_work, day_for_count=Today, col_with_date='actionDate').reset_index(drop=True)\n",
    "\n",
    "data_Debt_work.loc[data_Debt_work.counterparty.str.contains('(EC)'), 'counterparty'] = data_Debt_work.loc[data_Debt_work.counterparty.str.contains('(EC)'), 'counterparty'].str[:-5] \n",
    "# Обрезка \" (EC)\" в каждой строке\n",
    "\n",
    "data_Debt_work = data_Debt_work[~data_Debt_work.counterparty.isna()]\n",
    "data_Debt_work['CompCode'] = merge_Mapping(data_Debt_work, col='counterparty').fillna('External')\n",
    "data_Debt_work['Counterparty_Group'] = merge_SalesUnits(data_Debt_work, col='CompCode', merge_col='ocpSegment').fillna('External')\n",
    "# Merge counterparty с Mapping и SalesUnits"
   ]
  },
  {
   "cell_type": "code",
   "execution_count": 27,
   "metadata": {},
   "outputs": [
    {
     "data": {
      "text/html": [
       "<div>\n",
       "<style scoped>\n",
       "    .dataframe tbody tr th:only-of-type {\n",
       "        vertical-align: middle;\n",
       "    }\n",
       "\n",
       "    .dataframe tbody tr th {\n",
       "        vertical-align: top;\n",
       "    }\n",
       "\n",
       "    .dataframe thead th {\n",
       "        text-align: right;\n",
       "    }\n",
       "</style>\n",
       "<table border=\"1\" class=\"dataframe\">\n",
       "  <thead>\n",
       "    <tr style=\"text-align: right;\">\n",
       "      <th></th>\n",
       "      <th>counterparty</th>\n",
       "      <th>CompCode</th>\n",
       "      <th>Counterparty_Group</th>\n",
       "      <th>entity</th>\n",
       "      <th>Entity_group</th>\n",
       "    </tr>\n",
       "  </thead>\n",
       "  <tbody>\n",
       "  </tbody>\n",
       "</table>\n",
       "</div>"
      ],
      "text/plain": [
       "Empty DataFrame\n",
       "Columns: [counterparty, CompCode, Counterparty_Group, entity, Entity_group]\n",
       "Index: []"
      ]
     },
     "execution_count": 27,
     "metadata": {},
     "output_type": "execute_result"
    }
   ],
   "source": [
    "manual_map = data_Debt_work.loc[(data_Debt_work['cpartyType'] == 'Internal') & (data_Debt_work['CompCode'] == 'External'), ['counterparty', 'CompCode', 'Counterparty_Group']].drop_duplicates()\n",
    "manual_map\n",
    "\n",
    "manual_map2 = data_Debt_work.loc[data_Debt_work['Entity_group'] == 'External', ['entity', 'Entity_group']]\n",
    "manual_map2\n",
    "\n",
    "manual_map_print = pd.concat([manual_map, manual_map2], axis=1)\n",
    "manual_map_print\n",
    "# manual_map_print.to_excel('Manual_map.xlsx', index=False)"
   ]
  },
  {
   "cell_type": "code",
   "execution_count": 9,
   "metadata": {},
   "outputs": [],
   "source": [
    "# data_Debt_export.to_excel(Output_Debt, sheet_name = Sheet_in_output_Debt, index = False)\n",
    "# Полные данные для проверки качества выполнения кода"
   ]
  },
  {
   "cell_type": "markdown",
   "metadata": {},
   "source": [
    "Запись данных в файл Excel"
   ]
  },
  {
   "cell_type": "code",
   "execution_count": 28,
   "metadata": {},
   "outputs": [],
   "source": [
    "data_Debt_work['Source'] = 'Quantum'\n",
    "\n",
    "data_Debt_export_for_print = data_Debt_work[['entity', 'Entity_group','counterparty',\\\n",
    "                                               'Counterparty_Group','amount','eventCurrency','amountUSD','actionDate','Days',\\\n",
    "                                                'Period','dealClass1','dealClass2','instrumentOwner','dealSet','facility','Source']]\n",
    "# Отбор нужных столбцов\n",
    "\n",
    "data_Debt_export_for_print = data_Debt_export_for_print.rename(columns={'amount': 'amoutn outstanding',\\\n",
    "                                                                        'eventCurrency': 'Currency',\\\n",
    "                                                                        'amountUSD': 'amount USD eq',\\\n",
    "                                                                        'actionDate': 'termEnd'})\n",
    "# Переименование столбцов\n",
    "\n",
    "data_Debt_export_for_print.to_excel(Output_Debt, sheet_name = Sheet_in_output_Debt, index = False)\n",
    "# Запись в файл"
   ]
  },
  {
   "cell_type": "markdown",
   "metadata": {},
   "source": [
    "Работа с Forwards и Swaps:"
   ]
  },
  {
   "cell_type": "code",
   "execution_count": 4,
   "metadata": {},
   "outputs": [
    {
     "name": "stderr",
     "output_type": "stream",
     "text": [
      "c:\\Users\\KlimovaAnnaA\\AppData\\Local\\miniconda3\\Lib\\site-packages\\openpyxl\\styles\\stylesheet.py:226: UserWarning: Workbook contains no default style, apply openpyxl's default\n",
      "  warn(\"Workbook contains no default style, apply openpyxl's default\")\n",
      "c:\\Users\\KlimovaAnnaA\\AppData\\Local\\miniconda3\\Lib\\site-packages\\openpyxl\\styles\\stylesheet.py:226: UserWarning: Workbook contains no default style, apply openpyxl's default\n",
      "  warn(\"Workbook contains no default style, apply openpyxl's default\")\n"
     ]
    }
   ],
   "source": [
    "data_Forwards_export = pd.read_excel(Data_Forwards, sheet_name = Sheet_in_data_file)\n",
    "data_Swaps_export = pd.read_excel(Data_Swaps, sheet_name = Sheet_in_data_file)"
   ]
  },
  {
   "cell_type": "code",
   "execution_count": 70,
   "metadata": {},
   "outputs": [],
   "source": [
    "data_Forwards_export['holdingEntity'] = data_Forwards_export['holdingEntity'].replace({'XXTSU': 'SUEK'})\n",
    "data_Forwards_export = data_Forwards_export[data_Forwards_export['holdingEntity'] == Group].reset_index(drop=True)\n",
    "data_Swaps_export['holdingEntity'] = data_Swaps_export['holdingEntity'].replace({'XXTSU': 'SUEK'})\n",
    "data_Swaps_export = data_Swaps_export[data_Swaps_export['holdingEntity'] == Group].reset_index(drop=True)\n",
    "# Знамена значений в стодбце holdingEntity и фильтр по Group"
   ]
  },
  {
   "cell_type": "markdown",
   "metadata": {},
   "source": [
    "Проверка вхождений dealNo в Debt и остановка процесса в случае отсутвия данных:"
   ]
  },
  {
   "cell_type": "code",
   "execution_count": 71,
   "metadata": {},
   "outputs": [],
   "source": [
    "Swap_dealNo_for_del_list = list(set(data_Swaps_export['dealNo']).intersection(set(data_Debt_export['dealNo'])))\n",
    "Forward_dealNo_for_del_list = list(set(data_Forwards_export['dealNo']).intersection(set(data_Debt_export['dealNo'])))\n",
    "\n",
    "data_Swaps_export = data_Swaps_export[~(data_Swaps_export.dealNo.isin(Swap_dealNo_for_del_list))]\n",
    "data_Forwards_export = data_Forwards_export[~(data_Forwards_export.dealNo.isin(Forward_dealNo_for_del_list))]\n",
    "\n",
    "assert ((len(data_Swaps_export) == 0) and (len(data_Forwards_export) == 0)) == False"
   ]
  },
  {
   "cell_type": "code",
   "execution_count": 75,
   "metadata": {},
   "outputs": [
    {
     "name": "stderr",
     "output_type": "stream",
     "text": [
      "C:\\Users\\KlimovaAnnaA\\AppData\\Local\\Temp\\ipykernel_9520\\659122996.py:5: SettingWithCopyWarning: \n",
      "A value is trying to be set on a copy of a slice from a DataFrame\n",
      "\n",
      "See the caveats in the documentation: https://pandas.pydata.org/pandas-docs/stable/user_guide/indexing.html#returning-a-view-versus-a-copy\n",
      "  Data_for_loop.loc[len(Data_for_loop)] = row_list[:4] + row_list[6:8] + row_list[6:]\n",
      "C:\\Users\\KlimovaAnnaA\\AppData\\Local\\Temp\\ipykernel_9520\\659122996.py:5: SettingWithCopyWarning: \n",
      "A value is trying to be set on a copy of a slice from a DataFrame\n",
      "\n",
      "See the caveats in the documentation: https://pandas.pydata.org/pandas-docs/stable/user_guide/indexing.html#returning-a-view-versus-a-copy\n",
      "  Data_for_loop.loc[len(Data_for_loop)] = row_list[:4] + row_list[6:8] + row_list[6:]\n",
      "C:\\Users\\KlimovaAnnaA\\AppData\\Local\\Temp\\ipykernel_9520\\659122996.py:5: SettingWithCopyWarning: \n",
      "A value is trying to be set on a copy of a slice from a DataFrame\n",
      "\n",
      "See the caveats in the documentation: https://pandas.pydata.org/pandas-docs/stable/user_guide/indexing.html#returning-a-view-versus-a-copy\n",
      "  Data_for_loop.loc[len(Data_for_loop)] = row_list[:4] + row_list[6:8] + row_list[6:]\n",
      "C:\\Users\\KlimovaAnnaA\\AppData\\Local\\Temp\\ipykernel_9520\\659122996.py:5: SettingWithCopyWarning: \n",
      "A value is trying to be set on a copy of a slice from a DataFrame\n",
      "\n",
      "See the caveats in the documentation: https://pandas.pydata.org/pandas-docs/stable/user_guide/indexing.html#returning-a-view-versus-a-copy\n",
      "  Data_for_loop.loc[len(Data_for_loop)] = row_list[:4] + row_list[6:8] + row_list[6:]\n",
      "C:\\Users\\KlimovaAnnaA\\AppData\\Local\\Temp\\ipykernel_9520\\659122996.py:5: SettingWithCopyWarning: \n",
      "A value is trying to be set on a copy of a slice from a DataFrame\n",
      "\n",
      "See the caveats in the documentation: https://pandas.pydata.org/pandas-docs/stable/user_guide/indexing.html#returning-a-view-versus-a-copy\n",
      "  Data_for_loop.loc[len(Data_for_loop)] = row_list[:4] + row_list[6:8] + row_list[6:]\n",
      "C:\\Users\\KlimovaAnnaA\\AppData\\Local\\Temp\\ipykernel_9520\\659122996.py:5: SettingWithCopyWarning: \n",
      "A value is trying to be set on a copy of a slice from a DataFrame\n",
      "\n",
      "See the caveats in the documentation: https://pandas.pydata.org/pandas-docs/stable/user_guide/indexing.html#returning-a-view-versus-a-copy\n",
      "  Data_for_loop.loc[len(Data_for_loop)] = row_list[:4] + row_list[6:8] + row_list[6:]\n",
      "C:\\Users\\KlimovaAnnaA\\AppData\\Local\\Temp\\ipykernel_9520\\659122996.py:5: SettingWithCopyWarning: \n",
      "A value is trying to be set on a copy of a slice from a DataFrame\n",
      "\n",
      "See the caveats in the documentation: https://pandas.pydata.org/pandas-docs/stable/user_guide/indexing.html#returning-a-view-versus-a-copy\n",
      "  Data_for_loop.loc[len(Data_for_loop)] = row_list[:4] + row_list[6:8] + row_list[6:]\n",
      "C:\\Users\\KlimovaAnnaA\\AppData\\Local\\Temp\\ipykernel_9520\\659122996.py:5: SettingWithCopyWarning: \n",
      "A value is trying to be set on a copy of a slice from a DataFrame\n",
      "\n",
      "See the caveats in the documentation: https://pandas.pydata.org/pandas-docs/stable/user_guide/indexing.html#returning-a-view-versus-a-copy\n",
      "  Data_for_loop.loc[len(Data_for_loop)] = row_list[:4] + row_list[6:8] + row_list[6:]\n",
      "C:\\Users\\KlimovaAnnaA\\AppData\\Local\\Temp\\ipykernel_9520\\659122996.py:5: SettingWithCopyWarning: \n",
      "A value is trying to be set on a copy of a slice from a DataFrame\n",
      "\n",
      "See the caveats in the documentation: https://pandas.pydata.org/pandas-docs/stable/user_guide/indexing.html#returning-a-view-versus-a-copy\n",
      "  Data_for_loop.loc[len(Data_for_loop)] = row_list[:4] + row_list[6:8] + row_list[6:]\n",
      "C:\\Users\\KlimovaAnnaA\\AppData\\Local\\Temp\\ipykernel_9520\\659122996.py:5: SettingWithCopyWarning: \n",
      "A value is trying to be set on a copy of a slice from a DataFrame\n",
      "\n",
      "See the caveats in the documentation: https://pandas.pydata.org/pandas-docs/stable/user_guide/indexing.html#returning-a-view-versus-a-copy\n",
      "  Data_for_loop.loc[len(Data_for_loop)] = row_list[:4] + row_list[6:8] + row_list[6:]\n",
      "C:\\Users\\KlimovaAnnaA\\AppData\\Local\\Temp\\ipykernel_9520\\659122996.py:5: SettingWithCopyWarning: \n",
      "A value is trying to be set on a copy of a slice from a DataFrame\n",
      "\n",
      "See the caveats in the documentation: https://pandas.pydata.org/pandas-docs/stable/user_guide/indexing.html#returning-a-view-versus-a-copy\n",
      "  Data_for_loop.loc[len(Data_for_loop)] = row_list[:4] + row_list[6:8] + row_list[6:]\n",
      "C:\\Users\\KlimovaAnnaA\\AppData\\Local\\Temp\\ipykernel_9520\\659122996.py:5: SettingWithCopyWarning: \n",
      "A value is trying to be set on a copy of a slice from a DataFrame\n",
      "\n",
      "See the caveats in the documentation: https://pandas.pydata.org/pandas-docs/stable/user_guide/indexing.html#returning-a-view-versus-a-copy\n",
      "  Data_for_loop.loc[len(Data_for_loop)] = row_list[:4] + row_list[6:8] + row_list[6:]\n",
      "C:\\Users\\KlimovaAnnaA\\AppData\\Local\\Temp\\ipykernel_9520\\659122996.py:5: SettingWithCopyWarning: \n",
      "A value is trying to be set on a copy of a slice from a DataFrame\n",
      "\n",
      "See the caveats in the documentation: https://pandas.pydata.org/pandas-docs/stable/user_guide/indexing.html#returning-a-view-versus-a-copy\n",
      "  Data_for_loop.loc[len(Data_for_loop)] = row_list[:4] + row_list[6:8] + row_list[6:]\n",
      "C:\\Users\\KlimovaAnnaA\\AppData\\Local\\Temp\\ipykernel_9520\\659122996.py:5: SettingWithCopyWarning: \n",
      "A value is trying to be set on a copy of a slice from a DataFrame\n",
      "\n",
      "See the caveats in the documentation: https://pandas.pydata.org/pandas-docs/stable/user_guide/indexing.html#returning-a-view-versus-a-copy\n",
      "  Data_for_loop.loc[len(Data_for_loop)] = row_list[:4] + row_list[6:8] + row_list[6:]\n",
      "C:\\Users\\KlimovaAnnaA\\AppData\\Local\\Temp\\ipykernel_9520\\659122996.py:5: SettingWithCopyWarning: \n",
      "A value is trying to be set on a copy of a slice from a DataFrame\n",
      "\n",
      "See the caveats in the documentation: https://pandas.pydata.org/pandas-docs/stable/user_guide/indexing.html#returning-a-view-versus-a-copy\n",
      "  Data_for_loop.loc[len(Data_for_loop)] = row_list[:4] + row_list[6:8] + row_list[6:]\n",
      "C:\\Users\\KlimovaAnnaA\\AppData\\Local\\Temp\\ipykernel_9520\\659122996.py:5: SettingWithCopyWarning: \n",
      "A value is trying to be set on a copy of a slice from a DataFrame\n",
      "\n",
      "See the caveats in the documentation: https://pandas.pydata.org/pandas-docs/stable/user_guide/indexing.html#returning-a-view-versus-a-copy\n",
      "  Data_for_loop.loc[len(Data_for_loop)] = row_list[:4] + row_list[6:8] + row_list[6:]\n",
      "C:\\Users\\KlimovaAnnaA\\AppData\\Local\\Temp\\ipykernel_9520\\659122996.py:5: SettingWithCopyWarning: \n",
      "A value is trying to be set on a copy of a slice from a DataFrame\n",
      "\n",
      "See the caveats in the documentation: https://pandas.pydata.org/pandas-docs/stable/user_guide/indexing.html#returning-a-view-versus-a-copy\n",
      "  Data_for_loop.loc[len(Data_for_loop)] = row_list[:4] + row_list[6:8] + row_list[6:]\n",
      "C:\\Users\\KlimovaAnnaA\\AppData\\Local\\Temp\\ipykernel_9520\\659122996.py:5: SettingWithCopyWarning: \n",
      "A value is trying to be set on a copy of a slice from a DataFrame\n",
      "\n",
      "See the caveats in the documentation: https://pandas.pydata.org/pandas-docs/stable/user_guide/indexing.html#returning-a-view-versus-a-copy\n",
      "  Data_for_loop.loc[len(Data_for_loop)] = row_list[:4] + row_list[6:8] + row_list[6:]\n",
      "C:\\Users\\KlimovaAnnaA\\AppData\\Local\\Temp\\ipykernel_9520\\659122996.py:5: SettingWithCopyWarning: \n",
      "A value is trying to be set on a copy of a slice from a DataFrame\n",
      "\n",
      "See the caveats in the documentation: https://pandas.pydata.org/pandas-docs/stable/user_guide/indexing.html#returning-a-view-versus-a-copy\n",
      "  Data_for_loop.loc[len(Data_for_loop)] = row_list[:4] + row_list[6:8] + row_list[6:]\n",
      "C:\\Users\\KlimovaAnnaA\\AppData\\Local\\Temp\\ipykernel_9520\\659122996.py:5: SettingWithCopyWarning: \n",
      "A value is trying to be set on a copy of a slice from a DataFrame\n",
      "\n",
      "See the caveats in the documentation: https://pandas.pydata.org/pandas-docs/stable/user_guide/indexing.html#returning-a-view-versus-a-copy\n",
      "  Data_for_loop.loc[len(Data_for_loop)] = row_list[:4] + row_list[6:8] + row_list[6:]\n",
      "C:\\Users\\KlimovaAnnaA\\AppData\\Local\\Temp\\ipykernel_9520\\659122996.py:5: SettingWithCopyWarning: \n",
      "A value is trying to be set on a copy of a slice from a DataFrame\n",
      "\n",
      "See the caveats in the documentation: https://pandas.pydata.org/pandas-docs/stable/user_guide/indexing.html#returning-a-view-versus-a-copy\n",
      "  Data_for_loop.loc[len(Data_for_loop)] = row_list[:4] + row_list[6:8] + row_list[6:]\n",
      "C:\\Users\\KlimovaAnnaA\\AppData\\Local\\Temp\\ipykernel_9520\\659122996.py:5: SettingWithCopyWarning: \n",
      "A value is trying to be set on a copy of a slice from a DataFrame\n",
      "\n",
      "See the caveats in the documentation: https://pandas.pydata.org/pandas-docs/stable/user_guide/indexing.html#returning-a-view-versus-a-copy\n",
      "  Data_for_loop.loc[len(Data_for_loop)] = row_list[:4] + row_list[6:8] + row_list[6:]\n",
      "C:\\Users\\KlimovaAnnaA\\AppData\\Local\\Temp\\ipykernel_9520\\659122996.py:5: SettingWithCopyWarning: \n",
      "A value is trying to be set on a copy of a slice from a DataFrame\n",
      "\n",
      "See the caveats in the documentation: https://pandas.pydata.org/pandas-docs/stable/user_guide/indexing.html#returning-a-view-versus-a-copy\n",
      "  Data_for_loop.loc[len(Data_for_loop)] = row_list[:4] + row_list[6:8] + row_list[6:]\n",
      "C:\\Users\\KlimovaAnnaA\\AppData\\Local\\Temp\\ipykernel_9520\\659122996.py:5: SettingWithCopyWarning: \n",
      "A value is trying to be set on a copy of a slice from a DataFrame\n",
      "\n",
      "See the caveats in the documentation: https://pandas.pydata.org/pandas-docs/stable/user_guide/indexing.html#returning-a-view-versus-a-copy\n",
      "  Data_for_loop.loc[len(Data_for_loop)] = row_list[:4] + row_list[6:8] + row_list[6:]\n",
      "C:\\Users\\KlimovaAnnaA\\AppData\\Local\\Temp\\ipykernel_9520\\659122996.py:5: SettingWithCopyWarning: \n",
      "A value is trying to be set on a copy of a slice from a DataFrame\n",
      "\n",
      "See the caveats in the documentation: https://pandas.pydata.org/pandas-docs/stable/user_guide/indexing.html#returning-a-view-versus-a-copy\n",
      "  Data_for_loop.loc[len(Data_for_loop)] = row_list[:4] + row_list[6:8] + row_list[6:]\n",
      "C:\\Users\\KlimovaAnnaA\\AppData\\Local\\Temp\\ipykernel_9520\\659122996.py:5: SettingWithCopyWarning: \n",
      "A value is trying to be set on a copy of a slice from a DataFrame\n",
      "\n",
      "See the caveats in the documentation: https://pandas.pydata.org/pandas-docs/stable/user_guide/indexing.html#returning-a-view-versus-a-copy\n",
      "  Data_for_loop.loc[len(Data_for_loop)] = row_list[:4] + row_list[6:8] + row_list[6:]\n",
      "C:\\Users\\KlimovaAnnaA\\AppData\\Local\\Temp\\ipykernel_9520\\659122996.py:5: SettingWithCopyWarning: \n",
      "A value is trying to be set on a copy of a slice from a DataFrame\n",
      "\n",
      "See the caveats in the documentation: https://pandas.pydata.org/pandas-docs/stable/user_guide/indexing.html#returning-a-view-versus-a-copy\n",
      "  Data_for_loop.loc[len(Data_for_loop)] = row_list[:4] + row_list[6:8] + row_list[6:]\n",
      "C:\\Users\\KlimovaAnnaA\\Documents\\MyFiles\\Projects\\OCP\\Defs.py:44: UserWarning: Parsing dates in %d.%m.%Y format when dayfirst=False (the default) was specified. Pass `dayfirst=True` or specify a format to silence this warning.\n",
      "  \n",
      "C:\\Users\\KlimovaAnnaA\\AppData\\Local\\Temp\\ipykernel_9520\\659122996.py:23: FutureWarning: Setting an item of incompatible dtype is deprecated and will raise an error in a future version of pandas. Value '527571.01' has dtype incompatible with int64, please explicitly cast to a compatible dtype first.\n",
      "  Data_for_loop.loc[i, 'USD_equiv'] = Data_for_loop.loc[i, 'payFaceValue']\n"
     ]
    }
   ],
   "source": [
    "Data_for_loop = data_Forwards_export[['entity','holdingEntity','counterparty','dealNo', 'payFaceValue', 'payFXCurrency', 'recFaceValue', 'recFXCurrency', 'maturityDate']]\n",
    "\n",
    "for i in range(0, len(Data_for_loop)):\n",
    "    row_list = list(Data_for_loop.loc[i])\n",
    "    Data_for_loop.loc[len(Data_for_loop)] = row_list[:4] + row_list[6:8] + row_list[6:]\n",
    "    Data_for_loop.loc[i,'payFaceValue'] = Data_for_loop.loc[i,'payFaceValue'] * -1\n",
    "Data_for_loop = Data_for_loop.sort_values('dealNo')\n",
    "# цикл создания новых строк\n",
    "\n",
    "Data_for_loop['Entity_group'] = merge_SalesUnits(Data_for_loop, col='entity', merge_col='ocpSegment').fillna('External')\n",
    "# Merge столбца entity по mapping\n",
    "\n",
    "Data_for_loop = Period(Data_for_loop, col_with_date='maturityDate', day_for_count=Today)\n",
    "# Создание Days и Period\n",
    "\n",
    "Data_for_loop['USD_equiv'] = 0\n",
    "for i in range (0,len(Data_for_loop)):\n",
    "    if Data_for_loop.loc[i, 'payFXCurrency'] == 'CNY':\n",
    "        Data_for_loop.loc[i, 'USD_equiv'] = Data_for_loop.loc[i, 'payFaceValue'] * CNY_USD\n",
    "    elif Data_for_loop.loc[i, 'payFXCurrency'] == 'RUB':\n",
    "        Data_for_loop.loc[i, 'USD_equiv'] = Data_for_loop.loc[i, 'payFaceValue'] * RUB_USD\n",
    "    elif Data_for_loop.loc[i, 'payFXCurrency'] == 'USD':\n",
    "        Data_for_loop.loc[i, 'USD_equiv'] = Data_for_loop.loc[i, 'payFaceValue']\n",
    "    elif Data_for_loop.loc[i, 'payFXCurrency'] == 'CAD':\n",
    "        Data_for_loop.loc[i, 'USD_equiv'] = Data_for_loop.loc[i, 'payFaceValue'] * CAD_USD\n",
    "# создание USD_equiv\n",
    "\n",
    "new_columns = ['Company', 'Settlement', 'Notional Amount (USD)', 'Unnamed', 'source']\n",
    "Data_for_loop = Data_for_loop.reindex(columns=(Data_for_loop.columns.tolist() + new_columns))\n",
    "Data_for_loop['source'] = 'Quantum'\n",
    "# Создание пустых столбцов и столбца ресурса"
   ]
  },
  {
   "cell_type": "code",
   "execution_count": 76,
   "metadata": {},
   "outputs": [
    {
     "name": "stderr",
     "output_type": "stream",
     "text": [
      "C:\\Users\\KlimovaAnnaA\\Documents\\MyFiles\\Projects\\OCP\\Defs.py:44: UserWarning: Parsing dates in %d.%m.%Y format when dayfirst=False (the default) was specified. Pass `dayfirst=True` or specify a format to silence this warning.\n",
      "  \n"
     ]
    }
   ],
   "source": [
    "Data_for_loop_Swap = data_Swaps_export[['entity','holdingEntity','counterparty','dealNo', 'payFaceValue', 'payFXCurrency', 'recFaceValue', 'recFXCurrency', 'maturityDate']]\n",
    "\n",
    "for i in range(0, len(Data_for_loop_Swap)):\n",
    "    row_list = list(Data_for_loop_Swap.loc[i])\n",
    "    Data_for_loop_Swap.loc[len(Data_for_loop_Swap)] = row_list[:4] + row_list[6:8] + row_list[6:]\n",
    "    Data_for_loop_Swap.loc[i,'payFaceValue'] = Data_for_loop_Swap.loc[i,'payFaceValue'] * -1\n",
    "Data_for_loop_Swap = Data_for_loop_Swap.sort_values('dealNo')\n",
    "# цикл создания новых строк\n",
    "\n",
    "Data_for_loop_Swap['Entity_group'] = merge_SalesUnits(Data_for_loop_Swap, col='entity', merge_col='ocpSegment').fillna('External')\n",
    "# Merge столбца entity по mapping\n",
    "\n",
    "Data_for_loop_Swap = Period(Data_for_loop_Swap, day_for_count=Today, col_with_date='maturityDate')\n",
    "# Создание Days и Period\n",
    "\n",
    "Data_for_loop_Swap['USD_equiv'] = 0\n",
    "for i in range (0,len(Data_for_loop_Swap)):\n",
    "    if Data_for_loop_Swap.loc[i, 'payFXCurrency'] == 'CNY':\n",
    "        Data_for_loop_Swap.loc[i, 'USD_equiv'] = Data_for_loop_Swap.loc[i, 'payFaceValue'] * CNY_USD\n",
    "    elif Data_for_loop_Swap.loc[i, 'payFXCurrency'] == 'RUB':\n",
    "        Data_for_loop_Swap.loc[i, 'USD_equiv'] = Data_for_loop_Swap.loc[i, 'payFaceValue'] * RUB_USD\n",
    "    elif Data_for_loop_Swap.loc[i, 'payFXCurrency'] == 'USD':\n",
    "        Data_for_loop_Swap.loc[i, 'USD_equiv'] = Data_for_loop_Swap.loc[i, 'payFaceValue']\n",
    "# создание USD_equiv\n",
    "\n",
    "new_columns = ['Company', 'Settlement', 'Notional Amount (USD)', 'Unnamed', 'source']\n",
    "Data_for_loop_Swap = Data_for_loop_Swap.reindex(columns=(Data_for_loop_Swap.columns.tolist() + new_columns))\n",
    "Data_for_loop_Swap['source'] = 'Quantum'\n",
    "# Создание пустых столбцов и столбца ресурса"
   ]
  },
  {
   "cell_type": "code",
   "execution_count": 77,
   "metadata": {},
   "outputs": [],
   "source": [
    "data = Data_for_loop[['entity','Entity_group','holdingEntity','Company',\\\n",
    "                    'counterparty','dealNo','payFXCurrency','payFaceValue',\\\n",
    "                    'USD_equiv','Settlement','Notional Amount (USD)',\\\n",
    "                    'Unnamed','maturityDate','Days','Period','source']]\n",
    "\n",
    "data_Swap = Data_for_loop_Swap[['entity','Entity_group','holdingEntity','Company',\\\n",
    "                    'counterparty','dealNo','payFXCurrency','payFaceValue',\\\n",
    "                    'USD_equiv','Settlement','Notional Amount (USD)',\\\n",
    "                    'Unnamed','maturityDate','Days','Period','source']]\n",
    "# Выбор столбцов\n",
    "\n",
    "data_to_excel = pd.concat([data, data_Swap], axis=0)\n",
    "# Объединение таблиц вниз"
   ]
  },
  {
   "cell_type": "code",
   "execution_count": 78,
   "metadata": {},
   "outputs": [
    {
     "data": {
      "text/html": [
       "<div>\n",
       "<style scoped>\n",
       "    .dataframe tbody tr th:only-of-type {\n",
       "        vertical-align: middle;\n",
       "    }\n",
       "\n",
       "    .dataframe tbody tr th {\n",
       "        vertical-align: top;\n",
       "    }\n",
       "\n",
       "    .dataframe thead th {\n",
       "        text-align: right;\n",
       "    }\n",
       "</style>\n",
       "<table border=\"1\" class=\"dataframe\">\n",
       "  <thead>\n",
       "    <tr style=\"text-align: right;\">\n",
       "      <th></th>\n",
       "      <th>entity</th>\n",
       "      <th>Entity_group</th>\n",
       "      <th>holdingEntity</th>\n",
       "      <th>Company</th>\n",
       "      <th>counterparty</th>\n",
       "      <th>dealNo</th>\n",
       "      <th>payFXCurrency</th>\n",
       "      <th>payFaceValue</th>\n",
       "      <th>USD_equiv</th>\n",
       "      <th>Settlement</th>\n",
       "      <th>Notional Amount (USD)</th>\n",
       "      <th>Unnamed</th>\n",
       "      <th>maturityDate</th>\n",
       "      <th>Days</th>\n",
       "      <th>Period</th>\n",
       "      <th>source</th>\n",
       "    </tr>\n",
       "  </thead>\n",
       "  <tbody>\n",
       "  </tbody>\n",
       "</table>\n",
       "</div>"
      ],
      "text/plain": [
       "Empty DataFrame\n",
       "Columns: [entity, Entity_group, holdingEntity, Company, counterparty, dealNo, payFXCurrency, payFaceValue, USD_equiv, Settlement, Notional Amount (USD), Unnamed, maturityDate, Days, Period, source]\n",
       "Index: []"
      ]
     },
     "execution_count": 78,
     "metadata": {},
     "output_type": "execute_result"
    }
   ],
   "source": [
    "data_to_excel.loc[data_to_excel['Entity_group'] == 'External']"
   ]
  },
  {
   "cell_type": "code",
   "execution_count": 79,
   "metadata": {},
   "outputs": [],
   "source": [
    "data_to_excel.to_excel(Output_Deriv, sheet_name = Sheet_in_output_Deriv, index = False)\n",
    "# Запись в файл "
   ]
  }
 ],
 "metadata": {
  "kernelspec": {
   "display_name": "base",
   "language": "python",
   "name": "python3"
  },
  "language_info": {
   "codemirror_mode": {
    "name": "ipython",
    "version": 3
   },
   "file_extension": ".py",
   "mimetype": "text/x-python",
   "name": "python",
   "nbconvert_exporter": "python",
   "pygments_lexer": "ipython3",
   "version": "3.11.5"
  },
  "orig_nbformat": 4
 },
 "nbformat": 4,
 "nbformat_minor": 2
}
