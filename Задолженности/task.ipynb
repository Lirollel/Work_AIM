{
 "cells": [
  {
   "cell_type": "code",
   "execution_count": 1,
   "metadata": {},
   "outputs": [],
   "source": [
    "import pandas as pd\n",
    "import numpy as np\n",
    "\n",
    "from datetime import date\n",
    "Output_file = \"_\".join([str(date.today()), 'Country_AR.xlsx'])\n",
    "Sheet_in_output_file = 'Export Worksheet'"
   ]
  },
  {
   "cell_type": "code",
   "execution_count": 2,
   "metadata": {},
   "outputs": [],
   "source": [
    "data = pd.read_excel('2024_01_31.xlsx', sheet_name='Export Worksheet')"
   ]
  },
  {
   "cell_type": "code",
   "execution_count": 3,
   "metadata": {},
   "outputs": [],
   "source": [
    "past_data = pd.read_excel('Country_AR_31.07.2023.xlsx', sheet_name='Export Worksheet')\n",
    "country_merge_data = pd.read_excel('Country_AR_31.07.2023.xlsx', sheet_name='Overall AR')"
   ]
  },
  {
   "cell_type": "code",
   "execution_count": null,
   "metadata": {},
   "outputs": [],
   "source": [
    "data_work = data\n",
    "\n",
    "data_work['BU_country'] = np.NaN\n",
    "data_work.loc[data_work['holding'] == 'EUROCHEM', 'BU_country'] = data_work.loc[data_work['holding'] == 'EUROCHEM', 'companyCode'].str[:2]\n",
    "# Вычленение первых двух букв для страны в Еврохиме\n",
    "data_work['BU_country_full'] = data_work.merge(country_merge_data, left_on='BU_country', right_on='EuroChem', how='left')['Unnamed: 0']\n",
    "# Merge стран для Еврохима\n",
    "\n",
    "data_work.loc[\\\n",
    "    ((data_work['holding'] == 'SUEK') & \\\n",
    "     (()data_work['orgName'].str.contains('\"') | (data_work['orgName'].str.contains('ООО')))), \\\n",
    "        'BU_country'] = 'RU'\n",
    "# Проставление RU для русских компаний СУЭК\n",
    "\n",
    "SUEK_orgname_to_merge = data_work.loc[((data_work['holding'] == 'SUEK') & ~(data_work['orgName'].str.contains('\"')) & ~(data_work['orgName'].str.contains('ООО'))), 'orgName'].unique().tolist()\n",
    "# Список компаний СУЭК для merge\n",
    "past_data_to_dict = past_data.loc[past_data.orgName.isin(SUEK_orgname_to_merge), ['orgName', 'BU country']].drop_duplicates()\n",
    "SUEK_orgname_dict = {x:y for x,y in zip(past_data_to_dict.orgName, past_data_to_dict['BU country'])}\n",
    "# Спиосок компаний СУЭК для переименованя из прошлых данных\n",
    "\n",
    "data_work.loc[((data_work.BU_country.isna()) & (data_work.holding != 'EXTERNAL')), 'BU_country_full'] =\\\n",
    "      data_work.loc[((data_work.BU_country.isna()) & (data_work.holding != 'EXTERNAL')), 'orgName']\n",
    "data_work.BU_country_full =  data_work.BU_country_full.replace(SUEK_orgname_dict)\n",
    "# Переименование по СУЭК диск и запись в data_work\n",
    "\n",
    "RU_dict = {'RU': 'Russia'}\n",
    "data_work['BU_country_full'] = data_work.BU_country_full.replace(RU_dict)"
   ]
  },
  {
   "cell_type": "code",
   "execution_count": 17,
   "metadata": {},
   "outputs": [
    {
     "data": {
      "text/plain": [
       "BU_country_full\n",
       "False    399825\n",
       "Name: count, dtype: int64"
      ]
     },
     "execution_count": 17,
     "metadata": {},
     "output_type": "execute_result"
    }
   ],
   "source": [
    "data_work['BU_country_full'].isna().value_counts()"
   ]
  },
  {
   "cell_type": "code",
   "execution_count": null,
   "metadata": {},
   "outputs": [
    {
     "data": {
      "text/plain": [
       "BU_country=CP_country\n",
       "True     382281\n",
       "False     17544\n",
       "Name: count, dtype: int64"
      ]
     },
     "execution_count": 18,
     "metadata": {},
     "output_type": "execute_result"
    }
   ],
   "source": [
    "data_work['BU_country=CP_country'] = data_work['counterpartyCountryName'] == data_work['BU_country_full']\n",
    "\n",
    "filter_accountType_list = ['Other receivables', 'Provisions', 'Trade receivables', 'Advances to suppliers']\n",
    "\n",
    "SUEK_data = data_work.query('holding == \"SUEK\"')\n",
    "SUEK_data_Ex = SUEK_data.loc[((SUEK_data['BU_country=CP_country'] == False) & (SUEK_data.internalExternalEN == \"External\") & (SUEK_data['accountType'].isin(filter_accountType_list)))]\n",
    "SUEK_data_In = SUEK_data.loc[((SUEK_data['BU_country=CP_country'] == False) & (SUEK_data.internalExternalEN == \"Internal\") & (SUEK_data['accountType'].isin(filter_accountType_list)))]\n",
    "\n",
    "ECH_data = data_work.query('holding == \"EUROCHEM\"')\n",
    "ECH_data_Ex = ECH_data.loc[((ECH_data['BU_country=CP_country'] == False) & (ECH_data.internalExternalEN == \"External\") & (ECH_data['accountType'].isin(filter_accountType_list)))]\n",
    "ECH_data_In = ECH_data.loc[((ECH_data['BU_country=CP_country'] == False) & (ECH_data.internalExternalEN == \"Internal\") & (ECH_data['accountType'].isin(filter_accountType_list)))]"
   ]
  },
  {
   "cell_type": "code",
   "execution_count": 22,
   "metadata": {},
   "outputs": [],
   "source": [
    "# data_work.to_excel(Output_file, sheet_name=Sheet_in_output_file, index=False)"
   ]
  },
  {
   "cell_type": "code",
   "execution_count": null,
   "metadata": {},
   "outputs": [
    {
     "name": "stderr",
     "output_type": "stream",
     "text": [
      "C:\\Users\\KlimovaAnnaA\\AppData\\Local\\Temp\\ipykernel_15532\\4193317742.py:1: FutureWarning: The provided callable <built-in function sum> is currently using DataFrameGroupBy.sum. In a future version of pandas, the provided callable will be used directly. To keep current behavior pass the string \"sum\" instead.\n",
      "  SUEK_data_Ex_pivot = SUEK_data_Ex.pivot_table(values='presentAmountUSD',\\\n",
      "C:\\Users\\KlimovaAnnaA\\AppData\\Local\\Temp\\ipykernel_15532\\4193317742.py:4: FutureWarning: The provided callable <built-in function sum> is currently using DataFrameGroupBy.sum. In a future version of pandas, the provided callable will be used directly. To keep current behavior pass the string \"sum\" instead.\n",
      "  SUEK_data_In_pivot = SUEK_data_In.pivot_table(values='presentAmountUSD',\\\n",
      "C:\\Users\\KlimovaAnnaA\\AppData\\Local\\Temp\\ipykernel_15532\\4193317742.py:7: FutureWarning: The provided callable <built-in function sum> is currently using DataFrameGroupBy.sum. In a future version of pandas, the provided callable will be used directly. To keep current behavior pass the string \"sum\" instead.\n",
      "  ECH_data_Ex_pivot = ECH_data_Ex.pivot_table(values='presentAmountUSD',\\\n",
      "C:\\Users\\KlimovaAnnaA\\AppData\\Local\\Temp\\ipykernel_15532\\4193317742.py:10: FutureWarning: The provided callable <built-in function sum> is currently using DataFrameGroupBy.sum. In a future version of pandas, the provided callable will be used directly. To keep current behavior pass the string \"sum\" instead.\n",
      "  ECH_data_In_pivot = ECH_data_In.pivot_table(values='presentAmountUSD',\\\n"
     ]
    }
   ],
   "source": [
    "SUEK_data_Ex_pivot = SUEK_data_Ex.pivot_table(values='presentAmountUSD',\\\n",
    "                        index = 'counterpartyCountryName',\\\n",
    "                        aggfunc=sum).reset_index()\n",
    "SUEK_data_In_pivot = SUEK_data_In.pivot_table(values='presentAmountUSD',\\\n",
    "                        index = 'counterpartyCountryName',\\\n",
    "                        aggfunc=sum).reset_index()\n",
    "ECH_data_Ex_pivot = ECH_data_Ex.pivot_table(values='presentAmountUSD',\\\n",
    "                        index = 'counterpartyCountryName',\\\n",
    "                        aggfunc=sum).reset_index()\n",
    "ECH_data_In_pivot = ECH_data_In.pivot_table(values='presentAmountUSD',\\\n",
    "                        index = 'counterpartyCountryName',\\\n",
    "                        aggfunc=sum).reset_index()\n",
    "\n",
    "SUEK_data_Ex_pivot.to_excel(Output_file,sheet_name='SUEK_Ex', index=False)\n",
    "with pd.ExcelWriter(Output_file, engine='openpyxl', mode='a') as writer:\n",
    "    # SUEK_data_Ex_pivot.to_excel(writer,sheet_name='SUEK_Ex', index=False)\n",
    "    SUEK_data_In_pivot.to_excel(writer,sheet_name='SUEK_In', index=False)\n",
    "    ECH_data_Ex_pivot.to_excel(writer,sheet_name='ECH_Ex', index=False)\n",
    "    ECH_data_In_pivot.to_excel(writer,sheet_name='ECH_In', index=False)\n",
    "    # data_work.to_excel(writer, sheet_name=Sheet_in_output_file, index=False)"
   ]
  },
  {
   "cell_type": "code",
   "execution_count": 24,
   "metadata": {},
   "outputs": [
    {
     "data": {
      "text/html": [
       "<div>\n",
       "<style scoped>\n",
       "    .dataframe tbody tr th:only-of-type {\n",
       "        vertical-align: middle;\n",
       "    }\n",
       "\n",
       "    .dataframe tbody tr th {\n",
       "        vertical-align: top;\n",
       "    }\n",
       "\n",
       "    .dataframe thead th {\n",
       "        text-align: right;\n",
       "    }\n",
       "</style>\n",
       "<table border=\"1\" class=\"dataframe\">\n",
       "  <thead>\n",
       "    <tr style=\"text-align: right;\">\n",
       "      <th></th>\n",
       "      <th>counterpartyCountryName</th>\n",
       "      <th>presentAmountUSD</th>\n",
       "    </tr>\n",
       "  </thead>\n",
       "  <tbody>\n",
       "    <tr>\n",
       "      <th>0</th>\n",
       "      <td>Argentina</td>\n",
       "      <td>3.514170e+07</td>\n",
       "    </tr>\n",
       "    <tr>\n",
       "      <th>1</th>\n",
       "      <td>Belgium</td>\n",
       "      <td>1.353413e+08</td>\n",
       "    </tr>\n",
       "  </tbody>\n",
       "</table>\n",
       "</div>"
      ],
      "text/plain": [
       "  counterpartyCountryName  presentAmountUSD\n",
       "0               Argentina      3.514170e+07\n",
       "1                 Belgium      1.353413e+08"
      ]
     },
     "execution_count": 24,
     "metadata": {},
     "output_type": "execute_result"
    }
   ],
   "source": [
    "ECH_data_In_pivot.head(2)"
   ]
  },
  {
   "cell_type": "code",
   "execution_count": 25,
   "metadata": {},
   "outputs": [
    {
     "data": {
      "text/plain": [
       "35141701.51"
      ]
     },
     "execution_count": 25,
     "metadata": {},
     "output_type": "execute_result"
    }
   ],
   "source": [
    "check = data_work.query('holding == \"EUROCHEM\" & internalExternalEN ==\"Internal\"')\n",
    "check = check.loc[check['BU_country=CP_country'] == False]\n",
    "check = check.loc[check['accountType'].isin(filter_accountType_list)]\n",
    "check.loc[check['counterpartyCountryName'] == 'Argentina'].presentAmountUSD.sum()"
   ]
  },
  {
   "cell_type": "code",
   "execution_count": 27,
   "metadata": {},
   "outputs": [
    {
     "data": {
      "text/plain": [
       "Index(['rowType', 'reportType', 'reportDate', 'orgName', 'companyCode',\n",
       "       'codeBUsap', 'counterpartyNumber', 'partyInternational',\n",
       "       'internalExternalRU', 'internalExternalEN', 'partnerCategoryEN',\n",
       "       'partnerCategoryRU', 'groupRU', 'groupEN', 'counterpartyType',\n",
       "       'docTypeRU', 'countryReg', 'counterpartyCountryName',\n",
       "       'functionalCurrency', 'amountDocFunctional', 'amountFunctional',\n",
       "       'presentAmountUSD', 'reservAmount', 'debtHoldingCurrency',\n",
       "       'histAmountHoldCur', 'documentDate', 'dueDate', 'overdueDays',\n",
       "       'drDescription', 'debtDescription', 'itemDescription',\n",
       "       'termDescription', 'glAccount', 'accountType', 'glBalancing', 'bscCode',\n",
       "       'bsxValue', 'sourceSystem', 'creditId', 'ratingCam', 'holding',\n",
       "       'BU_country', 'BU_country_full', 'BU_country=CP_country'],\n",
       "      dtype='object')"
      ]
     },
     "execution_count": 27,
     "metadata": {},
     "output_type": "execute_result"
    }
   ],
   "source": [
    "data_work.columns"
   ]
  },
  {
   "cell_type": "code",
   "execution_count": 38,
   "metadata": {},
   "outputs": [
    {
     "data": {
      "text/html": [
       "<div>\n",
       "<style scoped>\n",
       "    .dataframe tbody tr th:only-of-type {\n",
       "        vertical-align: middle;\n",
       "    }\n",
       "\n",
       "    .dataframe tbody tr th {\n",
       "        vertical-align: top;\n",
       "    }\n",
       "\n",
       "    .dataframe thead th {\n",
       "        text-align: right;\n",
       "    }\n",
       "</style>\n",
       "<table border=\"1\" class=\"dataframe\">\n",
       "  <thead>\n",
       "    <tr style=\"text-align: right;\">\n",
       "      <th></th>\n",
       "      <th>orgName</th>\n",
       "      <th>BU_country_full</th>\n",
       "    </tr>\n",
       "  </thead>\n",
       "  <tbody>\n",
       "    <tr>\n",
       "      <th>246984</th>\n",
       "      <td>Black Sand Commodities</td>\n",
       "      <td>UAE</td>\n",
       "    </tr>\n",
       "    <tr>\n",
       "      <th>255482</th>\n",
       "      <td>SUEK AG (Swiss)</td>\n",
       "      <td>Switzerland</td>\n",
       "    </tr>\n",
       "    <tr>\n",
       "      <th>255484</th>\n",
       "      <td>SUEK Logistic Moscow</td>\n",
       "      <td>Russia</td>\n",
       "    </tr>\n",
       "    <tr>\n",
       "      <th>255579</th>\n",
       "      <td>SST Shanghai</td>\n",
       "      <td>China</td>\n",
       "    </tr>\n",
       "    <tr>\n",
       "      <th>255630</th>\n",
       "      <td>SST Harbin</td>\n",
       "      <td>China</td>\n",
       "    </tr>\n",
       "    <tr>\n",
       "      <th>256480</th>\n",
       "      <td>SUEK Polska</td>\n",
       "      <td>Poland</td>\n",
       "    </tr>\n",
       "    <tr>\n",
       "      <th>259388</th>\n",
       "      <td>SUEK Logistic (Swiss)</td>\n",
       "      <td>Switzerland</td>\n",
       "    </tr>\n",
       "    <tr>\n",
       "      <th>269315</th>\n",
       "      <td>SUEK Securities D.A.C.</td>\n",
       "      <td>Russia</td>\n",
       "    </tr>\n",
       "    <tr>\n",
       "      <th>283686</th>\n",
       "      <td>SUEK Korea Ltd</td>\n",
       "      <td>South Korea</td>\n",
       "    </tr>\n",
       "    <tr>\n",
       "      <th>295956</th>\n",
       "      <td>FERCO - Cyprus</td>\n",
       "      <td>Cyprus</td>\n",
       "    </tr>\n",
       "    <tr>\n",
       "      <th>317787</th>\n",
       "      <td>SUEK Assets Holding AG</td>\n",
       "      <td>Switzerland</td>\n",
       "    </tr>\n",
       "    <tr>\n",
       "      <th>318152</th>\n",
       "      <td>SUEK AG, HANOI RO</td>\n",
       "      <td>Vietnam</td>\n",
       "    </tr>\n",
       "  </tbody>\n",
       "</table>\n",
       "</div>"
      ],
      "text/plain": [
       "                       orgName BU_country_full\n",
       "246984  Black Sand Commodities             UAE\n",
       "255482         SUEK AG (Swiss)     Switzerland\n",
       "255484    SUEK Logistic Moscow          Russia\n",
       "255579            SST Shanghai           China\n",
       "255630              SST Harbin           China\n",
       "256480             SUEK Polska          Poland\n",
       "259388   SUEK Logistic (Swiss)     Switzerland\n",
       "269315  SUEK Securities D.A.C.          Russia\n",
       "283686          SUEK Korea Ltd     South Korea\n",
       "295956          FERCO - Cyprus          Cyprus\n",
       "317787  SUEK Assets Holding AG     Switzerland\n",
       "318152       SUEK AG, HANOI RO         Vietnam"
      ]
     },
     "execution_count": 38,
     "metadata": {},
     "output_type": "execute_result"
    }
   ],
   "source": [
    "check2 = data_work[['holding', 'orgName', 'companyCode', 'BU_country', 'BU_country_full','counterpartyCountryName', 'BU_country=CP_country', 'internalExternalEN', 'presentAmountUSD', 'accountType']]\n",
    "check2.query(\"BU_country_full != 'Russia' & holding == 'SUEK'\").orgName.unique()\n",
    "check2.query(\"holding == 'SUEK'\").loc[~((check2.orgName.str.contains('ООО')) | (check2.orgName.str.contains('\"'))), ['orgName', 'BU_country_full']].drop_duplicates()"
   ]
  }
 ],
 "metadata": {
  "kernelspec": {
   "display_name": "base",
   "language": "python",
   "name": "python3"
  },
  "language_info": {
   "codemirror_mode": {
    "name": "ipython",
    "version": 3
   },
   "file_extension": ".py",
   "mimetype": "text/x-python",
   "name": "python",
   "nbconvert_exporter": "python",
   "pygments_lexer": "ipython3",
   "version": "3.11.5"
  },
  "orig_nbformat": 4
 },
 "nbformat": 4,
 "nbformat_minor": 2
}
